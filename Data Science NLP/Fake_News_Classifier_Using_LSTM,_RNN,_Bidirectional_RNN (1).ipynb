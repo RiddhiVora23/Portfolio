{
  "cells": [
    {
      "cell_type": "markdown",
      "metadata": {
        "id": "8IZUyd2hwpCJ"
      },
      "source": [
        "Riddhi Dinesh Vora\n"
      ]
    },
    {
      "cell_type": "markdown",
      "metadata": {
        "id": "f6svonZuwqWv"
      },
      "source": [
        "## Fake News Classifier Using LSTM, RNN, Bidirectional RNN\n",
        "\n",
        "Dataset: https://www.kaggle.com/c/fake-news/data#"
      ]
    },
    {
      "cell_type": "markdown",
      "metadata": {
        "id": "ODGzbhxCws9W"
      },
      "source": [
        "##Abstract\n",
        "\n",
        "The \"Fake News lassifier\" project is a data-driven approach aimed at addressing this challenge. This project leverages the power of natural language processing and deep learning techniques to create a model capable of distinguishing between real and fake news articles.\n",
        "\n",
        "With a focus on the coherence, originality, and fluency of the generated texts, this project explores the implementation and evaluation of multiple deep learning models, including Simple Recurrent Neural Networks (RNN), Long Short-Term Memory (LSTM) networks, and Bidirectional LSTMs. These models are trained on a labeled dataset of news articles to predict the authenticity of the content.\n",
        "\n",
        "In addition to model development, the project includes comprehensive data preprocessing steps, which involve text cleaning, stemming, and one-hot encoding. Visualization of the training and validation performance metrics offers insights into the models' training processes.\n",
        "\n",
        "As fake news detection technology holds the potential to influence information dissemination and public perception, the ethical aspects of such technology are also considered. This includes addressing concerns related to data bias, transparency, accountability, and privacy.\n",
        "\n",
        "The \"FakeNewsClassifier\" project strives to strike a balance between technological innovation and ethical responsibility. By providing a practical example of fake news detection, it contributes to the broader discourse on the responsible use of artificial intelligence in addressing contemporary challenges related to misinformation.\n",
        "\n",
        "\n",
        "\n",
        "\n"
      ]
    },
    {
      "cell_type": "markdown",
      "metadata": {
        "id": "ujQn_A9HxapO"
      },
      "source": [
        "##Workflow\n",
        "\n",
        "**1.Data Collection:**\n",
        "The project begins by collecting a dataset of news articles, including both real and fake news sources. In this case, the dataset includes labeled articles to serve as training and testing data.\n",
        "\n",
        "**2.Data Preprocessing:**\n",
        "* Text cleaning: The text data is preprocessed to remove any non-alphabetical characters and symbols, leaving only the essential text content.\n",
        "Text normalization: The text is converted to lowercase to ensure consistency.\n",
        "* Stopword removal: Common stopwords (e.g., \"and,\" \"the,\" \"in\") are removed from the text as they do not carry significant meaning for classification.\n",
        "* Stemming: Words are stemmed to their root form to reduce dimensionality and improve model efficiency.\n",
        "* One-Hot Encoding: The processed text is converted into numerical format using one-hot encoding, enabling it to be fed into machine learning models.\n",
        "\n",
        "**3.Model Building:**\n",
        "Multiple deep learning models are implemented, including Simple Recurrent Neural Networks (RNN), Long Short-Term Memory (LSTM) networks, and Bidirectional LSTMs.\n",
        "Each model is designed to classify news articles as either real or fake based on their textual content.\n",
        "Hyperparameters, such as embedding dimensions and dropout rates, are configured for each model to optimize performance.\n",
        "\n",
        "**4.Model Training:**\n",
        "The models are trained on the preprocessed and one-hot encoded text data. This involves iteratively adjusting the model's internal parameters to minimize the classification error.\n",
        "Training metrics, such as loss and accuracy, are monitored to assess the model's performance.\n",
        "\n",
        "**5.Model Evaluation:**\n",
        "The trained models are evaluated using a separate test dataset to measure their accuracy and ability to classify real and fake news accurately.\n",
        "Additional metrics, such as precision, recall, and F1-score, are computed to assess the model's performance comprehensively.\n",
        "\n",
        "**7.Ethical Considerations:**\n",
        "Ethical concerns related to the project are carefully addressed. These concerns may include data bias, transparency, accountability, and privacy.\n",
        "Efforts are made to ensure that the project adheres to responsible AI practices.\n",
        "\n",
        "**8.Visualization:**\n",
        "The project includes the visualization of training and validation performance metrics for each model, providing insights into their training processes.\n",
        "\n",
        "**9.Conclusion and Recommendations:**\n",
        "The project concludes by summarizing the results and performance of the various models.\n",
        "Recommendations for further improvements or research directions are provided.\n",
        "\n",
        "\n",
        "This workflow outlines the key steps involved in the \"FakeNewsClassifier\" project, from data collection to model deployment, with a strong focus on ethical considerations and responsible AI practices.\n",
        "\n",
        "\n",
        "\n",
        "\n"
      ]
    },
    {
      "cell_type": "markdown",
      "metadata": {
        "id": "zZABZvo_yvXh"
      },
      "source": [
        "## Import Libraries"
      ]
    },
    {
      "cell_type": "code",
      "execution_count": null,
      "metadata": {
        "colab": {
          "base_uri": "https://localhost:8080/"
        },
        "id": "5BKyZewBjP7h",
        "outputId": "a9c37651-84fc-4108-83bc-8d07c4953aaf"
      },
      "outputs": [
        {
          "name": "stderr",
          "output_type": "stream",
          "text": [
            "[nltk_data] Downloading package stopwords to /root/nltk_data...\n",
            "[nltk_data]   Unzipping corpora/stopwords.zip.\n"
          ]
        }
      ],
      "source": [
        "import pandas as pd\n",
        "import numpy as np\n",
        "import matplotlib.pyplot as plt\n",
        "import seaborn as sns\n",
        "import nltk\n",
        "import re\n",
        "from nltk.corpus import stopwords\n",
        "nltk.download('stopwords')\n",
        "from nltk.stem.porter import PorterStemmer\n",
        "import tensorflow as tf\n",
        "from tensorflow.keras.layers import Embedding\n",
        "from tensorflow.keras.preprocessing.sequence import pad_sequences\n",
        "from tensorflow.keras.models import Sequential\n",
        "from tensorflow.keras.preprocessing.text import one_hot\n",
        "from tensorflow.keras.layers import Dropout\n",
        "from tensorflow.keras.layers import LSTM, SimpleRNN, Bidirectional\n",
        "from tensorflow.keras.layers import Dense\n",
        "from sklearn.model_selection import train_test_split\n",
        "from sklearn.metrics import confusion_matrix\n",
        "from sklearn.metrics import accuracy_score\n",
        "from sklearn.metrics import classification_report"
      ]
    },
    {
      "cell_type": "code",
      "execution_count": null,
      "metadata": {
        "id": "AFM90CUfjalM"
      },
      "outputs": [],
      "source": [
        "import warnings\n",
        "warnings.filterwarnings(\"ignore\")"
      ]
    },
    {
      "cell_type": "markdown",
      "metadata": {
        "id": "FeGhZxMgy0ar"
      },
      "source": [
        "## Import dataset"
      ]
    },
    {
      "cell_type": "code",
      "execution_count": null,
      "metadata": {
        "colab": {
          "base_uri": "https://localhost:8080/"
        },
        "id": "OpTz7lspjchq",
        "outputId": "47fb8bb5-eed3-4d47-9be5-f151f4ae3c2b"
      },
      "outputs": [
        {
          "name": "stdout",
          "output_type": "stream",
          "text": [
            "Mounted at /content/drive\n"
          ]
        }
      ],
      "source": [
        "from google.colab import drive\n",
        "drive.mount('/content/drive')\n",
        "train = pd.read_csv('/content/drive/My Drive/train.csv')\n",
        "test = pd.read_csv('/content/drive/My Drive/test.csv')\n",
        "\n",
        "\n"
      ]
    },
    {
      "cell_type": "code",
      "execution_count": null,
      "metadata": {
        "colab": {
          "base_uri": "https://localhost:8080/",
          "height": 206
        },
        "id": "TxOMcz2ylXrj",
        "outputId": "8a27a96d-1fe9-432f-e245-85eab8a77571"
      },
      "outputs": [
        {
          "data": {
            "text/html": [
              "\n",
              "  <div id=\"df-b40e50aa-333a-4dd5-96dd-e75599c25740\" class=\"colab-df-container\">\n",
              "    <div>\n",
              "<style scoped>\n",
              "    .dataframe tbody tr th:only-of-type {\n",
              "        vertical-align: middle;\n",
              "    }\n",
              "\n",
              "    .dataframe tbody tr th {\n",
              "        vertical-align: top;\n",
              "    }\n",
              "\n",
              "    .dataframe thead th {\n",
              "        text-align: right;\n",
              "    }\n",
              "</style>\n",
              "<table border=\"1\" class=\"dataframe\">\n",
              "  <thead>\n",
              "    <tr style=\"text-align: right;\">\n",
              "      <th></th>\n",
              "      <th>id</th>\n",
              "      <th>title</th>\n",
              "      <th>author</th>\n",
              "      <th>text</th>\n",
              "      <th>label</th>\n",
              "    </tr>\n",
              "  </thead>\n",
              "  <tbody>\n",
              "    <tr>\n",
              "      <th>0</th>\n",
              "      <td>0</td>\n",
              "      <td>House Dem Aide: We Didn’t Even See Comey’s Let...</td>\n",
              "      <td>Darrell Lucus</td>\n",
              "      <td>House Dem Aide: We Didn’t Even See Comey’s Let...</td>\n",
              "      <td>1</td>\n",
              "    </tr>\n",
              "    <tr>\n",
              "      <th>1</th>\n",
              "      <td>1</td>\n",
              "      <td>FLYNN: Hillary Clinton, Big Woman on Campus - ...</td>\n",
              "      <td>Daniel J. Flynn</td>\n",
              "      <td>Ever get the feeling your life circles the rou...</td>\n",
              "      <td>0</td>\n",
              "    </tr>\n",
              "    <tr>\n",
              "      <th>2</th>\n",
              "      <td>2</td>\n",
              "      <td>Why the Truth Might Get You Fired</td>\n",
              "      <td>Consortiumnews.com</td>\n",
              "      <td>Why the Truth Might Get You Fired October 29, ...</td>\n",
              "      <td>1</td>\n",
              "    </tr>\n",
              "    <tr>\n",
              "      <th>3</th>\n",
              "      <td>3</td>\n",
              "      <td>15 Civilians Killed In Single US Airstrike Hav...</td>\n",
              "      <td>Jessica Purkiss</td>\n",
              "      <td>Videos 15 Civilians Killed In Single US Airstr...</td>\n",
              "      <td>1</td>\n",
              "    </tr>\n",
              "    <tr>\n",
              "      <th>4</th>\n",
              "      <td>4</td>\n",
              "      <td>Iranian woman jailed for fictional unpublished...</td>\n",
              "      <td>Howard Portnoy</td>\n",
              "      <td>Print \\nAn Iranian woman has been sentenced to...</td>\n",
              "      <td>1</td>\n",
              "    </tr>\n",
              "  </tbody>\n",
              "</table>\n",
              "</div>\n",
              "    <div class=\"colab-df-buttons\">\n",
              "\n",
              "  <div class=\"colab-df-container\">\n",
              "    <button class=\"colab-df-convert\" onclick=\"convertToInteractive('df-b40e50aa-333a-4dd5-96dd-e75599c25740')\"\n",
              "            title=\"Convert this dataframe to an interactive table.\"\n",
              "            style=\"display:none;\">\n",
              "\n",
              "  <svg xmlns=\"http://www.w3.org/2000/svg\" height=\"24px\" viewBox=\"0 -960 960 960\">\n",
              "    <path d=\"M120-120v-720h720v720H120Zm60-500h600v-160H180v160Zm220 220h160v-160H400v160Zm0 220h160v-160H400v160ZM180-400h160v-160H180v160Zm440 0h160v-160H620v160ZM180-180h160v-160H180v160Zm440 0h160v-160H620v160Z\"/>\n",
              "  </svg>\n",
              "    </button>\n",
              "\n",
              "  <style>\n",
              "    .colab-df-container {\n",
              "      display:flex;\n",
              "      gap: 12px;\n",
              "    }\n",
              "\n",
              "    .colab-df-convert {\n",
              "      background-color: #E8F0FE;\n",
              "      border: none;\n",
              "      border-radius: 50%;\n",
              "      cursor: pointer;\n",
              "      display: none;\n",
              "      fill: #1967D2;\n",
              "      height: 32px;\n",
              "      padding: 0 0 0 0;\n",
              "      width: 32px;\n",
              "    }\n",
              "\n",
              "    .colab-df-convert:hover {\n",
              "      background-color: #E2EBFA;\n",
              "      box-shadow: 0px 1px 2px rgba(60, 64, 67, 0.3), 0px 1px 3px 1px rgba(60, 64, 67, 0.15);\n",
              "      fill: #174EA6;\n",
              "    }\n",
              "\n",
              "    .colab-df-buttons div {\n",
              "      margin-bottom: 4px;\n",
              "    }\n",
              "\n",
              "    [theme=dark] .colab-df-convert {\n",
              "      background-color: #3B4455;\n",
              "      fill: #D2E3FC;\n",
              "    }\n",
              "\n",
              "    [theme=dark] .colab-df-convert:hover {\n",
              "      background-color: #434B5C;\n",
              "      box-shadow: 0px 1px 3px 1px rgba(0, 0, 0, 0.15);\n",
              "      filter: drop-shadow(0px 1px 2px rgba(0, 0, 0, 0.3));\n",
              "      fill: #FFFFFF;\n",
              "    }\n",
              "  </style>\n",
              "\n",
              "    <script>\n",
              "      const buttonEl =\n",
              "        document.querySelector('#df-b40e50aa-333a-4dd5-96dd-e75599c25740 button.colab-df-convert');\n",
              "      buttonEl.style.display =\n",
              "        google.colab.kernel.accessAllowed ? 'block' : 'none';\n",
              "\n",
              "      async function convertToInteractive(key) {\n",
              "        const element = document.querySelector('#df-b40e50aa-333a-4dd5-96dd-e75599c25740');\n",
              "        const dataTable =\n",
              "          await google.colab.kernel.invokeFunction('convertToInteractive',\n",
              "                                                    [key], {});\n",
              "        if (!dataTable) return;\n",
              "\n",
              "        const docLinkHtml = 'Like what you see? Visit the ' +\n",
              "          '<a target=\"_blank\" href=https://colab.research.google.com/notebooks/data_table.ipynb>data table notebook</a>'\n",
              "          + ' to learn more about interactive tables.';\n",
              "        element.innerHTML = '';\n",
              "        dataTable['output_type'] = 'display_data';\n",
              "        await google.colab.output.renderOutput(dataTable, element);\n",
              "        const docLink = document.createElement('div');\n",
              "        docLink.innerHTML = docLinkHtml;\n",
              "        element.appendChild(docLink);\n",
              "      }\n",
              "    </script>\n",
              "  </div>\n",
              "\n",
              "\n",
              "<div id=\"df-a33e1f2b-cd7c-4325-8448-4fe89ea3f79a\">\n",
              "  <button class=\"colab-df-quickchart\" onclick=\"quickchart('df-a33e1f2b-cd7c-4325-8448-4fe89ea3f79a')\"\n",
              "            title=\"Suggest charts.\"\n",
              "            style=\"display:none;\">\n",
              "\n",
              "<svg xmlns=\"http://www.w3.org/2000/svg\" height=\"24px\"viewBox=\"0 0 24 24\"\n",
              "     width=\"24px\">\n",
              "    <g>\n",
              "        <path d=\"M19 3H5c-1.1 0-2 .9-2 2v14c0 1.1.9 2 2 2h14c1.1 0 2-.9 2-2V5c0-1.1-.9-2-2-2zM9 17H7v-7h2v7zm4 0h-2V7h2v10zm4 0h-2v-4h2v4z\"/>\n",
              "    </g>\n",
              "</svg>\n",
              "  </button>\n",
              "\n",
              "<style>\n",
              "  .colab-df-quickchart {\n",
              "      --bg-color: #E8F0FE;\n",
              "      --fill-color: #1967D2;\n",
              "      --hover-bg-color: #E2EBFA;\n",
              "      --hover-fill-color: #174EA6;\n",
              "      --disabled-fill-color: #AAA;\n",
              "      --disabled-bg-color: #DDD;\n",
              "  }\n",
              "\n",
              "  [theme=dark] .colab-df-quickchart {\n",
              "      --bg-color: #3B4455;\n",
              "      --fill-color: #D2E3FC;\n",
              "      --hover-bg-color: #434B5C;\n",
              "      --hover-fill-color: #FFFFFF;\n",
              "      --disabled-bg-color: #3B4455;\n",
              "      --disabled-fill-color: #666;\n",
              "  }\n",
              "\n",
              "  .colab-df-quickchart {\n",
              "    background-color: var(--bg-color);\n",
              "    border: none;\n",
              "    border-radius: 50%;\n",
              "    cursor: pointer;\n",
              "    display: none;\n",
              "    fill: var(--fill-color);\n",
              "    height: 32px;\n",
              "    padding: 0;\n",
              "    width: 32px;\n",
              "  }\n",
              "\n",
              "  .colab-df-quickchart:hover {\n",
              "    background-color: var(--hover-bg-color);\n",
              "    box-shadow: 0 1px 2px rgba(60, 64, 67, 0.3), 0 1px 3px 1px rgba(60, 64, 67, 0.15);\n",
              "    fill: var(--button-hover-fill-color);\n",
              "  }\n",
              "\n",
              "  .colab-df-quickchart-complete:disabled,\n",
              "  .colab-df-quickchart-complete:disabled:hover {\n",
              "    background-color: var(--disabled-bg-color);\n",
              "    fill: var(--disabled-fill-color);\n",
              "    box-shadow: none;\n",
              "  }\n",
              "\n",
              "  .colab-df-spinner {\n",
              "    border: 2px solid var(--fill-color);\n",
              "    border-color: transparent;\n",
              "    border-bottom-color: var(--fill-color);\n",
              "    animation:\n",
              "      spin 1s steps(1) infinite;\n",
              "  }\n",
              "\n",
              "  @keyframes spin {\n",
              "    0% {\n",
              "      border-color: transparent;\n",
              "      border-bottom-color: var(--fill-color);\n",
              "      border-left-color: var(--fill-color);\n",
              "    }\n",
              "    20% {\n",
              "      border-color: transparent;\n",
              "      border-left-color: var(--fill-color);\n",
              "      border-top-color: var(--fill-color);\n",
              "    }\n",
              "    30% {\n",
              "      border-color: transparent;\n",
              "      border-left-color: var(--fill-color);\n",
              "      border-top-color: var(--fill-color);\n",
              "      border-right-color: var(--fill-color);\n",
              "    }\n",
              "    40% {\n",
              "      border-color: transparent;\n",
              "      border-right-color: var(--fill-color);\n",
              "      border-top-color: var(--fill-color);\n",
              "    }\n",
              "    60% {\n",
              "      border-color: transparent;\n",
              "      border-right-color: var(--fill-color);\n",
              "    }\n",
              "    80% {\n",
              "      border-color: transparent;\n",
              "      border-right-color: var(--fill-color);\n",
              "      border-bottom-color: var(--fill-color);\n",
              "    }\n",
              "    90% {\n",
              "      border-color: transparent;\n",
              "      border-bottom-color: var(--fill-color);\n",
              "    }\n",
              "  }\n",
              "</style>\n",
              "\n",
              "  <script>\n",
              "    async function quickchart(key) {\n",
              "      const quickchartButtonEl =\n",
              "        document.querySelector('#' + key + ' button');\n",
              "      quickchartButtonEl.disabled = true;  // To prevent multiple clicks.\n",
              "      quickchartButtonEl.classList.add('colab-df-spinner');\n",
              "      try {\n",
              "        const charts = await google.colab.kernel.invokeFunction(\n",
              "            'suggestCharts', [key], {});\n",
              "      } catch (error) {\n",
              "        console.error('Error during call to suggestCharts:', error);\n",
              "      }\n",
              "      quickchartButtonEl.classList.remove('colab-df-spinner');\n",
              "      quickchartButtonEl.classList.add('colab-df-quickchart-complete');\n",
              "    }\n",
              "    (() => {\n",
              "      let quickchartButtonEl =\n",
              "        document.querySelector('#df-a33e1f2b-cd7c-4325-8448-4fe89ea3f79a button');\n",
              "      quickchartButtonEl.style.display =\n",
              "        google.colab.kernel.accessAllowed ? 'block' : 'none';\n",
              "    })();\n",
              "  </script>\n",
              "</div>\n",
              "    </div>\n",
              "  </div>\n"
            ],
            "text/plain": [
              "   id                                              title              author  \\\n",
              "0   0  House Dem Aide: We Didn’t Even See Comey’s Let...       Darrell Lucus   \n",
              "1   1  FLYNN: Hillary Clinton, Big Woman on Campus - ...     Daniel J. Flynn   \n",
              "2   2                  Why the Truth Might Get You Fired  Consortiumnews.com   \n",
              "3   3  15 Civilians Killed In Single US Airstrike Hav...     Jessica Purkiss   \n",
              "4   4  Iranian woman jailed for fictional unpublished...      Howard Portnoy   \n",
              "\n",
              "                                                text  label  \n",
              "0  House Dem Aide: We Didn’t Even See Comey’s Let...      1  \n",
              "1  Ever get the feeling your life circles the rou...      0  \n",
              "2  Why the Truth Might Get You Fired October 29, ...      1  \n",
              "3  Videos 15 Civilians Killed In Single US Airstr...      1  \n",
              "4  Print \\nAn Iranian woman has been sentenced to...      1  "
            ]
          },
          "execution_count": 4,
          "metadata": {},
          "output_type": "execute_result"
        }
      ],
      "source": [
        "train.head()"
      ]
    },
    {
      "cell_type": "code",
      "execution_count": null,
      "metadata": {
        "id": "mGgNwBNpj7w7"
      },
      "outputs": [],
      "source": [
        "df = train.dropna()"
      ]
    },
    {
      "cell_type": "code",
      "execution_count": null,
      "metadata": {
        "colab": {
          "base_uri": "https://localhost:8080/"
        },
        "id": "R_m8jFEalma3",
        "outputId": "e9bd9d82-57c3-4185-ce49-e0c89dc478d1"
      },
      "outputs": [
        {
          "data": {
            "text/plain": [
              "(18285, 4)"
            ]
          },
          "execution_count": 6,
          "metadata": {},
          "output_type": "execute_result"
        }
      ],
      "source": [
        "X = df.drop(\"label\", axis = 1)\n",
        "X.shape"
      ]
    },
    {
      "cell_type": "code",
      "execution_count": null,
      "metadata": {
        "colab": {
          "base_uri": "https://localhost:8080/"
        },
        "id": "6vJWWKWDlnz_",
        "outputId": "a210563e-0927-472a-8186-4d4ca8be6579"
      },
      "outputs": [
        {
          "data": {
            "text/plain": [
              "(18285,)"
            ]
          },
          "execution_count": 7,
          "metadata": {},
          "output_type": "execute_result"
        }
      ],
      "source": [
        "y = df[\"label\"]\n",
        "y.shape"
      ]
    },
    {
      "cell_type": "code",
      "execution_count": null,
      "metadata": {
        "colab": {
          "base_uri": "https://localhost:8080/",
          "height": 35
        },
        "id": "6ZNGU8bblpyo",
        "outputId": "d0f32531-f189-4298-aa31-700edd920f66"
      },
      "outputs": [
        {
          "data": {
            "application/vnd.google.colaboratory.intrinsic+json": {
              "type": "string"
            },
            "text/plain": [
              "'FLYNN: Hillary Clinton, Big Woman on Campus - Breitbart'"
            ]
          },
          "execution_count": 10,
          "metadata": {},
          "output_type": "execute_result"
        }
      ],
      "source": [
        "messages=X.copy()\n",
        "messages['title'][1]"
      ]
    },
    {
      "cell_type": "code",
      "execution_count": null,
      "metadata": {
        "id": "iifgRzy6lrXr"
      },
      "outputs": [],
      "source": [
        "messages.reset_index(inplace=True)"
      ]
    },
    {
      "cell_type": "markdown",
      "metadata": {
        "id": "6ITUV16Cy6sD"
      },
      "source": [
        "##Data PreProcessing\n"
      ]
    },
    {
      "cell_type": "code",
      "execution_count": null,
      "metadata": {
        "id": "WuofYna6lswJ"
      },
      "outputs": [],
      "source": [
        "ps = PorterStemmer()\n",
        "corpus = []\n",
        "for i in range(0, len(messages)):\n",
        "    review = re.sub('[^a-zA-Z]', ' ', messages['title'][i])\n",
        "    review = review.lower()\n",
        "    review = review.split()\n",
        "\n",
        "    review = [ps.stem(word) for word in review if not word in stopwords.words('english')]\n",
        "    review = ' '.join(review)\n",
        "    corpus.append(review)"
      ]
    },
    {
      "cell_type": "code",
      "execution_count": null,
      "metadata": {
        "id": "4mgONq0ylugY"
      },
      "outputs": [],
      "source": [
        "voc = 10000\n",
        "onehot_repr=[one_hot(words,voc)for words in corpus]"
      ]
    },
    {
      "cell_type": "code",
      "execution_count": null,
      "metadata": {
        "colab": {
          "base_uri": "https://localhost:8080/"
        },
        "id": "dwxGxRm-lwow",
        "outputId": "9b00bdc3-e11a-479e-cc47-0e89fa2d3458"
      },
      "outputs": [
        {
          "name": "stdout",
          "output_type": "stream",
          "text": [
            "[[   0    0    0 ... 2470 7255 9734]\n",
            " [   0    0    0 ...  123 2720 7183]\n",
            " [   0    0    0 ... 7599  826 2525]\n",
            " ...\n",
            " [   0    0    0 ... 9869 5873 3173]\n",
            " [   0    0    0 ... 8392 2718 6200]\n",
            " [   0    0    0 ... 3400  645  966]]\n"
          ]
        }
      ],
      "source": [
        "sent_length=20\n",
        "embedded_docs=pad_sequences(onehot_repr,padding='pre',maxlen=sent_length)\n",
        "print(embedded_docs)"
      ]
    },
    {
      "cell_type": "code",
      "execution_count": null,
      "metadata": {
        "colab": {
          "base_uri": "https://localhost:8080/"
        },
        "id": "RlHuRZn_lyII",
        "outputId": "652c1704-3429-45ab-ac62-ef8707c9082d"
      },
      "outputs": [
        {
          "data": {
            "text/plain": [
              "(18285, (18285,))"
            ]
          },
          "execution_count": 15,
          "metadata": {},
          "output_type": "execute_result"
        }
      ],
      "source": [
        "len(embedded_docs),y.shape"
      ]
    },
    {
      "cell_type": "code",
      "execution_count": null,
      "metadata": {
        "colab": {
          "base_uri": "https://localhost:8080/"
        },
        "id": "q3t76Wrglzbw",
        "outputId": "1245aa1d-8515-46b1-81e5-919990a9fcf9"
      },
      "outputs": [
        {
          "data": {
            "text/plain": [
              "((18285, 20), (18285,))"
            ]
          },
          "execution_count": 16,
          "metadata": {},
          "output_type": "execute_result"
        }
      ],
      "source": [
        "X_final=np.array(embedded_docs)\n",
        "y_final=np.array(y)\n",
        "\n",
        "X_final.shape,y_final.shape"
      ]
    },
    {
      "cell_type": "code",
      "execution_count": null,
      "metadata": {
        "id": "hSmLa0y7l0xS"
      },
      "outputs": [],
      "source": [
        "X_train, X_test, y_train, y_test = train_test_split(X_final, y_final, test_size=0.33, random_state=42)"
      ]
    },
    {
      "cell_type": "code",
      "execution_count": null,
      "metadata": {
        "colab": {
          "base_uri": "https://localhost:8080/"
        },
        "id": "9ZyW08dwl2nL",
        "outputId": "59232449-f2d3-45d0-ee24-cf0b39ad40a8"
      },
      "outputs": [
        {
          "data": {
            "text/plain": [
              "array([1, 1, 0, ..., 0, 0, 1])"
            ]
          },
          "execution_count": 18,
          "metadata": {},
          "output_type": "execute_result"
        }
      ],
      "source": [
        "y_train"
      ]
    },
    {
      "cell_type": "markdown",
      "metadata": {
        "id": "hRGuVRblzB8W"
      },
      "source": [
        "## RNN Model"
      ]
    },
    {
      "cell_type": "code",
      "execution_count": null,
      "metadata": {
        "colab": {
          "base_uri": "https://localhost:8080/"
        },
        "id": "N7nB0lKhl362",
        "outputId": "65270f34-9ab4-407b-9ab9-c2ffd2897f9e"
      },
      "outputs": [
        {
          "name": "stdout",
          "output_type": "stream",
          "text": [
            "Model: \"sequential\"\n",
            "_________________________________________________________________\n",
            " Layer (type)                Output Shape              Param #   \n",
            "=================================================================\n",
            " embedding (Embedding)       (None, 20, 40)            400000    \n",
            "                                                                 \n",
            " simple_rnn (SimpleRNN)      (None, 100)               14100     \n",
            "                                                                 \n",
            " dense (Dense)               (None, 1)                 101       \n",
            "                                                                 \n",
            "=================================================================\n",
            "Total params: 414201 (1.58 MB)\n",
            "Trainable params: 414201 (1.58 MB)\n",
            "Non-trainable params: 0 (0.00 Byte)\n",
            "_________________________________________________________________\n"
          ]
        }
      ],
      "source": [
        "# RNN Model\n",
        "\n",
        "embedding_vector_features=40\n",
        "\n",
        "rnn = Sequential()\n",
        "rnn.add(Embedding(voc,embedding_vector_features,input_length=sent_length))\n",
        "rnn.add(SimpleRNN(100,return_sequences=False))\n",
        "\n",
        "rnn.add(Dense(1, activation='sigmoid'))\n",
        "\n",
        "rnn.summary()"
      ]
    },
    {
      "cell_type": "code",
      "execution_count": null,
      "metadata": {
        "colab": {
          "base_uri": "https://localhost:8080/"
        },
        "id": "xDvYU8v5l6Fl",
        "outputId": "c3716908-9d6f-469a-f5b9-5299b1f4fa7b"
      },
      "outputs": [
        {
          "name": "stdout",
          "output_type": "stream",
          "text": [
            "Epoch 1/20\n",
            "383/383 [==============================] - 7s 15ms/step - loss: 0.2780 - accuracy: 0.8753 - val_loss: 0.1936 - val_accuracy: 0.9158\n",
            "Epoch 2/20\n",
            "383/383 [==============================] - 7s 19ms/step - loss: 0.0834 - accuracy: 0.9709 - val_loss: 0.2299 - val_accuracy: 0.9100\n",
            "Epoch 3/20\n",
            "383/383 [==============================] - 5s 14ms/step - loss: 0.0140 - accuracy: 0.9959 - val_loss: 0.3193 - val_accuracy: 0.9165\n",
            "Epoch 4/20\n",
            "383/383 [==============================] - 8s 20ms/step - loss: 0.0027 - accuracy: 0.9997 - val_loss: 0.3659 - val_accuracy: 0.9158\n",
            "Epoch 5/20\n",
            "383/383 [==============================] - 6s 15ms/step - loss: 7.0957e-04 - accuracy: 0.9999 - val_loss: 0.3871 - val_accuracy: 0.9122\n",
            "Epoch 6/20\n",
            "383/383 [==============================] - 7s 18ms/step - loss: 1.8780e-04 - accuracy: 1.0000 - val_loss: 0.4237 - val_accuracy: 0.9153\n",
            "Epoch 7/20\n",
            "383/383 [==============================] - 6s 15ms/step - loss: 9.1295e-05 - accuracy: 1.0000 - val_loss: 0.4375 - val_accuracy: 0.9152\n",
            "Epoch 8/20\n",
            "383/383 [==============================] - 6s 16ms/step - loss: 6.0719e-05 - accuracy: 1.0000 - val_loss: 0.4494 - val_accuracy: 0.9150\n",
            "Epoch 9/20\n",
            "383/383 [==============================] - 7s 17ms/step - loss: 4.3606e-05 - accuracy: 1.0000 - val_loss: 0.4655 - val_accuracy: 0.9147\n",
            "Epoch 10/20\n",
            "383/383 [==============================] - 6s 16ms/step - loss: 3.2348e-05 - accuracy: 1.0000 - val_loss: 0.4823 - val_accuracy: 0.9145\n",
            "Epoch 11/20\n",
            "383/383 [==============================] - 7s 19ms/step - loss: 2.4537e-05 - accuracy: 1.0000 - val_loss: 0.4888 - val_accuracy: 0.9145\n",
            "Epoch 12/20\n",
            "383/383 [==============================] - 6s 15ms/step - loss: 1.8871e-05 - accuracy: 1.0000 - val_loss: 0.5016 - val_accuracy: 0.9145\n",
            "Epoch 13/20\n",
            "383/383 [==============================] - 7s 19ms/step - loss: 1.4574e-05 - accuracy: 1.0000 - val_loss: 0.5139 - val_accuracy: 0.9145\n",
            "Epoch 14/20\n",
            "383/383 [==============================] - 6s 15ms/step - loss: 1.1387e-05 - accuracy: 1.0000 - val_loss: 0.5268 - val_accuracy: 0.9142\n",
            "Epoch 15/20\n",
            "383/383 [==============================] - 8s 20ms/step - loss: 8.9763e-06 - accuracy: 1.0000 - val_loss: 0.5417 - val_accuracy: 0.9140\n",
            "Epoch 16/20\n",
            "383/383 [==============================] - 6s 15ms/step - loss: 7.1277e-06 - accuracy: 1.0000 - val_loss: 0.5467 - val_accuracy: 0.9142\n",
            "Epoch 17/20\n",
            "383/383 [==============================] - 7s 17ms/step - loss: 5.6386e-06 - accuracy: 1.0000 - val_loss: 0.5633 - val_accuracy: 0.9138\n",
            "Epoch 18/20\n",
            "383/383 [==============================] - 6s 17ms/step - loss: 4.4931e-06 - accuracy: 1.0000 - val_loss: 0.5724 - val_accuracy: 0.9128\n",
            "Epoch 19/20\n",
            "383/383 [==============================] - 6s 17ms/step - loss: 3.5928e-06 - accuracy: 1.0000 - val_loss: 0.5837 - val_accuracy: 0.9130\n",
            "Epoch 20/20\n",
            "383/383 [==============================] - 7s 18ms/step - loss: 2.8819e-06 - accuracy: 1.0000 - val_loss: 0.5838 - val_accuracy: 0.9115\n"
          ]
        }
      ],
      "source": [
        "rnn.compile(optimizer='adam', loss='binary_crossentropy', metrics=['accuracy'])\n",
        "history = rnn.fit(X_train, y_train,epochs=20,batch_size=32,validation_data=(X_test,y_test))"
      ]
    },
    {
      "cell_type": "code",
      "execution_count": null,
      "metadata": {
        "colab": {
          "base_uri": "https://localhost:8080/",
          "height": 507
        },
        "id": "7IU06Ad2l74m",
        "outputId": "d2443fea-7f8f-4488-dd57-b25c1544e9c6"
      },
      "outputs": [
        {
          "data": {
            "image/png": "[encoded data removed]",
            "text/plain": [
              "<Figure size 1200x500 with 2 Axes>"
            ]
          },
          "metadata": {},
          "output_type": "display_data"
        }
      ],
      "source": [
        "plt.figure(figsize=(12, 5))\n",
        "\n",
        "#  Accuracy\n",
        "plt.subplot(1, 2, 1)\n",
        "plt.plot(history.history[\"accuracy\"], label=\"Training Accuracy\", c=\"red\")\n",
        "plt.plot(history.history[\"val_accuracy\"], label=\"Validation Accuracy\", c=\"blue\")\n",
        "plt.title(\"Accuracy\")\n",
        "plt.xlabel(\"Epoch\")\n",
        "plt.ylabel(\"Accuracy\")\n",
        "plt.legend()\n",
        "\n",
        "#  Loss\n",
        "plt.subplot(1, 2, 2)\n",
        "plt.plot(history.history[\"loss\"], label=\"Training Loss\", c=\"red\")\n",
        "plt.plot(history.history[\"val_loss\"], label=\"Validation Loss\", c=\"blue\")\n",
        "plt.title(\"Loss\")\n",
        "plt.xlabel(\"Epoch\")\n",
        "plt.ylabel(\"Loss\")\n",
        "plt.legend()\n",
        "\n",
        "\n",
        "plt.tight_layout()\n",
        "plt.show()"
      ]
    },
    {
      "cell_type": "markdown",
      "metadata": {
        "id": "QGfX6BL1zOAJ"
      },
      "source": [
        "##Evaluation & Performance"
      ]
    },
    {
      "cell_type": "code",
      "execution_count": null,
      "metadata": {
        "colab": {
          "base_uri": "https://localhost:8080/"
        },
        "id": "ARQJER_xl-iC",
        "outputId": "a0296bbe-6060-42f2-f5bc-d26162b4d08a"
      },
      "outputs": [
        {
          "name": "stdout",
          "output_type": "stream",
          "text": [
            "189/189 [==============================] - 1s 3ms/step\n"
          ]
        }
      ],
      "source": [
        "y_rnn=rnn.predict(X_test)\n",
        "y_rnn = (y_rnn>0.5).astype(int)"
      ]
    },
    {
      "cell_type": "code",
      "execution_count": null,
      "metadata": {
        "colab": {
          "base_uri": "https://localhost:8080/"
        },
        "id": "qgFd4GuGmA1o",
        "outputId": "4ca14164-f4de-4aba-8999-f3e9e0e02313"
      },
      "outputs": [
        {
          "data": {
            "text/plain": [
              "0.9115161557580779"
            ]
          },
          "execution_count": 23,
          "metadata": {},
          "output_type": "execute_result"
        }
      ],
      "source": [
        "accuracy_score(y_test,y_rnn)"
      ]
    },
    {
      "cell_type": "code",
      "execution_count": null,
      "metadata": {
        "colab": {
          "base_uri": "https://localhost:8080/"
        },
        "id": "TEWfPcXzmCNv",
        "outputId": "1fd88730-b27d-484f-f7b3-e3fb8efe3405"
      },
      "outputs": [
        {
          "data": {
            "text/plain": [
              "array([[3093,  326],\n",
              "       [ 208, 2408]])"
            ]
          },
          "execution_count": 24,
          "metadata": {},
          "output_type": "execute_result"
        }
      ],
      "source": [
        "confusion_matrix(y_test,y_rnn)"
      ]
    },
    {
      "cell_type": "code",
      "execution_count": null,
      "metadata": {
        "colab": {
          "base_uri": "https://localhost:8080/"
        },
        "id": "BofbNVd7mDnq",
        "outputId": "aad9fd86-8b0a-43bf-b2f0-9bf3d57d5efd"
      },
      "outputs": [
        {
          "name": "stdout",
          "output_type": "stream",
          "text": [
            "              precision    recall  f1-score   support\n",
            "\n",
            "           0       0.94      0.90      0.92      3419\n",
            "           1       0.88      0.92      0.90      2616\n",
            "\n",
            "    accuracy                           0.91      6035\n",
            "   macro avg       0.91      0.91      0.91      6035\n",
            "weighted avg       0.91      0.91      0.91      6035\n",
            "\n"
          ]
        }
      ],
      "source": [
        "print(classification_report(y_test,y_rnn))"
      ]
    },
    {
      "cell_type": "markdown",
      "metadata": {
        "id": "qh_KcT-ozQ-h"
      },
      "source": [
        "##LSTM Model"
      ]
    },
    {
      "cell_type": "code",
      "execution_count": null,
      "metadata": {
        "colab": {
          "base_uri": "https://localhost:8080/"
        },
        "id": "BPbutDwomFKW",
        "outputId": "5ba845ef-49e7-4f42-e171-3e6d0b4705eb"
      },
      "outputs": [
        {
          "name": "stdout",
          "output_type": "stream",
          "text": [
            "Model: \"sequential_1\"\n",
            "_________________________________________________________________\n",
            " Layer (type)                Output Shape              Param #   \n",
            "=================================================================\n",
            " embedding_1 (Embedding)     (None, 20, 40)            400000    \n",
            "                                                                 \n",
            " dropout (Dropout)           (None, 20, 40)            0         \n",
            "                                                                 \n",
            " lstm (LSTM)                 (None, 100)               56400     \n",
            "                                                                 \n",
            " dropout_1 (Dropout)         (None, 100)               0         \n",
            "                                                                 \n",
            " dense_1 (Dense)             (None, 1)                 101       \n",
            "                                                                 \n",
            "=================================================================\n",
            "Total params: 456501 (1.74 MB)\n",
            "Trainable params: 456501 (1.74 MB)\n",
            "Non-trainable params: 0 (0.00 Byte)\n",
            "_________________________________________________________________\n"
          ]
        }
      ],
      "source": [
        "## LSTM Model\n",
        "\n",
        "embedding_vector_features=40\n",
        "lstm=Sequential()\n",
        "lstm.add(Embedding(voc,embedding_vector_features,input_length=sent_length))\n",
        "lstm.add(Dropout(0.3))\n",
        "lstm.add(LSTM(100))\n",
        "lstm.add(Dropout(0.3))\n",
        "lstm.add(Dense(1,activation='sigmoid'))\n",
        "lstm.compile(loss='binary_crossentropy',optimizer='adam',metrics=['accuracy'])\n",
        "lstm.summary()"
      ]
    },
    {
      "cell_type": "code",
      "execution_count": null,
      "metadata": {
        "colab": {
          "base_uri": "https://localhost:8080/"
        },
        "id": "xDoMIe5cmH1Z",
        "outputId": "55ef6ba3-595a-4b3c-ed27-5ab52b66f04e"
      },
      "outputs": [
        {
          "name": "stdout",
          "output_type": "stream",
          "text": [
            "Epoch 1/20\n",
            "383/383 [==============================] - 15s 29ms/step - loss: 0.2810 - accuracy: 0.8787 - val_loss: 0.1902 - val_accuracy: 0.9195\n",
            "Epoch 2/20\n",
            "383/383 [==============================] - 11s 28ms/step - loss: 0.1295 - accuracy: 0.9498 - val_loss: 0.1973 - val_accuracy: 0.9171\n",
            "Epoch 3/20\n",
            "383/383 [==============================] - 12s 31ms/step - loss: 0.0847 - accuracy: 0.9699 - val_loss: 0.2149 - val_accuracy: 0.9180\n",
            "Epoch 4/20\n",
            "383/383 [==============================] - 12s 31ms/step - loss: 0.0557 - accuracy: 0.9803 - val_loss: 0.2731 - val_accuracy: 0.9176\n",
            "Epoch 5/20\n",
            "383/383 [==============================] - 13s 33ms/step - loss: 0.0369 - accuracy: 0.9870 - val_loss: 0.2858 - val_accuracy: 0.9167\n",
            "Epoch 6/20\n",
            "383/383 [==============================] - 11s 28ms/step - loss: 0.0219 - accuracy: 0.9940 - val_loss: 0.4275 - val_accuracy: 0.9211\n",
            "Epoch 7/20\n",
            "383/383 [==============================] - 11s 28ms/step - loss: 0.0151 - accuracy: 0.9955 - val_loss: 0.4187 - val_accuracy: 0.9140\n",
            "Epoch 8/20\n",
            "383/383 [==============================] - 11s 30ms/step - loss: 0.0133 - accuracy: 0.9958 - val_loss: 0.4364 - val_accuracy: 0.9171\n",
            "Epoch 9/20\n",
            "383/383 [==============================] - 12s 31ms/step - loss: 0.0081 - accuracy: 0.9978 - val_loss: 0.4690 - val_accuracy: 0.9167\n",
            "Epoch 10/20\n",
            "383/383 [==============================] - 13s 34ms/step - loss: 0.0082 - accuracy: 0.9976 - val_loss: 0.5504 - val_accuracy: 0.9147\n",
            "Epoch 11/20\n",
            "383/383 [==============================] - 12s 33ms/step - loss: 0.0091 - accuracy: 0.9972 - val_loss: 0.4822 - val_accuracy: 0.9110\n",
            "Epoch 12/20\n",
            "383/383 [==============================] - 11s 28ms/step - loss: 0.0048 - accuracy: 0.9985 - val_loss: 0.5740 - val_accuracy: 0.9142\n",
            "Epoch 13/20\n",
            "383/383 [==============================] - 12s 31ms/step - loss: 0.0066 - accuracy: 0.9980 - val_loss: 0.5675 - val_accuracy: 0.9140\n",
            "Epoch 14/20\n",
            "383/383 [==============================] - 12s 30ms/step - loss: 0.0053 - accuracy: 0.9983 - val_loss: 0.4713 - val_accuracy: 0.9157\n",
            "Epoch 15/20\n",
            "383/383 [==============================] - 11s 30ms/step - loss: 0.0053 - accuracy: 0.9981 - val_loss: 0.5832 - val_accuracy: 0.9167\n",
            "Epoch 16/20\n",
            "383/383 [==============================] - 12s 31ms/step - loss: 0.0050 - accuracy: 0.9984 - val_loss: 0.5682 - val_accuracy: 0.9188\n",
            "Epoch 17/20\n",
            "383/383 [==============================] - 13s 33ms/step - loss: 0.0036 - accuracy: 0.9991 - val_loss: 0.6184 - val_accuracy: 0.9123\n",
            "Epoch 18/20\n",
            "383/383 [==============================] - 12s 32ms/step - loss: 0.0023 - accuracy: 0.9993 - val_loss: 0.6275 - val_accuracy: 0.9138\n",
            "Epoch 19/20\n",
            "383/383 [==============================] - 12s 31ms/step - loss: 0.0016 - accuracy: 0.9997 - val_loss: 0.7465 - val_accuracy: 0.9118\n",
            "Epoch 20/20\n",
            "383/383 [==============================] - 11s 27ms/step - loss: 0.0027 - accuracy: 0.9991 - val_loss: 0.6621 - val_accuracy: 0.9150\n"
          ]
        }
      ],
      "source": [
        "### Finally Training\n",
        "history = lstm.fit(X_train,y_train,validation_data=(X_test,y_test),epochs=20,batch_size=32)"
      ]
    },
    {
      "cell_type": "markdown",
      "metadata": {
        "id": "hiUQFnhJzXfy"
      },
      "source": [
        "##Line Plot: Overfitting"
      ]
    },
    {
      "cell_type": "code",
      "execution_count": null,
      "metadata": {
        "colab": {
          "base_uri": "https://localhost:8080/",
          "height": 507
        },
        "id": "DgXQHdE-mJoj",
        "outputId": "5ad4ffd6-c3c9-4777-c032-164ce398205e"
      },
      "outputs": [
        {
          "data": {
            "image/png": "[encoded data removed]",
            "text/plain": [
              "<Figure size 1200x500 with 2 Axes>"
            ]
          },
          "metadata": {},
          "output_type": "display_data"
        }
      ],
      "source": [
        "plt.figure(figsize=(12, 5))\n",
        "\n",
        "#  Accuracy\n",
        "plt.subplot(1, 2, 1)\n",
        "plt.plot(history.history[\"accuracy\"], label=\"Training Accuracy\", c=\"red\")\n",
        "plt.plot(history.history[\"val_accuracy\"], label=\"Validation Accuracy\", c=\"blue\")\n",
        "plt.title(\"Accuracy\")\n",
        "plt.xlabel(\"Epoch\")\n",
        "plt.ylabel(\"Accuracy\")\n",
        "plt.legend()\n",
        "\n",
        "#  Loss\n",
        "plt.subplot(1, 2, 2)\n",
        "plt.plot(history.history[\"loss\"], label=\"Training Loss\", c=\"red\")\n",
        "plt.plot(history.history[\"val_loss\"], label=\"Validation Loss\", c=\"blue\")\n",
        "plt.title(\"Loss\")\n",
        "plt.xlabel(\"Epoch\")\n",
        "plt.ylabel(\"Loss\")\n",
        "plt.legend()\n",
        "\n",
        "\n",
        "plt.tight_layout()\n",
        "plt.show()"
      ]
    },
    {
      "cell_type": "markdown",
      "metadata": {
        "id": "z1KWV5ZKza33"
      },
      "source": [
        "##Evaluation & Performance"
      ]
    },
    {
      "cell_type": "code",
      "execution_count": null,
      "metadata": {
        "colab": {
          "base_uri": "https://localhost:8080/"
        },
        "id": "fJrX2q2VmL-q",
        "outputId": "d8269123-2df1-4acd-d0fe-cfde668a787c"
      },
      "outputs": [
        {
          "name": "stdout",
          "output_type": "stream",
          "text": [
            "189/189 [==============================] - 4s 9ms/step\n"
          ]
        }
      ],
      "source": [
        "y_lstm=lstm.predict(X_test)\n",
        "y_lstm = (y_lstm>0.5).astype(int)"
      ]
    },
    {
      "cell_type": "code",
      "execution_count": null,
      "metadata": {
        "colab": {
          "base_uri": "https://localhost:8080/"
        },
        "id": "Fk_Q74bdmOD3",
        "outputId": "dc537114-3320-4434-be1c-96bf242697ed"
      },
      "outputs": [
        {
          "data": {
            "text/plain": [
              "0.9149958574979288"
            ]
          },
          "execution_count": 30,
          "metadata": {},
          "output_type": "execute_result"
        }
      ],
      "source": [
        "accuracy_score(y_test,y_lstm)"
      ]
    },
    {
      "cell_type": "code",
      "execution_count": null,
      "metadata": {
        "colab": {
          "base_uri": "https://localhost:8080/"
        },
        "id": "bN1ZAynSmPjq",
        "outputId": "a0ba9532-ab38-4941-85c5-fc0c788a6152"
      },
      "outputs": [
        {
          "data": {
            "text/plain": [
              "array([[3141,  278],\n",
              "       [ 235, 2381]])"
            ]
          },
          "execution_count": 31,
          "metadata": {},
          "output_type": "execute_result"
        }
      ],
      "source": [
        "\n",
        "confusion_matrix(y_test,y_lstm)"
      ]
    },
    {
      "cell_type": "code",
      "execution_count": null,
      "metadata": {
        "colab": {
          "base_uri": "https://localhost:8080/"
        },
        "id": "F_AD4NbxmRMZ",
        "outputId": "02cfee0d-4c1e-4ac4-9f6e-86065a399942"
      },
      "outputs": [
        {
          "name": "stdout",
          "output_type": "stream",
          "text": [
            "              precision    recall  f1-score   support\n",
            "\n",
            "           0       0.93      0.92      0.92      3419\n",
            "           1       0.90      0.91      0.90      2616\n",
            "\n",
            "    accuracy                           0.91      6035\n",
            "   macro avg       0.91      0.91      0.91      6035\n",
            "weighted avg       0.92      0.91      0.92      6035\n",
            "\n"
          ]
        }
      ],
      "source": [
        "print(classification_report(y_test,y_lstm))"
      ]
    },
    {
      "cell_type": "markdown",
      "metadata": {
        "id": "TzDmXLeNzeil"
      },
      "source": [
        "##Bidirectional Model"
      ]
    },
    {
      "cell_type": "code",
      "execution_count": null,
      "metadata": {
        "colab": {
          "base_uri": "https://localhost:8080/"
        },
        "id": "H63-L313mSsn",
        "outputId": "0fce9ea7-eafe-4eeb-a7f9-55628eaa8f29"
      },
      "outputs": [
        {
          "name": "stdout",
          "output_type": "stream",
          "text": [
            "Model: \"sequential_2\"\n",
            "_________________________________________________________________\n",
            " Layer (type)                Output Shape              Param #   \n",
            "=================================================================\n",
            " embedding_2 (Embedding)     (None, 20, 40)            400000    \n",
            "                                                                 \n",
            " bidirectional (Bidirection  (None, 200)               112800    \n",
            " al)                                                             \n",
            "                                                                 \n",
            " dropout_2 (Dropout)         (None, 200)               0         \n",
            "                                                                 \n",
            " dense_2 (Dense)             (None, 1)                 201       \n",
            "                                                                 \n",
            "=================================================================\n",
            "Total params: 513001 (1.96 MB)\n",
            "Trainable params: 513001 (1.96 MB)\n",
            "Non-trainable params: 0 (0.00 Byte)\n",
            "_________________________________________________________________\n"
          ]
        }
      ],
      "source": [
        "#Bidirectional Model\n",
        "\n",
        "embedding_vector_features=40\n",
        "bid=Sequential()\n",
        "bid.add(Embedding(voc,embedding_vector_features,input_length=sent_length))\n",
        "bid.add(Bidirectional(LSTM(100)))\n",
        "bid.add(Dropout(0.3))\n",
        "bid.add(Dense(1,activation='sigmoid'))\n",
        "bid.compile(loss='binary_crossentropy',optimizer='adam',metrics=['accuracy'])\n",
        "bid.summary()"
      ]
    },
    {
      "cell_type": "code",
      "execution_count": null,
      "metadata": {
        "colab": {
          "base_uri": "https://localhost:8080/"
        },
        "id": "pRssU7mImUQs",
        "outputId": "e93e8e5b-9c5a-4a0e-833a-8d4902fe6597"
      },
      "outputs": [
        {
          "name": "stdout",
          "output_type": "stream",
          "text": [
            "Epoch 1/20\n",
            "383/383 [==============================] - 24s 47ms/step - loss: 0.2640 - accuracy: 0.8810 - val_loss: 0.2041 - val_accuracy: 0.9162\n",
            "Epoch 2/20\n",
            "383/383 [==============================] - 16s 42ms/step - loss: 0.1167 - accuracy: 0.9562 - val_loss: 0.2359 - val_accuracy: 0.9160\n",
            "Epoch 3/20\n",
            "383/383 [==============================] - 17s 45ms/step - loss: 0.0736 - accuracy: 0.9740 - val_loss: 0.2107 - val_accuracy: 0.9198\n",
            "Epoch 4/20\n",
            "383/383 [==============================] - 17s 43ms/step - loss: 0.0473 - accuracy: 0.9842 - val_loss: 0.3431 - val_accuracy: 0.9067\n",
            "Epoch 5/20\n",
            "383/383 [==============================] - 17s 45ms/step - loss: 0.0270 - accuracy: 0.9911 - val_loss: 0.3482 - val_accuracy: 0.9122\n",
            "Epoch 6/20\n",
            "383/383 [==============================] - 18s 47ms/step - loss: 0.0203 - accuracy: 0.9936 - val_loss: 0.4132 - val_accuracy: 0.9104\n",
            "Epoch 7/20\n",
            "383/383 [==============================] - 17s 45ms/step - loss: 0.0148 - accuracy: 0.9956 - val_loss: 0.4584 - val_accuracy: 0.9152\n",
            "Epoch 8/20\n",
            "383/383 [==============================] - 16s 42ms/step - loss: 0.0123 - accuracy: 0.9965 - val_loss: 0.5001 - val_accuracy: 0.9104\n",
            "Epoch 9/20\n",
            "383/383 [==============================] - 17s 45ms/step - loss: 0.0063 - accuracy: 0.9984 - val_loss: 0.5579 - val_accuracy: 0.9085\n",
            "Epoch 10/20\n",
            "383/383 [==============================] - 17s 45ms/step - loss: 0.0064 - accuracy: 0.9985 - val_loss: 0.5147 - val_accuracy: 0.9052\n",
            "Epoch 11/20\n",
            "383/383 [==============================] - 17s 45ms/step - loss: 0.0059 - accuracy: 0.9981 - val_loss: 0.6295 - val_accuracy: 0.9110\n",
            "Epoch 12/20\n",
            "383/383 [==============================] - 18s 47ms/step - loss: 0.0039 - accuracy: 0.9990 - val_loss: 0.5078 - val_accuracy: 0.9097\n",
            "Epoch 13/20\n",
            "383/383 [==============================] - 30s 77ms/step - loss: 0.0070 - accuracy: 0.9981 - val_loss: 0.5596 - val_accuracy: 0.8963\n",
            "Epoch 14/20\n",
            "383/383 [==============================] - 17s 45ms/step - loss: 0.0063 - accuracy: 0.9978 - val_loss: 0.6169 - val_accuracy: 0.9145\n",
            "Epoch 15/20\n",
            "383/383 [==============================] - 17s 45ms/step - loss: 0.0035 - accuracy: 0.9989 - val_loss: 0.6154 - val_accuracy: 0.9125\n",
            "Epoch 16/20\n",
            "383/383 [==============================] - 17s 45ms/step - loss: 5.0124e-04 - accuracy: 1.0000 - val_loss: 0.7130 - val_accuracy: 0.9110\n",
            "Epoch 17/20\n",
            "383/383 [==============================] - 17s 45ms/step - loss: 2.5236e-04 - accuracy: 0.9999 - val_loss: 0.7458 - val_accuracy: 0.9122\n",
            "Epoch 18/20\n",
            "383/383 [==============================] - 17s 45ms/step - loss: 9.7850e-04 - accuracy: 0.9997 - val_loss: 0.7655 - val_accuracy: 0.9100\n",
            "Epoch 19/20\n",
            "383/383 [==============================] - 17s 45ms/step - loss: 0.0028 - accuracy: 0.9991 - val_loss: 0.7030 - val_accuracy: 0.9117\n",
            "Epoch 20/20\n",
            "383/383 [==============================] - 17s 45ms/step - loss: 0.0050 - accuracy: 0.9983 - val_loss: 0.5434 - val_accuracy: 0.9150\n"
          ]
        }
      ],
      "source": [
        "history = bid.fit(X_train,y_train,validation_data=(X_test,y_test),epochs=20,batch_size=32)"
      ]
    },
    {
      "cell_type": "markdown",
      "metadata": {
        "id": "sMZNDhBfzhrG"
      },
      "source": [
        "##Line Plot: Overfitting"
      ]
    },
    {
      "cell_type": "code",
      "execution_count": null,
      "metadata": {
        "colab": {
          "base_uri": "https://localhost:8080/",
          "height": 507
        },
        "id": "MvyE74BomWIc",
        "outputId": "4c9bea2b-4f3f-44d3-dfe2-a46abc4a5733"
      },
      "outputs": [
        {
          "data": {
            "image/png": "[encoded data removed]",
            "text/plain": [
              "<Figure size 1200x500 with 2 Axes>"
            ]
          },
          "metadata": {},
          "output_type": "display_data"
        }
      ],
      "source": [
        "plt.figure(figsize=(12, 5))\n",
        "\n",
        "#  Accuracy\n",
        "plt.subplot(1, 2, 1)\n",
        "plt.plot(history.history[\"accuracy\"], label=\"Training Accuracy\", c=\"red\")\n",
        "plt.plot(history.history[\"val_accuracy\"], label=\"Validation Accuracy\", c=\"blue\")\n",
        "plt.title(\"Accuracy\")\n",
        "plt.xlabel(\"Epoch\")\n",
        "plt.ylabel(\"Accuracy\")\n",
        "plt.legend()\n",
        "\n",
        "#  Loss\n",
        "plt.subplot(1, 2, 2)\n",
        "plt.plot(history.history[\"loss\"], label=\"Training Loss\", c=\"red\")\n",
        "plt.plot(history.history[\"val_loss\"], label=\"Validation Loss\", c=\"blue\")\n",
        "plt.title(\"Loss\")\n",
        "plt.xlabel(\"Epoch\")\n",
        "plt.ylabel(\"Loss\")\n",
        "plt.legend()\n",
        "\n",
        "\n",
        "plt.tight_layout()\n",
        "plt.show()"
      ]
    },
    {
      "cell_type": "markdown",
      "metadata": {
        "id": "xcITE06HzkrO"
      },
      "source": [
        "##Evaluation & Performance"
      ]
    },
    {
      "cell_type": "code",
      "execution_count": null,
      "metadata": {
        "colab": {
          "base_uri": "https://localhost:8080/"
        },
        "id": "OMkW_vJvmZBx",
        "outputId": "6a294340-1957-42be-a5fa-642c940f35bd"
      },
      "outputs": [
        {
          "name": "stdout",
          "output_type": "stream",
          "text": [
            "189/189 [==============================] - 4s 12ms/step\n"
          ]
        }
      ],
      "source": [
        "y_bid=bid.predict(X_test)\n",
        "y_bid = (y_bid>0.5).astype(int)"
      ]
    },
    {
      "cell_type": "code",
      "execution_count": null,
      "metadata": {
        "colab": {
          "base_uri": "https://localhost:8080/"
        },
        "id": "mmffwmnMmbO3",
        "outputId": "869e357d-d7f7-4de3-eb33-d7cd242b5a4d"
      },
      "outputs": [
        {
          "data": {
            "text/plain": [
              "0.9149958574979288"
            ]
          },
          "execution_count": 37,
          "metadata": {},
          "output_type": "execute_result"
        }
      ],
      "source": [
        "accuracy_score(y_test,y_bid)"
      ]
    },
    {
      "cell_type": "code",
      "execution_count": null,
      "metadata": {
        "colab": {
          "base_uri": "https://localhost:8080/"
        },
        "id": "jwARjzR-meTE",
        "outputId": "d76651b9-fe3a-4df5-8fbc-db0de6f292a8"
      },
      "outputs": [
        {
          "data": {
            "text/plain": [
              "array([[3115,  304],\n",
              "       [ 209, 2407]])"
            ]
          },
          "execution_count": 38,
          "metadata": {},
          "output_type": "execute_result"
        }
      ],
      "source": [
        "confusion_matrix(y_test,y_bid)"
      ]
    },
    {
      "cell_type": "code",
      "execution_count": null,
      "metadata": {
        "colab": {
          "base_uri": "https://localhost:8080/"
        },
        "id": "49RvKBJzmfvE",
        "outputId": "41e972c4-897b-4d0f-b936-4acd8c8efb30"
      },
      "outputs": [
        {
          "name": "stdout",
          "output_type": "stream",
          "text": [
            "              precision    recall  f1-score   support\n",
            "\n",
            "           0       0.94      0.91      0.92      3419\n",
            "           1       0.89      0.92      0.90      2616\n",
            "\n",
            "    accuracy                           0.91      6035\n",
            "   macro avg       0.91      0.92      0.91      6035\n",
            "weighted avg       0.92      0.91      0.92      6035\n",
            "\n"
          ]
        }
      ],
      "source": [
        "print(classification_report(y_test,y_bid))"
      ]
    },
    {
      "cell_type": "markdown",
      "metadata": {
        "id": "L8kwsoV-0WC4"
      },
      "source": [
        "##Conclusion\n",
        "**1.RNN Model:**\n",
        "\n",
        "The Simple RNN model demonstrated impressive performance with a high accuracy rate during training.\n",
        "It achieved a validation accuracy of around 91%, suggesting a strong ability to differentiate between real and fake news articles.\n",
        "The model displayed some overfitting tendencies as training progressed, indicating that it might require regularization techniques for further optimization.\n",
        "\n",
        "**2.LSTM Model:**\n",
        "\n",
        "The LSTM model, with its more complex architecture, also exhibited strong performance.\n",
        "It achieved a validation accuracy of approximately 91%, indicating a robust ability to classify news articles.\n",
        "Similar to the RNN model, some overfitting was observed, which suggests the need for regularization techniques.\n",
        "\n",
        "**3.Bidirectional LSTM Model:**\n",
        "\n",
        "The Bidirectional LSTM model, which leverages information from both past and future time steps, demonstrated competitive performance.\n",
        "It achieved a validation accuracy of around 90%, suggesting that it is a viable option for fake news classification.\n",
        "Like the other models, it exhibited some signs of overfitting during training.\n",
        "\n",
        "In summary, all three models in this project have shown promise in accurately classifying news articles as real or fake based on their textual content. The models' high accuracy rates on the validation dataset indicate their effectiveness in distinguishing between genuine and deceptive news. However, they all displayed some degree of overfitting, which can be addressed through techniques such as dropout and regularization.\n",
        "\n",
        "\n",
        "\n",
        "\n",
        "\n",
        "\n",
        "\n",
        "\n"
      ]
    },
    {
      "cell_type": "markdown",
      "metadata": {
        "id": "4IXF2mUU0xOE"
      },
      "source": [
        "##Reference\n",
        "\n",
        "https://medium.com/analytics-vidhya/undestanding-recurrent-neural-network-rnn-and-long-short-term-memory-lstm-30bc1221e80d\n",
        "\n",
        "https://medium.com/analytics-vidhya/bi-directional-rnn-basics-of-lstm-and-gru-e114aa4779bb\n",
        "\n",
        "https://medium.com/@humble_bee/rnn-recurrent-neural-networks-lstm-842ba7205bbf\n",
        "\n",
        "https://medium.com/analytics-vidhya/in-depth-tutorial-of-recurrent-neural-network-rnn-and-long-short-term-memory-lstm-networks-3a782712a09f"
      ]
    }
  ],
  "metadata": {
    "colab": {
      "provenance": []
    },
    "kernelspec": {
      "display_name": "Python 3",
      "name": "python3"
    },
    "language_info": {
      "name": "python"
    }
  },
  "nbformat": 4,
  "nbformat_minor": 0
}
