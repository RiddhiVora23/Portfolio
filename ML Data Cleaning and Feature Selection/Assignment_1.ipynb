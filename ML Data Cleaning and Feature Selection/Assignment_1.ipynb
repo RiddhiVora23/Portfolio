{
  "nbformat": 4,
  "nbformat_minor": 0,
  "metadata": {
    "colab": {
      "provenance": [],
      "toc_visible": true
    },
    "kernelspec": {
      "name": "python3",
      "display_name": "Python 3"
    },
    "language_info": {
      "name": "python"
    }
  },
  "cells": [
    {
      "cell_type": "markdown",
      "source": [
        "**Problem Statement**: Implementing a Dataset-Bank Personal Loan Modeling for predictive learning, analyzing the data's accuracy, and identifying the key features.\n"
      ],
      "metadata": {
        "id": "BcTAoi7l4j7Q"
      }
    },
    {
      "cell_type": "code",
      "execution_count": null,
      "metadata": {
        "id": "7yrIo17v4IZc"
      },
      "outputs": [],
      "source": []
    },
    {
      "cell_type": "markdown",
      "source": [
        "# **Abstarct:**\n",
        "\n",
        "This dataset has data about 5000 customers  and the information includes the customer's age, income, and other demographics; the customer's relationship with the bank; and the customer's response to the most recent personal loan campaign (Personal Loan). Only 480 (or 9.6%) of these 5000 clients accepted the personal loan that was presented to them during the previous campaign.\n"
      ],
      "metadata": {
        "id": "QFJ474Cp67qm"
      }
    },
    {
      "cell_type": "markdown",
      "source": [
        "Here's information regarding the attributes of the dataset:\n",
        "Attribute Information:\n",
        "\n",
        "ID : Customer ID\n",
        "\n",
        "Age : Customer's age in completed years\n",
        "\n",
        "Experience : #years of professional experience\n",
        "\n",
        "Income : Annual income of the customer ($000)\n",
        "\n",
        "ZIP Code : Home Address ZIP code.\n",
        "\n",
        "Family : Family size of the customer\n",
        "\n",
        "CCAvg : Avg. spending on credit cards per month ($000)\n",
        "\n",
        "Education : Education Level.\n",
        "1: Undergrad;\n",
        "2: Graduate;\n",
        "3: Advanced/Professional\n",
        "\n",
        "Mortgage : Value of house mortgage if any. ($000)\n",
        "\n",
        "10.Personal Loan : Did this customer accept the personal loan offered in the last campaign?\n",
        "\n",
        "11.Securities Account : Does the customer have a securities account with the bank?\n",
        "\n",
        "12.CD Account : Does the customer have a certificate of deposit (CD) account with the bank?\n",
        "\n",
        "13.Online : Does the customer use internet banking facilities?\n",
        "\n",
        "14.Credit card : Does the customer use a credit card issued by ID\n"
      ],
      "metadata": {
        "id": "nOi-OGfe7JoE"
      }
    },
    {
      "cell_type": "markdown",
      "source": [
        "# **Data**"
      ],
      "metadata": {
        "id": "IzGXlO3mDEhR"
      }
    },
    {
      "cell_type": "code",
      "source": [
        "!pip install eli5\n"
      ],
      "metadata": {
        "colab": {
          "base_uri": "https://localhost:8080/"
        },
        "id": "JLtd6vxq4jUT",
        "outputId": "52b0bfe2-4714-4039-9d6c-18084f78e3ab"
      },
      "execution_count": 5,
      "outputs": [
        {
          "output_type": "stream",
          "name": "stdout",
          "text": [
            "Looking in indexes: https://pypi.org/simple, https://us-python.pkg.dev/colab-wheels/public/simple/\n",
            "Requirement already satisfied: eli5 in /usr/local/lib/python3.8/dist-packages (0.13.0)\n",
            "Requirement already satisfied: attrs>17.1.0 in /usr/local/lib/python3.8/dist-packages (from eli5) (22.2.0)\n",
            "Requirement already satisfied: graphviz in /usr/local/lib/python3.8/dist-packages (from eli5) (0.10.1)\n",
            "Requirement already satisfied: scikit-learn>=0.20 in /usr/local/lib/python3.8/dist-packages (from eli5) (1.0.2)\n",
            "Requirement already satisfied: tabulate>=0.7.7 in /usr/local/lib/python3.8/dist-packages (from eli5) (0.8.10)\n",
            "Requirement already satisfied: numpy>=1.9.0 in /usr/local/lib/python3.8/dist-packages (from eli5) (1.21.6)\n",
            "Requirement already satisfied: jinja2>=3.0.0 in /usr/local/lib/python3.8/dist-packages (from eli5) (3.1.2)\n",
            "Requirement already satisfied: six in /usr/local/lib/python3.8/dist-packages (from eli5) (1.15.0)\n",
            "Requirement already satisfied: scipy in /usr/local/lib/python3.8/dist-packages (from eli5) (1.7.3)\n",
            "Requirement already satisfied: MarkupSafe>=2.0 in /usr/local/lib/python3.8/dist-packages (from jinja2>=3.0.0->eli5) (2.0.1)\n",
            "Requirement already satisfied: joblib>=0.11 in /usr/local/lib/python3.8/dist-packages (from scikit-learn>=0.20->eli5) (1.2.0)\n",
            "Requirement already satisfied: threadpoolctl>=2.0.0 in /usr/local/lib/python3.8/dist-packages (from scikit-learn>=0.20->eli5) (3.1.0)\n"
          ]
        }
      ]
    },
    {
      "cell_type": "code",
      "source": [
        "import numpy as np\n",
        "import pandas as pd \n",
        "import matplotlib.pylab as plt\n",
        "from matplotlib import pyplot\n",
        "import seaborn as sns\n",
        "import statsmodels.api as sm\n",
        "from sklearn.model_selection import  train_test_split\n",
        "import eli5\n",
        "from eli5.sklearn import PermutationImportance\n",
        "\n",
        "import warnings \n",
        "warnings.filterwarnings(\"ignore\")\n",
        "\n",
        "data = pd.read_csv(\"https://raw.githubusercontent.com/RiddhiVora23/Data_Science/main/Bank_Personal_Loan_Modelling.csv?token=GHSAT0AAAAAAB5YRXXNVNU3NVAITZCCF3I6Y67FDTQ\")\n",
        "\n",
        "data.head(10)"
      ],
      "metadata": {
        "colab": {
          "base_uri": "https://localhost:8080/",
          "height": 424
        },
        "id": "Tf3soyUy_TvE",
        "outputId": "a673281f-b508-47f6-d40a-a3d53787322a"
      },
      "execution_count": 6,
      "outputs": [
        {
          "output_type": "execute_result",
          "data": {
            "text/plain": [
              "   ID  Age  Experience  Income  ZIP Code  Family  CCAvg  Education  Mortgage  \\\n",
              "0   1   25           1      49     91107       4    1.6          1         0   \n",
              "1   2   45          19      34     90089       3    1.5          1         0   \n",
              "2   3   39          15      11     94720       1    1.0          1         0   \n",
              "3   4   35           9     100     94112       1    2.7          2         0   \n",
              "4   5   35           8      45     91330       4    1.0          2         0   \n",
              "5   6   37          13      29     92121       4    0.4          2       155   \n",
              "6   7   53          27      72     91711       2    1.5          2         0   \n",
              "7   8   50          24      22     93943       1    0.3          3         0   \n",
              "8   9   35          10      81     90089       3    0.6          2       104   \n",
              "9  10   34           9     180     93023       1    8.9          3         0   \n",
              "\n",
              "   Personal Loan  Securities Account  CD Account  Online  CreditCard  \n",
              "0              0                   1           0       0           0  \n",
              "1              0                   1           0       0           0  \n",
              "2              0                   0           0       0           0  \n",
              "3              0                   0           0       0           0  \n",
              "4              0                   0           0       0           1  \n",
              "5              0                   0           0       1           0  \n",
              "6              0                   0           0       1           0  \n",
              "7              0                   0           0       0           1  \n",
              "8              0                   0           0       1           0  \n",
              "9              1                   0           0       0           0  "
            ],
            "text/html": [
              "\n",
              "  <div id=\"df-ef16ae49-e46f-4b5e-b953-b7d32a7cac6b\">\n",
              "    <div class=\"colab-df-container\">\n",
              "      <div>\n",
              "<style scoped>\n",
              "    .dataframe tbody tr th:only-of-type {\n",
              "        vertical-align: middle;\n",
              "    }\n",
              "\n",
              "    .dataframe tbody tr th {\n",
              "        vertical-align: top;\n",
              "    }\n",
              "\n",
              "    .dataframe thead th {\n",
              "        text-align: right;\n",
              "    }\n",
              "</style>\n",
              "<table border=\"1\" class=\"dataframe\">\n",
              "  <thead>\n",
              "    <tr style=\"text-align: right;\">\n",
              "      <th></th>\n",
              "      <th>ID</th>\n",
              "      <th>Age</th>\n",
              "      <th>Experience</th>\n",
              "      <th>Income</th>\n",
              "      <th>ZIP Code</th>\n",
              "      <th>Family</th>\n",
              "      <th>CCAvg</th>\n",
              "      <th>Education</th>\n",
              "      <th>Mortgage</th>\n",
              "      <th>Personal Loan</th>\n",
              "      <th>Securities Account</th>\n",
              "      <th>CD Account</th>\n",
              "      <th>Online</th>\n",
              "      <th>CreditCard</th>\n",
              "    </tr>\n",
              "  </thead>\n",
              "  <tbody>\n",
              "    <tr>\n",
              "      <th>0</th>\n",
              "      <td>1</td>\n",
              "      <td>25</td>\n",
              "      <td>1</td>\n",
              "      <td>49</td>\n",
              "      <td>91107</td>\n",
              "      <td>4</td>\n",
              "      <td>1.6</td>\n",
              "      <td>1</td>\n",
              "      <td>0</td>\n",
              "      <td>0</td>\n",
              "      <td>1</td>\n",
              "      <td>0</td>\n",
              "      <td>0</td>\n",
              "      <td>0</td>\n",
              "    </tr>\n",
              "    <tr>\n",
              "      <th>1</th>\n",
              "      <td>2</td>\n",
              "      <td>45</td>\n",
              "      <td>19</td>\n",
              "      <td>34</td>\n",
              "      <td>90089</td>\n",
              "      <td>3</td>\n",
              "      <td>1.5</td>\n",
              "      <td>1</td>\n",
              "      <td>0</td>\n",
              "      <td>0</td>\n",
              "      <td>1</td>\n",
              "      <td>0</td>\n",
              "      <td>0</td>\n",
              "      <td>0</td>\n",
              "    </tr>\n",
              "    <tr>\n",
              "      <th>2</th>\n",
              "      <td>3</td>\n",
              "      <td>39</td>\n",
              "      <td>15</td>\n",
              "      <td>11</td>\n",
              "      <td>94720</td>\n",
              "      <td>1</td>\n",
              "      <td>1.0</td>\n",
              "      <td>1</td>\n",
              "      <td>0</td>\n",
              "      <td>0</td>\n",
              "      <td>0</td>\n",
              "      <td>0</td>\n",
              "      <td>0</td>\n",
              "      <td>0</td>\n",
              "    </tr>\n",
              "    <tr>\n",
              "      <th>3</th>\n",
              "      <td>4</td>\n",
              "      <td>35</td>\n",
              "      <td>9</td>\n",
              "      <td>100</td>\n",
              "      <td>94112</td>\n",
              "      <td>1</td>\n",
              "      <td>2.7</td>\n",
              "      <td>2</td>\n",
              "      <td>0</td>\n",
              "      <td>0</td>\n",
              "      <td>0</td>\n",
              "      <td>0</td>\n",
              "      <td>0</td>\n",
              "      <td>0</td>\n",
              "    </tr>\n",
              "    <tr>\n",
              "      <th>4</th>\n",
              "      <td>5</td>\n",
              "      <td>35</td>\n",
              "      <td>8</td>\n",
              "      <td>45</td>\n",
              "      <td>91330</td>\n",
              "      <td>4</td>\n",
              "      <td>1.0</td>\n",
              "      <td>2</td>\n",
              "      <td>0</td>\n",
              "      <td>0</td>\n",
              "      <td>0</td>\n",
              "      <td>0</td>\n",
              "      <td>0</td>\n",
              "      <td>1</td>\n",
              "    </tr>\n",
              "    <tr>\n",
              "      <th>5</th>\n",
              "      <td>6</td>\n",
              "      <td>37</td>\n",
              "      <td>13</td>\n",
              "      <td>29</td>\n",
              "      <td>92121</td>\n",
              "      <td>4</td>\n",
              "      <td>0.4</td>\n",
              "      <td>2</td>\n",
              "      <td>155</td>\n",
              "      <td>0</td>\n",
              "      <td>0</td>\n",
              "      <td>0</td>\n",
              "      <td>1</td>\n",
              "      <td>0</td>\n",
              "    </tr>\n",
              "    <tr>\n",
              "      <th>6</th>\n",
              "      <td>7</td>\n",
              "      <td>53</td>\n",
              "      <td>27</td>\n",
              "      <td>72</td>\n",
              "      <td>91711</td>\n",
              "      <td>2</td>\n",
              "      <td>1.5</td>\n",
              "      <td>2</td>\n",
              "      <td>0</td>\n",
              "      <td>0</td>\n",
              "      <td>0</td>\n",
              "      <td>0</td>\n",
              "      <td>1</td>\n",
              "      <td>0</td>\n",
              "    </tr>\n",
              "    <tr>\n",
              "      <th>7</th>\n",
              "      <td>8</td>\n",
              "      <td>50</td>\n",
              "      <td>24</td>\n",
              "      <td>22</td>\n",
              "      <td>93943</td>\n",
              "      <td>1</td>\n",
              "      <td>0.3</td>\n",
              "      <td>3</td>\n",
              "      <td>0</td>\n",
              "      <td>0</td>\n",
              "      <td>0</td>\n",
              "      <td>0</td>\n",
              "      <td>0</td>\n",
              "      <td>1</td>\n",
              "    </tr>\n",
              "    <tr>\n",
              "      <th>8</th>\n",
              "      <td>9</td>\n",
              "      <td>35</td>\n",
              "      <td>10</td>\n",
              "      <td>81</td>\n",
              "      <td>90089</td>\n",
              "      <td>3</td>\n",
              "      <td>0.6</td>\n",
              "      <td>2</td>\n",
              "      <td>104</td>\n",
              "      <td>0</td>\n",
              "      <td>0</td>\n",
              "      <td>0</td>\n",
              "      <td>1</td>\n",
              "      <td>0</td>\n",
              "    </tr>\n",
              "    <tr>\n",
              "      <th>9</th>\n",
              "      <td>10</td>\n",
              "      <td>34</td>\n",
              "      <td>9</td>\n",
              "      <td>180</td>\n",
              "      <td>93023</td>\n",
              "      <td>1</td>\n",
              "      <td>8.9</td>\n",
              "      <td>3</td>\n",
              "      <td>0</td>\n",
              "      <td>1</td>\n",
              "      <td>0</td>\n",
              "      <td>0</td>\n",
              "      <td>0</td>\n",
              "      <td>0</td>\n",
              "    </tr>\n",
              "  </tbody>\n",
              "</table>\n",
              "</div>\n",
              "      <button class=\"colab-df-convert\" onclick=\"convertToInteractive('df-ef16ae49-e46f-4b5e-b953-b7d32a7cac6b')\"\n",
              "              title=\"Convert this dataframe to an interactive table.\"\n",
              "              style=\"display:none;\">\n",
              "        \n",
              "  <svg xmlns=\"http://www.w3.org/2000/svg\" height=\"24px\"viewBox=\"0 0 24 24\"\n",
              "       width=\"24px\">\n",
              "    <path d=\"M0 0h24v24H0V0z\" fill=\"none\"/>\n",
              "    <path d=\"M18.56 5.44l.94 2.06.94-2.06 2.06-.94-2.06-.94-.94-2.06-.94 2.06-2.06.94zm-11 1L8.5 8.5l.94-2.06 2.06-.94-2.06-.94L8.5 2.5l-.94 2.06-2.06.94zm10 10l.94 2.06.94-2.06 2.06-.94-2.06-.94-.94-2.06-.94 2.06-2.06.94z\"/><path d=\"M17.41 7.96l-1.37-1.37c-.4-.4-.92-.59-1.43-.59-.52 0-1.04.2-1.43.59L10.3 9.45l-7.72 7.72c-.78.78-.78 2.05 0 2.83L4 21.41c.39.39.9.59 1.41.59.51 0 1.02-.2 1.41-.59l7.78-7.78 2.81-2.81c.8-.78.8-2.07 0-2.86zM5.41 20L4 18.59l7.72-7.72 1.47 1.35L5.41 20z\"/>\n",
              "  </svg>\n",
              "      </button>\n",
              "      \n",
              "  <style>\n",
              "    .colab-df-container {\n",
              "      display:flex;\n",
              "      flex-wrap:wrap;\n",
              "      gap: 12px;\n",
              "    }\n",
              "\n",
              "    .colab-df-convert {\n",
              "      background-color: #E8F0FE;\n",
              "      border: none;\n",
              "      border-radius: 50%;\n",
              "      cursor: pointer;\n",
              "      display: none;\n",
              "      fill: #1967D2;\n",
              "      height: 32px;\n",
              "      padding: 0 0 0 0;\n",
              "      width: 32px;\n",
              "    }\n",
              "\n",
              "    .colab-df-convert:hover {\n",
              "      background-color: #E2EBFA;\n",
              "      box-shadow: 0px 1px 2px rgba(60, 64, 67, 0.3), 0px 1px 3px 1px rgba(60, 64, 67, 0.15);\n",
              "      fill: #174EA6;\n",
              "    }\n",
              "\n",
              "    [theme=dark] .colab-df-convert {\n",
              "      background-color: #3B4455;\n",
              "      fill: #D2E3FC;\n",
              "    }\n",
              "\n",
              "    [theme=dark] .colab-df-convert:hover {\n",
              "      background-color: #434B5C;\n",
              "      box-shadow: 0px 1px 3px 1px rgba(0, 0, 0, 0.15);\n",
              "      filter: drop-shadow(0px 1px 2px rgba(0, 0, 0, 0.3));\n",
              "      fill: #FFFFFF;\n",
              "    }\n",
              "  </style>\n",
              "\n",
              "      <script>\n",
              "        const buttonEl =\n",
              "          document.querySelector('#df-ef16ae49-e46f-4b5e-b953-b7d32a7cac6b button.colab-df-convert');\n",
              "        buttonEl.style.display =\n",
              "          google.colab.kernel.accessAllowed ? 'block' : 'none';\n",
              "\n",
              "        async function convertToInteractive(key) {\n",
              "          const element = document.querySelector('#df-ef16ae49-e46f-4b5e-b953-b7d32a7cac6b');\n",
              "          const dataTable =\n",
              "            await google.colab.kernel.invokeFunction('convertToInteractive',\n",
              "                                                     [key], {});\n",
              "          if (!dataTable) return;\n",
              "\n",
              "          const docLinkHtml = 'Like what you see? Visit the ' +\n",
              "            '<a target=\"_blank\" href=https://colab.research.google.com/notebooks/data_table.ipynb>data table notebook</a>'\n",
              "            + ' to learn more about interactive tables.';\n",
              "          element.innerHTML = '';\n",
              "          dataTable['output_type'] = 'display_data';\n",
              "          await google.colab.output.renderOutput(dataTable, element);\n",
              "          const docLink = document.createElement('div');\n",
              "          docLink.innerHTML = docLinkHtml;\n",
              "          element.appendChild(docLink);\n",
              "        }\n",
              "      </script>\n",
              "    </div>\n",
              "  </div>\n",
              "  "
            ]
          },
          "metadata": {},
          "execution_count": 6
        }
      ]
    },
    {
      "cell_type": "markdown",
      "source": [
        "# **Here are the data types**"
      ],
      "metadata": {
        "id": "RgY276zXDgBn"
      }
    },
    {
      "cell_type": "code",
      "source": [],
      "metadata": {
        "id": "yBdcWvkjaz6b"
      },
      "execution_count": null,
      "outputs": []
    },
    {
      "cell_type": "code",
      "source": [
        "data.info()"
      ],
      "metadata": {
        "colab": {
          "base_uri": "https://localhost:8080/"
        },
        "id": "5PfzBc4MATa_",
        "outputId": "1149dc25-eb17-4e47-9cc8-4093c3a1ab8f"
      },
      "execution_count": 7,
      "outputs": [
        {
          "output_type": "stream",
          "name": "stdout",
          "text": [
            "<class 'pandas.core.frame.DataFrame'>\n",
            "RangeIndex: 5000 entries, 0 to 4999\n",
            "Data columns (total 14 columns):\n",
            " #   Column              Non-Null Count  Dtype  \n",
            "---  ------              --------------  -----  \n",
            " 0   ID                  5000 non-null   int64  \n",
            " 1   Age                 5000 non-null   int64  \n",
            " 2   Experience          5000 non-null   int64  \n",
            " 3   Income              5000 non-null   int64  \n",
            " 4   ZIP Code            5000 non-null   int64  \n",
            " 5   Family              5000 non-null   int64  \n",
            " 6   CCAvg               5000 non-null   float64\n",
            " 7   Education           5000 non-null   int64  \n",
            " 8   Mortgage            5000 non-null   int64  \n",
            " 9   Personal Loan       5000 non-null   int64  \n",
            " 10  Securities Account  5000 non-null   int64  \n",
            " 11  CD Account          5000 non-null   int64  \n",
            " 12  Online              5000 non-null   int64  \n",
            " 13  CreditCard          5000 non-null   int64  \n",
            "dtypes: float64(1), int64(13)\n",
            "memory usage: 547.0 KB\n"
          ]
        }
      ]
    },
    {
      "cell_type": "markdown",
      "source": [
        "In this Data set there are 2 datatypes 13-int64 1-float64\n",
        "\n",
        "Numeric datatypes:\n",
        "\n",
        "ID\n",
        "\n",
        "Age\n",
        "\n",
        "Experience\n",
        "\n",
        "Income\n",
        "\n",
        "ZIP code\n",
        "\n",
        "Family\n",
        "\n",
        "CCAvg\n",
        "\n",
        "Mortgage\n",
        "\n",
        "Categorical datatypes:\n",
        "\n",
        "Education\n",
        "\n",
        "Personal Loan\n",
        "\n",
        "Securities Account\n",
        "\n",
        "CD account\n",
        "\n",
        "Online\n",
        "\n",
        "CreditCard"
      ],
      "metadata": {
        "id": "yZXUEP3tFgxM"
      }
    },
    {
      "cell_type": "code",
      "source": [
        "data.describe()\n"
      ],
      "metadata": {
        "colab": {
          "base_uri": "https://localhost:8080/",
          "height": 382
        },
        "id": "6hCr-CbnZcY3",
        "outputId": "45aeefd9-d848-460c-efb4-1ea42f66392f"
      },
      "execution_count": 8,
      "outputs": [
        {
          "output_type": "execute_result",
          "data": {
            "text/plain": [
              "                ID          Age   Experience       Income      ZIP Code  \\\n",
              "count  5000.000000  5000.000000  5000.000000  5000.000000   5000.000000   \n",
              "mean   2500.500000    45.338400    20.104600    73.774200  93152.503000   \n",
              "std    1443.520003    11.463166    11.467954    46.033729   2121.852197   \n",
              "min       1.000000    23.000000    -3.000000     8.000000   9307.000000   \n",
              "25%    1250.750000    35.000000    10.000000    39.000000  91911.000000   \n",
              "50%    2500.500000    45.000000    20.000000    64.000000  93437.000000   \n",
              "75%    3750.250000    55.000000    30.000000    98.000000  94608.000000   \n",
              "max    5000.000000    67.000000    43.000000   224.000000  96651.000000   \n",
              "\n",
              "            Family        CCAvg    Education     Mortgage  Personal Loan  \\\n",
              "count  5000.000000  5000.000000  5000.000000  5000.000000    5000.000000   \n",
              "mean      2.396400     1.937938     1.881000    56.498800       0.096000   \n",
              "std       1.147663     1.747659     0.839869   101.713802       0.294621   \n",
              "min       1.000000     0.000000     1.000000     0.000000       0.000000   \n",
              "25%       1.000000     0.700000     1.000000     0.000000       0.000000   \n",
              "50%       2.000000     1.500000     2.000000     0.000000       0.000000   \n",
              "75%       3.000000     2.500000     3.000000   101.000000       0.000000   \n",
              "max       4.000000    10.000000     3.000000   635.000000       1.000000   \n",
              "\n",
              "       Securities Account  CD Account       Online   CreditCard  \n",
              "count         5000.000000  5000.00000  5000.000000  5000.000000  \n",
              "mean             0.104400     0.06040     0.596800     0.294000  \n",
              "std              0.305809     0.23825     0.490589     0.455637  \n",
              "min              0.000000     0.00000     0.000000     0.000000  \n",
              "25%              0.000000     0.00000     0.000000     0.000000  \n",
              "50%              0.000000     0.00000     1.000000     0.000000  \n",
              "75%              0.000000     0.00000     1.000000     1.000000  \n",
              "max              1.000000     1.00000     1.000000     1.000000  "
            ],
            "text/html": [
              "\n",
              "  <div id=\"df-33a60405-ad42-48b1-87de-074dbb68e66e\">\n",
              "    <div class=\"colab-df-container\">\n",
              "      <div>\n",
              "<style scoped>\n",
              "    .dataframe tbody tr th:only-of-type {\n",
              "        vertical-align: middle;\n",
              "    }\n",
              "\n",
              "    .dataframe tbody tr th {\n",
              "        vertical-align: top;\n",
              "    }\n",
              "\n",
              "    .dataframe thead th {\n",
              "        text-align: right;\n",
              "    }\n",
              "</style>\n",
              "<table border=\"1\" class=\"dataframe\">\n",
              "  <thead>\n",
              "    <tr style=\"text-align: right;\">\n",
              "      <th></th>\n",
              "      <th>ID</th>\n",
              "      <th>Age</th>\n",
              "      <th>Experience</th>\n",
              "      <th>Income</th>\n",
              "      <th>ZIP Code</th>\n",
              "      <th>Family</th>\n",
              "      <th>CCAvg</th>\n",
              "      <th>Education</th>\n",
              "      <th>Mortgage</th>\n",
              "      <th>Personal Loan</th>\n",
              "      <th>Securities Account</th>\n",
              "      <th>CD Account</th>\n",
              "      <th>Online</th>\n",
              "      <th>CreditCard</th>\n",
              "    </tr>\n",
              "  </thead>\n",
              "  <tbody>\n",
              "    <tr>\n",
              "      <th>count</th>\n",
              "      <td>5000.000000</td>\n",
              "      <td>5000.000000</td>\n",
              "      <td>5000.000000</td>\n",
              "      <td>5000.000000</td>\n",
              "      <td>5000.000000</td>\n",
              "      <td>5000.000000</td>\n",
              "      <td>5000.000000</td>\n",
              "      <td>5000.000000</td>\n",
              "      <td>5000.000000</td>\n",
              "      <td>5000.000000</td>\n",
              "      <td>5000.000000</td>\n",
              "      <td>5000.00000</td>\n",
              "      <td>5000.000000</td>\n",
              "      <td>5000.000000</td>\n",
              "    </tr>\n",
              "    <tr>\n",
              "      <th>mean</th>\n",
              "      <td>2500.500000</td>\n",
              "      <td>45.338400</td>\n",
              "      <td>20.104600</td>\n",
              "      <td>73.774200</td>\n",
              "      <td>93152.503000</td>\n",
              "      <td>2.396400</td>\n",
              "      <td>1.937938</td>\n",
              "      <td>1.881000</td>\n",
              "      <td>56.498800</td>\n",
              "      <td>0.096000</td>\n",
              "      <td>0.104400</td>\n",
              "      <td>0.06040</td>\n",
              "      <td>0.596800</td>\n",
              "      <td>0.294000</td>\n",
              "    </tr>\n",
              "    <tr>\n",
              "      <th>std</th>\n",
              "      <td>1443.520003</td>\n",
              "      <td>11.463166</td>\n",
              "      <td>11.467954</td>\n",
              "      <td>46.033729</td>\n",
              "      <td>2121.852197</td>\n",
              "      <td>1.147663</td>\n",
              "      <td>1.747659</td>\n",
              "      <td>0.839869</td>\n",
              "      <td>101.713802</td>\n",
              "      <td>0.294621</td>\n",
              "      <td>0.305809</td>\n",
              "      <td>0.23825</td>\n",
              "      <td>0.490589</td>\n",
              "      <td>0.455637</td>\n",
              "    </tr>\n",
              "    <tr>\n",
              "      <th>min</th>\n",
              "      <td>1.000000</td>\n",
              "      <td>23.000000</td>\n",
              "      <td>-3.000000</td>\n",
              "      <td>8.000000</td>\n",
              "      <td>9307.000000</td>\n",
              "      <td>1.000000</td>\n",
              "      <td>0.000000</td>\n",
              "      <td>1.000000</td>\n",
              "      <td>0.000000</td>\n",
              "      <td>0.000000</td>\n",
              "      <td>0.000000</td>\n",
              "      <td>0.00000</td>\n",
              "      <td>0.000000</td>\n",
              "      <td>0.000000</td>\n",
              "    </tr>\n",
              "    <tr>\n",
              "      <th>25%</th>\n",
              "      <td>1250.750000</td>\n",
              "      <td>35.000000</td>\n",
              "      <td>10.000000</td>\n",
              "      <td>39.000000</td>\n",
              "      <td>91911.000000</td>\n",
              "      <td>1.000000</td>\n",
              "      <td>0.700000</td>\n",
              "      <td>1.000000</td>\n",
              "      <td>0.000000</td>\n",
              "      <td>0.000000</td>\n",
              "      <td>0.000000</td>\n",
              "      <td>0.00000</td>\n",
              "      <td>0.000000</td>\n",
              "      <td>0.000000</td>\n",
              "    </tr>\n",
              "    <tr>\n",
              "      <th>50%</th>\n",
              "      <td>2500.500000</td>\n",
              "      <td>45.000000</td>\n",
              "      <td>20.000000</td>\n",
              "      <td>64.000000</td>\n",
              "      <td>93437.000000</td>\n",
              "      <td>2.000000</td>\n",
              "      <td>1.500000</td>\n",
              "      <td>2.000000</td>\n",
              "      <td>0.000000</td>\n",
              "      <td>0.000000</td>\n",
              "      <td>0.000000</td>\n",
              "      <td>0.00000</td>\n",
              "      <td>1.000000</td>\n",
              "      <td>0.000000</td>\n",
              "    </tr>\n",
              "    <tr>\n",
              "      <th>75%</th>\n",
              "      <td>3750.250000</td>\n",
              "      <td>55.000000</td>\n",
              "      <td>30.000000</td>\n",
              "      <td>98.000000</td>\n",
              "      <td>94608.000000</td>\n",
              "      <td>3.000000</td>\n",
              "      <td>2.500000</td>\n",
              "      <td>3.000000</td>\n",
              "      <td>101.000000</td>\n",
              "      <td>0.000000</td>\n",
              "      <td>0.000000</td>\n",
              "      <td>0.00000</td>\n",
              "      <td>1.000000</td>\n",
              "      <td>1.000000</td>\n",
              "    </tr>\n",
              "    <tr>\n",
              "      <th>max</th>\n",
              "      <td>5000.000000</td>\n",
              "      <td>67.000000</td>\n",
              "      <td>43.000000</td>\n",
              "      <td>224.000000</td>\n",
              "      <td>96651.000000</td>\n",
              "      <td>4.000000</td>\n",
              "      <td>10.000000</td>\n",
              "      <td>3.000000</td>\n",
              "      <td>635.000000</td>\n",
              "      <td>1.000000</td>\n",
              "      <td>1.000000</td>\n",
              "      <td>1.00000</td>\n",
              "      <td>1.000000</td>\n",
              "      <td>1.000000</td>\n",
              "    </tr>\n",
              "  </tbody>\n",
              "</table>\n",
              "</div>\n",
              "      <button class=\"colab-df-convert\" onclick=\"convertToInteractive('df-33a60405-ad42-48b1-87de-074dbb68e66e')\"\n",
              "              title=\"Convert this dataframe to an interactive table.\"\n",
              "              style=\"display:none;\">\n",
              "        \n",
              "  <svg xmlns=\"http://www.w3.org/2000/svg\" height=\"24px\"viewBox=\"0 0 24 24\"\n",
              "       width=\"24px\">\n",
              "    <path d=\"M0 0h24v24H0V0z\" fill=\"none\"/>\n",
              "    <path d=\"M18.56 5.44l.94 2.06.94-2.06 2.06-.94-2.06-.94-.94-2.06-.94 2.06-2.06.94zm-11 1L8.5 8.5l.94-2.06 2.06-.94-2.06-.94L8.5 2.5l-.94 2.06-2.06.94zm10 10l.94 2.06.94-2.06 2.06-.94-2.06-.94-.94-2.06-.94 2.06-2.06.94z\"/><path d=\"M17.41 7.96l-1.37-1.37c-.4-.4-.92-.59-1.43-.59-.52 0-1.04.2-1.43.59L10.3 9.45l-7.72 7.72c-.78.78-.78 2.05 0 2.83L4 21.41c.39.39.9.59 1.41.59.51 0 1.02-.2 1.41-.59l7.78-7.78 2.81-2.81c.8-.78.8-2.07 0-2.86zM5.41 20L4 18.59l7.72-7.72 1.47 1.35L5.41 20z\"/>\n",
              "  </svg>\n",
              "      </button>\n",
              "      \n",
              "  <style>\n",
              "    .colab-df-container {\n",
              "      display:flex;\n",
              "      flex-wrap:wrap;\n",
              "      gap: 12px;\n",
              "    }\n",
              "\n",
              "    .colab-df-convert {\n",
              "      background-color: #E8F0FE;\n",
              "      border: none;\n",
              "      border-radius: 50%;\n",
              "      cursor: pointer;\n",
              "      display: none;\n",
              "      fill: #1967D2;\n",
              "      height: 32px;\n",
              "      padding: 0 0 0 0;\n",
              "      width: 32px;\n",
              "    }\n",
              "\n",
              "    .colab-df-convert:hover {\n",
              "      background-color: #E2EBFA;\n",
              "      box-shadow: 0px 1px 2px rgba(60, 64, 67, 0.3), 0px 1px 3px 1px rgba(60, 64, 67, 0.15);\n",
              "      fill: #174EA6;\n",
              "    }\n",
              "\n",
              "    [theme=dark] .colab-df-convert {\n",
              "      background-color: #3B4455;\n",
              "      fill: #D2E3FC;\n",
              "    }\n",
              "\n",
              "    [theme=dark] .colab-df-convert:hover {\n",
              "      background-color: #434B5C;\n",
              "      box-shadow: 0px 1px 3px 1px rgba(0, 0, 0, 0.15);\n",
              "      filter: drop-shadow(0px 1px 2px rgba(0, 0, 0, 0.3));\n",
              "      fill: #FFFFFF;\n",
              "    }\n",
              "  </style>\n",
              "\n",
              "      <script>\n",
              "        const buttonEl =\n",
              "          document.querySelector('#df-33a60405-ad42-48b1-87de-074dbb68e66e button.colab-df-convert');\n",
              "        buttonEl.style.display =\n",
              "          google.colab.kernel.accessAllowed ? 'block' : 'none';\n",
              "\n",
              "        async function convertToInteractive(key) {\n",
              "          const element = document.querySelector('#df-33a60405-ad42-48b1-87de-074dbb68e66e');\n",
              "          const dataTable =\n",
              "            await google.colab.kernel.invokeFunction('convertToInteractive',\n",
              "                                                     [key], {});\n",
              "          if (!dataTable) return;\n",
              "\n",
              "          const docLinkHtml = 'Like what you see? Visit the ' +\n",
              "            '<a target=\"_blank\" href=https://colab.research.google.com/notebooks/data_table.ipynb>data table notebook</a>'\n",
              "            + ' to learn more about interactive tables.';\n",
              "          element.innerHTML = '';\n",
              "          dataTable['output_type'] = 'display_data';\n",
              "          await google.colab.output.renderOutput(dataTable, element);\n",
              "          const docLink = document.createElement('div');\n",
              "          docLink.innerHTML = docLinkHtml;\n",
              "          element.appendChild(docLink);\n",
              "        }\n",
              "      </script>\n",
              "    </div>\n",
              "  </div>\n",
              "  "
            ]
          },
          "metadata": {},
          "execution_count": 8
        }
      ]
    },
    {
      "cell_type": "markdown",
      "source": [
        "Except for the experience, all of the variable ranges in this dataset make sense."
      ],
      "metadata": {
        "id": "LS_h4ACQOP_Q"
      }
    },
    {
      "cell_type": "markdown",
      "source": [
        "According to the sample, experience must be at least -3, which is illogically impossible."
      ],
      "metadata": {
        "id": "DiPToQdSOSC_"
      }
    },
    {
      "cell_type": "code",
      "source": [
        "data['Experience'][data.Experience<0].count()"
      ],
      "metadata": {
        "colab": {
          "base_uri": "https://localhost:8080/"
        },
        "id": "3VMW02VvaMpr",
        "outputId": "95f1722d-9adb-4615-9ce1-e477d8fa31c3"
      },
      "execution_count": 9,
      "outputs": [
        {
          "output_type": "execute_result",
          "data": {
            "text/plain": [
              "52"
            ]
          },
          "metadata": {},
          "execution_count": 9
        }
      ]
    },
    {
      "cell_type": "markdown",
      "source": [
        "Here in the third column \"Experience\" has a negative value, which is not possible.\n"
      ],
      "metadata": {
        "id": "d8yv7PQ-Ogqj"
      }
    },
    {
      "cell_type": "markdown",
      "source": [
        "# **Missing Values**"
      ],
      "metadata": {
        "id": "LvqzU2IpahoX"
      }
    },
    {
      "cell_type": "code",
      "source": [
        "#data.isnull()\n",
        "data.isnull().sum()"
      ],
      "metadata": {
        "colab": {
          "base_uri": "https://localhost:8080/"
        },
        "id": "6S6tu0foa1Xp",
        "outputId": "2a0a4752-abed-488d-913f-09fa912f02b0"
      },
      "execution_count": 10,
      "outputs": [
        {
          "output_type": "execute_result",
          "data": {
            "text/plain": [
              "ID                    0\n",
              "Age                   0\n",
              "Experience            0\n",
              "Income                0\n",
              "ZIP Code              0\n",
              "Family                0\n",
              "CCAvg                 0\n",
              "Education             0\n",
              "Mortgage              0\n",
              "Personal Loan         0\n",
              "Securities Account    0\n",
              "CD Account            0\n",
              "Online                0\n",
              "CreditCard            0\n",
              "dtype: int64"
            ]
          },
          "metadata": {},
          "execution_count": 10
        }
      ]
    },
    {
      "cell_type": "markdown",
      "source": [
        "Here as we can see, there are no missing values in the dataset."
      ],
      "metadata": {
        "id": "LuuglYcua6pa"
      }
    },
    {
      "cell_type": "markdown",
      "source": [
        "# **Likely distributions of the numeric variables:**"
      ],
      "metadata": {
        "id": "VKb8I6tXfeAb"
      }
    },
    {
      "cell_type": "markdown",
      "source": [
        "Density curves\n",
        "Plotting density curves for numeric variables. A density plot is a smoothed, continuous version of a histogram estimated from the data.\n",
        "\n",
        "x-axis: Variable\n",
        "\n",
        "y-axis: Density (frequency with respect to number of instances)"
      ],
      "metadata": {
        "id": "yW7CGUBifmYm"
      }
    },
    {
      "cell_type": "code",
      "source": [
        "List =['Age', 'Experience', 'Income', 'ZIP Code', 'Family', 'CCAvg', 'Mortgage']\n",
        "\n",
        "\n",
        "def distribution(data,list):\n",
        "  sns.distplot(data[list])\n",
        "  plt.show()\n",
        "for i in List:\n",
        "  plt.grid(True)\n",
        "  distribution(data,i)\n",
        "  plt.show()"
      ],
      "metadata": {
        "colab": {
          "base_uri": "https://localhost:8080/",
          "height": 1000
        },
        "id": "b_dhNEPslosI",
        "outputId": "b37d01c7-b1d7-497c-c995-21d70e853f2b"
      },
      "execution_count": 11,
      "outputs": [
        {
          "output_type": "display_data",
          "data": {
            "text/plain": [
              "<Figure size 432x288 with 1 Axes>"
            ],
            "image/png": "[encoded data removed]"
          },
          "metadata": {
            "needs_background": "light"
          }
        },
        {
          "output_type": "display_data",
          "data": {
            "text/plain": [
              "<Figure size 432x288 with 1 Axes>"
            ],
            "image/png": "[encoded data removed]"
          },
          "metadata": {
            "needs_background": "light"
          }
        },
        {
          "output_type": "display_data",
          "data": {
            "text/plain": [
              "<Figure size 432x288 with 1 Axes>"
            ],
            "image/png": "[encoded data removed]"
          },
          "metadata": {
            "needs_background": "light"
          }
        },
        {
          "output_type": "display_data",
          "data": {
            "text/plain": [
              "<Figure size 432x288 with 1 Axes>"
            ],
            "image/png": "[encoded data removed]"
          },
          "metadata": {
            "needs_background": "light"
          }
        },
        {
          "output_type": "display_data",
          "data": {
            "text/plain": [
              "<Figure size 432x288 with 1 Axes>"
            ],
            "image/png": "[encoded data removed]"
          },
          "metadata": {
            "needs_background": "light"
          }
        },
        {
          "output_type": "display_data",
          "data": {
            "text/plain": [
              "<Figure size 432x288 with 1 Axes>"
            ],
            "image/png": "[encoded data removed]"
          },
          "metadata": {
            "needs_background": "light"
          }
        },
        {
          "output_type": "display_data",
          "data": {
            "text/plain": [
              "<Figure size 432x288 with 1 Axes>"
            ],
            "image/png": "[encoded data removed]"
          },
          "metadata": {
            "needs_background": "light"
          }
        }
      ]
    },
    {
      "cell_type": "markdown",
      "source": [
        "We can determine the percentage of samples in various values using this density curves."
      ],
      "metadata": {
        "id": "ITLXqxrjl0Bu"
      }
    },
    {
      "cell_type": "markdown",
      "source": [
        "Assumptions:\n",
        "\n",
        "Age: multimodal distribution\n",
        "\n",
        "Experience: Multimodal distribution\n",
        "\n",
        "Income: Right skewed- bimodal distribution\n",
        "\n",
        "ZIP code: Left skewed- multimodal distribution\n",
        "\n",
        "Family: Multimodal distribution\n",
        "\n",
        "CCAvg: Right skewed-bimodal distribution\n",
        "\n",
        "Mortgage: Right skewed distribution"
      ],
      "metadata": {
        "id": "9i1ZEbGhmM0H"
      }
    },
    {
      "cell_type": "markdown",
      "source": [
        "# Independent variables which are useful to predict a target.\n",
        "OLS Regression method"
      ],
      "metadata": {
        "id": "YsHO9GqEmb4Z"
      }
    },
    {
      "cell_type": "code",
      "source": [
        "var = sm.OLS(data['Personal Loan'], data[['Age','Experience','Income','ZIP Code','Family','CCAvg','Education',\n",
        "                                      'Mortgage','Securities Account','CD Account','Online','CreditCard']]).fit()\n",
        "\n",
        "var.summary()"
      ],
      "metadata": {
        "colab": {
          "base_uri": "https://localhost:8080/",
          "height": 717
        },
        "id": "VRsrjVi_mlgE",
        "outputId": "a0275ba3-b3b5-4584-8aea-31139d684186"
      },
      "execution_count": 12,
      "outputs": [
        {
          "output_type": "execute_result",
          "data": {
            "text/plain": [
              "<class 'statsmodels.iolib.summary.Summary'>\n",
              "\"\"\"\n",
              "                                 OLS Regression Results                                \n",
              "=======================================================================================\n",
              "Dep. Variable:          Personal Loan   R-squared (uncentered):                   0.445\n",
              "Model:                            OLS   Adj. R-squared (uncentered):              0.443\n",
              "Method:                 Least Squares   F-statistic:                              332.9\n",
              "Date:                Sun, 05 Feb 2023   Prob (F-statistic):                        0.00\n",
              "Time:                        03:56:13   Log-Likelihood:                          234.63\n",
              "No. Observations:                5000   AIC:                                     -445.3\n",
              "Df Residuals:                    4988   BIC:                                     -367.1\n",
              "Df Model:                          12                                                  \n",
              "Covariance Type:            nonrobust                                                  \n",
              "======================================================================================\n",
              "                         coef    std err          t      P>|t|      [0.025      0.975]\n",
              "--------------------------------------------------------------------------------------\n",
              "Age                   -0.0081      0.002     -3.236      0.001      -0.013      -0.003\n",
              "Experience             0.0085      0.003      3.400      0.001       0.004       0.013\n",
              "Income                 0.0030   9.66e-05     30.941      0.000       0.003       0.003\n",
              "ZIP Code           -1.831e-06    6.7e-07     -2.732      0.006   -3.15e-06   -5.17e-07\n",
              "Family                 0.0332      0.003     11.452      0.000       0.027       0.039\n",
              "CCAvg                  0.0121      0.002      4.909      0.000       0.007       0.017\n",
              "Education              0.0799      0.004     19.461      0.000       0.072       0.088\n",
              "Mortgage            6.485e-05    3.3e-05      1.968      0.049    2.38e-07       0.000\n",
              "Securities Account    -0.0605      0.011     -5.311      0.000      -0.083      -0.038\n",
              "CD Account             0.3301      0.016     20.860      0.000       0.299       0.361\n",
              "Online                -0.0266      0.007     -3.921      0.000      -0.040      -0.013\n",
              "CreditCard            -0.0455      0.008     -6.021      0.000      -0.060      -0.031\n",
              "==============================================================================\n",
              "Omnibus:                     1307.116   Durbin-Watson:                   1.955\n",
              "Prob(Omnibus):                  0.000   Jarque-Bera (JB):             3403.350\n",
              "Skew:                           1.407   Prob(JB):                         0.00\n",
              "Kurtosis:                       5.901   Cond. No.                     4.81e+05\n",
              "==============================================================================\n",
              "\n",
              "Notes:\n",
              "[1] R² is computed without centering (uncentered) since the model does not contain a constant.\n",
              "[2] Standard Errors assume that the covariance matrix of the errors is correctly specified.\n",
              "[3] The condition number is large, 4.81e+05. This might indicate that there are\n",
              "strong multicollinearity or other numerical problems.\n",
              "\"\"\""
            ],
            "text/html": [
              "<table class=\"simpletable\">\n",
              "<caption>OLS Regression Results</caption>\n",
              "<tr>\n",
              "  <th>Dep. Variable:</th>      <td>Personal Loan</td>  <th>  R-squared (uncentered):</th>      <td>   0.445</td>\n",
              "</tr>\n",
              "<tr>\n",
              "  <th>Model:</th>                   <td>OLS</td>       <th>  Adj. R-squared (uncentered):</th> <td>   0.443</td>\n",
              "</tr>\n",
              "<tr>\n",
              "  <th>Method:</th>             <td>Least Squares</td>  <th>  F-statistic:       </th>          <td>   332.9</td>\n",
              "</tr>\n",
              "<tr>\n",
              "  <th>Date:</th>             <td>Sun, 05 Feb 2023</td> <th>  Prob (F-statistic):</th>           <td>  0.00</td> \n",
              "</tr>\n",
              "<tr>\n",
              "  <th>Time:</th>                 <td>03:56:13</td>     <th>  Log-Likelihood:    </th>          <td>  234.63</td>\n",
              "</tr>\n",
              "<tr>\n",
              "  <th>No. Observations:</th>      <td>  5000</td>      <th>  AIC:               </th>          <td>  -445.3</td>\n",
              "</tr>\n",
              "<tr>\n",
              "  <th>Df Residuals:</th>          <td>  4988</td>      <th>  BIC:               </th>          <td>  -367.1</td>\n",
              "</tr>\n",
              "<tr>\n",
              "  <th>Df Model:</th>              <td>    12</td>      <th>                     </th>              <td> </td>   \n",
              "</tr>\n",
              "<tr>\n",
              "  <th>Covariance Type:</th>      <td>nonrobust</td>    <th>                     </th>              <td> </td>   \n",
              "</tr>\n",
              "</table>\n",
              "<table class=\"simpletable\">\n",
              "<tr>\n",
              "           <td></td>             <th>coef</th>     <th>std err</th>      <th>t</th>      <th>P>|t|</th>  <th>[0.025</th>    <th>0.975]</th>  \n",
              "</tr>\n",
              "<tr>\n",
              "  <th>Age</th>                <td>   -0.0081</td> <td>    0.002</td> <td>   -3.236</td> <td> 0.001</td> <td>   -0.013</td> <td>   -0.003</td>\n",
              "</tr>\n",
              "<tr>\n",
              "  <th>Experience</th>         <td>    0.0085</td> <td>    0.003</td> <td>    3.400</td> <td> 0.001</td> <td>    0.004</td> <td>    0.013</td>\n",
              "</tr>\n",
              "<tr>\n",
              "  <th>Income</th>             <td>    0.0030</td> <td> 9.66e-05</td> <td>   30.941</td> <td> 0.000</td> <td>    0.003</td> <td>    0.003</td>\n",
              "</tr>\n",
              "<tr>\n",
              "  <th>ZIP Code</th>           <td>-1.831e-06</td> <td>  6.7e-07</td> <td>   -2.732</td> <td> 0.006</td> <td>-3.15e-06</td> <td>-5.17e-07</td>\n",
              "</tr>\n",
              "<tr>\n",
              "  <th>Family</th>             <td>    0.0332</td> <td>    0.003</td> <td>   11.452</td> <td> 0.000</td> <td>    0.027</td> <td>    0.039</td>\n",
              "</tr>\n",
              "<tr>\n",
              "  <th>CCAvg</th>              <td>    0.0121</td> <td>    0.002</td> <td>    4.909</td> <td> 0.000</td> <td>    0.007</td> <td>    0.017</td>\n",
              "</tr>\n",
              "<tr>\n",
              "  <th>Education</th>          <td>    0.0799</td> <td>    0.004</td> <td>   19.461</td> <td> 0.000</td> <td>    0.072</td> <td>    0.088</td>\n",
              "</tr>\n",
              "<tr>\n",
              "  <th>Mortgage</th>           <td> 6.485e-05</td> <td>  3.3e-05</td> <td>    1.968</td> <td> 0.049</td> <td> 2.38e-07</td> <td>    0.000</td>\n",
              "</tr>\n",
              "<tr>\n",
              "  <th>Securities Account</th> <td>   -0.0605</td> <td>    0.011</td> <td>   -5.311</td> <td> 0.000</td> <td>   -0.083</td> <td>   -0.038</td>\n",
              "</tr>\n",
              "<tr>\n",
              "  <th>CD Account</th>         <td>    0.3301</td> <td>    0.016</td> <td>   20.860</td> <td> 0.000</td> <td>    0.299</td> <td>    0.361</td>\n",
              "</tr>\n",
              "<tr>\n",
              "  <th>Online</th>             <td>   -0.0266</td> <td>    0.007</td> <td>   -3.921</td> <td> 0.000</td> <td>   -0.040</td> <td>   -0.013</td>\n",
              "</tr>\n",
              "<tr>\n",
              "  <th>CreditCard</th>         <td>   -0.0455</td> <td>    0.008</td> <td>   -6.021</td> <td> 0.000</td> <td>   -0.060</td> <td>   -0.031</td>\n",
              "</tr>\n",
              "</table>\n",
              "<table class=\"simpletable\">\n",
              "<tr>\n",
              "  <th>Omnibus:</th>       <td>1307.116</td> <th>  Durbin-Watson:     </th> <td>   1.955</td>\n",
              "</tr>\n",
              "<tr>\n",
              "  <th>Prob(Omnibus):</th>  <td> 0.000</td>  <th>  Jarque-Bera (JB):  </th> <td>3403.350</td>\n",
              "</tr>\n",
              "<tr>\n",
              "  <th>Skew:</th>           <td> 1.407</td>  <th>  Prob(JB):          </th> <td>    0.00</td>\n",
              "</tr>\n",
              "<tr>\n",
              "  <th>Kurtosis:</th>       <td> 5.901</td>  <th>  Cond. No.          </th> <td>4.81e+05</td>\n",
              "</tr>\n",
              "</table><br/><br/>Notes:<br/>[1] R² is computed without centering (uncentered) since the model does not contain a constant.<br/>[2] Standard Errors assume that the covariance matrix of the errors is correctly specified.<br/>[3] The condition number is large, 4.81e+05. This might indicate that there are<br/>strong multicollinearity or other numerical problems."
            ]
          },
          "metadata": {},
          "execution_count": 12
        }
      ]
    },
    {
      "cell_type": "markdown",
      "source": [
        "In this dataset the target value is \"Personal Loan\"."
      ],
      "metadata": {
        "id": "Lu7wU7mwp4U-"
      }
    },
    {
      "cell_type": "markdown",
      "source": [
        "To analyze the significance of the independent variable on the target variable, we will use the p-value from the summary."
      ],
      "metadata": {
        "id": "3OHSMqjmp1pD"
      }
    },
    {
      "cell_type": "markdown",
      "source": [
        "Significant variables (p-value < 0.05):\n",
        "\n",
        "Age\n",
        "\n",
        "Experience\n",
        "\n",
        "Income\n",
        "\n",
        "ZIP Code\n",
        "\n",
        "Family\n",
        "\n",
        "CCAvg\n",
        "\n",
        "Education\n",
        "\n",
        "Securities Account\n",
        "\n",
        "CD Account\n",
        "\n",
        "Online\n",
        "\n",
        "CreditCard\n",
        "\n",
        "Non-significant Independent variable: (p-value < 0.04)\n",
        "\n",
        "There are no non-significant factors, although mortgage has a p-value of 0.049, which is very near to 0.05, making it the least significant."
      ],
      "metadata": {
        "id": "7npoOgACWBzh"
      }
    },
    {
      "cell_type": "markdown",
      "source": [
        "#Using Correlation matrix to find dependency."
      ],
      "metadata": {
        "id": "OzNMHHMQWRhd"
      }
    },
    {
      "cell_type": "code",
      "source": [
        "data.corr()"
      ],
      "metadata": {
        "colab": {
          "base_uri": "https://localhost:8080/",
          "height": 622
        },
        "id": "I7TID8H_Wp9Q",
        "outputId": "eabc682c-009c-4867-ae6b-3c52c21bd7be"
      },
      "execution_count": 13,
      "outputs": [
        {
          "output_type": "execute_result",
          "data": {
            "text/plain": [
              "                          ID       Age  Experience    Income  ZIP Code  \\\n",
              "ID                  1.000000 -0.008473   -0.008326 -0.017695  0.013432   \n",
              "Age                -0.008473  1.000000    0.994215 -0.055269 -0.029216   \n",
              "Experience         -0.008326  0.994215    1.000000 -0.046574 -0.028626   \n",
              "Income             -0.017695 -0.055269   -0.046574  1.000000 -0.016410   \n",
              "ZIP Code            0.013432 -0.029216   -0.028626 -0.016410  1.000000   \n",
              "Family             -0.016797 -0.046418   -0.052563 -0.157501  0.011778   \n",
              "CCAvg              -0.024675 -0.052012   -0.050077  0.645984 -0.004061   \n",
              "Education           0.021463  0.041334    0.013152 -0.187524 -0.017377   \n",
              "Mortgage           -0.013920 -0.012539   -0.010582  0.206806  0.007383   \n",
              "Personal Loan      -0.024801 -0.007726   -0.007413  0.502462  0.000107   \n",
              "Securities Account -0.016972 -0.000436   -0.001232 -0.002616  0.004704   \n",
              "CD Account         -0.006909  0.008043    0.010353  0.169738  0.019972   \n",
              "Online             -0.002528  0.013702    0.013898  0.014206  0.016990   \n",
              "CreditCard          0.017028  0.007681    0.008967 -0.002385  0.007691   \n",
              "\n",
              "                      Family     CCAvg  Education  Mortgage  Personal Loan  \\\n",
              "ID                 -0.016797 -0.024675   0.021463 -0.013920      -0.024801   \n",
              "Age                -0.046418 -0.052012   0.041334 -0.012539      -0.007726   \n",
              "Experience         -0.052563 -0.050077   0.013152 -0.010582      -0.007413   \n",
              "Income             -0.157501  0.645984  -0.187524  0.206806       0.502462   \n",
              "ZIP Code            0.011778 -0.004061  -0.017377  0.007383       0.000107   \n",
              "Family              1.000000 -0.109275   0.064929 -0.020445       0.061367   \n",
              "CCAvg              -0.109275  1.000000  -0.136124  0.109905       0.366889   \n",
              "Education           0.064929 -0.136124   1.000000 -0.033327       0.136722   \n",
              "Mortgage           -0.020445  0.109905  -0.033327  1.000000       0.142095   \n",
              "Personal Loan       0.061367  0.366889   0.136722  0.142095       1.000000   \n",
              "Securities Account  0.019994  0.015086  -0.010812 -0.005411       0.021954   \n",
              "CD Account          0.014110  0.136534   0.013934  0.089311       0.316355   \n",
              "Online              0.010354 -0.003611  -0.015004 -0.005995       0.006278   \n",
              "CreditCard          0.011588 -0.006689  -0.011014 -0.007231       0.002802   \n",
              "\n",
              "                    Securities Account  CD Account    Online  CreditCard  \n",
              "ID                           -0.016972   -0.006909 -0.002528    0.017028  \n",
              "Age                          -0.000436    0.008043  0.013702    0.007681  \n",
              "Experience                   -0.001232    0.010353  0.013898    0.008967  \n",
              "Income                       -0.002616    0.169738  0.014206   -0.002385  \n",
              "ZIP Code                      0.004704    0.019972  0.016990    0.007691  \n",
              "Family                        0.019994    0.014110  0.010354    0.011588  \n",
              "CCAvg                         0.015086    0.136534 -0.003611   -0.006689  \n",
              "Education                    -0.010812    0.013934 -0.015004   -0.011014  \n",
              "Mortgage                     -0.005411    0.089311 -0.005995   -0.007231  \n",
              "Personal Loan                 0.021954    0.316355  0.006278    0.002802  \n",
              "Securities Account            1.000000    0.317034  0.012627   -0.015028  \n",
              "CD Account                    0.317034    1.000000  0.175880    0.278644  \n",
              "Online                        0.012627    0.175880  1.000000    0.004210  \n",
              "CreditCard                   -0.015028    0.278644  0.004210    1.000000  "
            ],
            "text/html": [
              "\n",
              "  <div id=\"df-602fd81f-4270-4b9a-89d3-de2c7f0d973b\">\n",
              "    <div class=\"colab-df-container\">\n",
              "      <div>\n",
              "<style scoped>\n",
              "    .dataframe tbody tr th:only-of-type {\n",
              "        vertical-align: middle;\n",
              "    }\n",
              "\n",
              "    .dataframe tbody tr th {\n",
              "        vertical-align: top;\n",
              "    }\n",
              "\n",
              "    .dataframe thead th {\n",
              "        text-align: right;\n",
              "    }\n",
              "</style>\n",
              "<table border=\"1\" class=\"dataframe\">\n",
              "  <thead>\n",
              "    <tr style=\"text-align: right;\">\n",
              "      <th></th>\n",
              "      <th>ID</th>\n",
              "      <th>Age</th>\n",
              "      <th>Experience</th>\n",
              "      <th>Income</th>\n",
              "      <th>ZIP Code</th>\n",
              "      <th>Family</th>\n",
              "      <th>CCAvg</th>\n",
              "      <th>Education</th>\n",
              "      <th>Mortgage</th>\n",
              "      <th>Personal Loan</th>\n",
              "      <th>Securities Account</th>\n",
              "      <th>CD Account</th>\n",
              "      <th>Online</th>\n",
              "      <th>CreditCard</th>\n",
              "    </tr>\n",
              "  </thead>\n",
              "  <tbody>\n",
              "    <tr>\n",
              "      <th>ID</th>\n",
              "      <td>1.000000</td>\n",
              "      <td>-0.008473</td>\n",
              "      <td>-0.008326</td>\n",
              "      <td>-0.017695</td>\n",
              "      <td>0.013432</td>\n",
              "      <td>-0.016797</td>\n",
              "      <td>-0.024675</td>\n",
              "      <td>0.021463</td>\n",
              "      <td>-0.013920</td>\n",
              "      <td>-0.024801</td>\n",
              "      <td>-0.016972</td>\n",
              "      <td>-0.006909</td>\n",
              "      <td>-0.002528</td>\n",
              "      <td>0.017028</td>\n",
              "    </tr>\n",
              "    <tr>\n",
              "      <th>Age</th>\n",
              "      <td>-0.008473</td>\n",
              "      <td>1.000000</td>\n",
              "      <td>0.994215</td>\n",
              "      <td>-0.055269</td>\n",
              "      <td>-0.029216</td>\n",
              "      <td>-0.046418</td>\n",
              "      <td>-0.052012</td>\n",
              "      <td>0.041334</td>\n",
              "      <td>-0.012539</td>\n",
              "      <td>-0.007726</td>\n",
              "      <td>-0.000436</td>\n",
              "      <td>0.008043</td>\n",
              "      <td>0.013702</td>\n",
              "      <td>0.007681</td>\n",
              "    </tr>\n",
              "    <tr>\n",
              "      <th>Experience</th>\n",
              "      <td>-0.008326</td>\n",
              "      <td>0.994215</td>\n",
              "      <td>1.000000</td>\n",
              "      <td>-0.046574</td>\n",
              "      <td>-0.028626</td>\n",
              "      <td>-0.052563</td>\n",
              "      <td>-0.050077</td>\n",
              "      <td>0.013152</td>\n",
              "      <td>-0.010582</td>\n",
              "      <td>-0.007413</td>\n",
              "      <td>-0.001232</td>\n",
              "      <td>0.010353</td>\n",
              "      <td>0.013898</td>\n",
              "      <td>0.008967</td>\n",
              "    </tr>\n",
              "    <tr>\n",
              "      <th>Income</th>\n",
              "      <td>-0.017695</td>\n",
              "      <td>-0.055269</td>\n",
              "      <td>-0.046574</td>\n",
              "      <td>1.000000</td>\n",
              "      <td>-0.016410</td>\n",
              "      <td>-0.157501</td>\n",
              "      <td>0.645984</td>\n",
              "      <td>-0.187524</td>\n",
              "      <td>0.206806</td>\n",
              "      <td>0.502462</td>\n",
              "      <td>-0.002616</td>\n",
              "      <td>0.169738</td>\n",
              "      <td>0.014206</td>\n",
              "      <td>-0.002385</td>\n",
              "    </tr>\n",
              "    <tr>\n",
              "      <th>ZIP Code</th>\n",
              "      <td>0.013432</td>\n",
              "      <td>-0.029216</td>\n",
              "      <td>-0.028626</td>\n",
              "      <td>-0.016410</td>\n",
              "      <td>1.000000</td>\n",
              "      <td>0.011778</td>\n",
              "      <td>-0.004061</td>\n",
              "      <td>-0.017377</td>\n",
              "      <td>0.007383</td>\n",
              "      <td>0.000107</td>\n",
              "      <td>0.004704</td>\n",
              "      <td>0.019972</td>\n",
              "      <td>0.016990</td>\n",
              "      <td>0.007691</td>\n",
              "    </tr>\n",
              "    <tr>\n",
              "      <th>Family</th>\n",
              "      <td>-0.016797</td>\n",
              "      <td>-0.046418</td>\n",
              "      <td>-0.052563</td>\n",
              "      <td>-0.157501</td>\n",
              "      <td>0.011778</td>\n",
              "      <td>1.000000</td>\n",
              "      <td>-0.109275</td>\n",
              "      <td>0.064929</td>\n",
              "      <td>-0.020445</td>\n",
              "      <td>0.061367</td>\n",
              "      <td>0.019994</td>\n",
              "      <td>0.014110</td>\n",
              "      <td>0.010354</td>\n",
              "      <td>0.011588</td>\n",
              "    </tr>\n",
              "    <tr>\n",
              "      <th>CCAvg</th>\n",
              "      <td>-0.024675</td>\n",
              "      <td>-0.052012</td>\n",
              "      <td>-0.050077</td>\n",
              "      <td>0.645984</td>\n",
              "      <td>-0.004061</td>\n",
              "      <td>-0.109275</td>\n",
              "      <td>1.000000</td>\n",
              "      <td>-0.136124</td>\n",
              "      <td>0.109905</td>\n",
              "      <td>0.366889</td>\n",
              "      <td>0.015086</td>\n",
              "      <td>0.136534</td>\n",
              "      <td>-0.003611</td>\n",
              "      <td>-0.006689</td>\n",
              "    </tr>\n",
              "    <tr>\n",
              "      <th>Education</th>\n",
              "      <td>0.021463</td>\n",
              "      <td>0.041334</td>\n",
              "      <td>0.013152</td>\n",
              "      <td>-0.187524</td>\n",
              "      <td>-0.017377</td>\n",
              "      <td>0.064929</td>\n",
              "      <td>-0.136124</td>\n",
              "      <td>1.000000</td>\n",
              "      <td>-0.033327</td>\n",
              "      <td>0.136722</td>\n",
              "      <td>-0.010812</td>\n",
              "      <td>0.013934</td>\n",
              "      <td>-0.015004</td>\n",
              "      <td>-0.011014</td>\n",
              "    </tr>\n",
              "    <tr>\n",
              "      <th>Mortgage</th>\n",
              "      <td>-0.013920</td>\n",
              "      <td>-0.012539</td>\n",
              "      <td>-0.010582</td>\n",
              "      <td>0.206806</td>\n",
              "      <td>0.007383</td>\n",
              "      <td>-0.020445</td>\n",
              "      <td>0.109905</td>\n",
              "      <td>-0.033327</td>\n",
              "      <td>1.000000</td>\n",
              "      <td>0.142095</td>\n",
              "      <td>-0.005411</td>\n",
              "      <td>0.089311</td>\n",
              "      <td>-0.005995</td>\n",
              "      <td>-0.007231</td>\n",
              "    </tr>\n",
              "    <tr>\n",
              "      <th>Personal Loan</th>\n",
              "      <td>-0.024801</td>\n",
              "      <td>-0.007726</td>\n",
              "      <td>-0.007413</td>\n",
              "      <td>0.502462</td>\n",
              "      <td>0.000107</td>\n",
              "      <td>0.061367</td>\n",
              "      <td>0.366889</td>\n",
              "      <td>0.136722</td>\n",
              "      <td>0.142095</td>\n",
              "      <td>1.000000</td>\n",
              "      <td>0.021954</td>\n",
              "      <td>0.316355</td>\n",
              "      <td>0.006278</td>\n",
              "      <td>0.002802</td>\n",
              "    </tr>\n",
              "    <tr>\n",
              "      <th>Securities Account</th>\n",
              "      <td>-0.016972</td>\n",
              "      <td>-0.000436</td>\n",
              "      <td>-0.001232</td>\n",
              "      <td>-0.002616</td>\n",
              "      <td>0.004704</td>\n",
              "      <td>0.019994</td>\n",
              "      <td>0.015086</td>\n",
              "      <td>-0.010812</td>\n",
              "      <td>-0.005411</td>\n",
              "      <td>0.021954</td>\n",
              "      <td>1.000000</td>\n",
              "      <td>0.317034</td>\n",
              "      <td>0.012627</td>\n",
              "      <td>-0.015028</td>\n",
              "    </tr>\n",
              "    <tr>\n",
              "      <th>CD Account</th>\n",
              "      <td>-0.006909</td>\n",
              "      <td>0.008043</td>\n",
              "      <td>0.010353</td>\n",
              "      <td>0.169738</td>\n",
              "      <td>0.019972</td>\n",
              "      <td>0.014110</td>\n",
              "      <td>0.136534</td>\n",
              "      <td>0.013934</td>\n",
              "      <td>0.089311</td>\n",
              "      <td>0.316355</td>\n",
              "      <td>0.317034</td>\n",
              "      <td>1.000000</td>\n",
              "      <td>0.175880</td>\n",
              "      <td>0.278644</td>\n",
              "    </tr>\n",
              "    <tr>\n",
              "      <th>Online</th>\n",
              "      <td>-0.002528</td>\n",
              "      <td>0.013702</td>\n",
              "      <td>0.013898</td>\n",
              "      <td>0.014206</td>\n",
              "      <td>0.016990</td>\n",
              "      <td>0.010354</td>\n",
              "      <td>-0.003611</td>\n",
              "      <td>-0.015004</td>\n",
              "      <td>-0.005995</td>\n",
              "      <td>0.006278</td>\n",
              "      <td>0.012627</td>\n",
              "      <td>0.175880</td>\n",
              "      <td>1.000000</td>\n",
              "      <td>0.004210</td>\n",
              "    </tr>\n",
              "    <tr>\n",
              "      <th>CreditCard</th>\n",
              "      <td>0.017028</td>\n",
              "      <td>0.007681</td>\n",
              "      <td>0.008967</td>\n",
              "      <td>-0.002385</td>\n",
              "      <td>0.007691</td>\n",
              "      <td>0.011588</td>\n",
              "      <td>-0.006689</td>\n",
              "      <td>-0.011014</td>\n",
              "      <td>-0.007231</td>\n",
              "      <td>0.002802</td>\n",
              "      <td>-0.015028</td>\n",
              "      <td>0.278644</td>\n",
              "      <td>0.004210</td>\n",
              "      <td>1.000000</td>\n",
              "    </tr>\n",
              "  </tbody>\n",
              "</table>\n",
              "</div>\n",
              "      <button class=\"colab-df-convert\" onclick=\"convertToInteractive('df-602fd81f-4270-4b9a-89d3-de2c7f0d973b')\"\n",
              "              title=\"Convert this dataframe to an interactive table.\"\n",
              "              style=\"display:none;\">\n",
              "        \n",
              "  <svg xmlns=\"http://www.w3.org/2000/svg\" height=\"24px\"viewBox=\"0 0 24 24\"\n",
              "       width=\"24px\">\n",
              "    <path d=\"M0 0h24v24H0V0z\" fill=\"none\"/>\n",
              "    <path d=\"M18.56 5.44l.94 2.06.94-2.06 2.06-.94-2.06-.94-.94-2.06-.94 2.06-2.06.94zm-11 1L8.5 8.5l.94-2.06 2.06-.94-2.06-.94L8.5 2.5l-.94 2.06-2.06.94zm10 10l.94 2.06.94-2.06 2.06-.94-2.06-.94-.94-2.06-.94 2.06-2.06.94z\"/><path d=\"M17.41 7.96l-1.37-1.37c-.4-.4-.92-.59-1.43-.59-.52 0-1.04.2-1.43.59L10.3 9.45l-7.72 7.72c-.78.78-.78 2.05 0 2.83L4 21.41c.39.39.9.59 1.41.59.51 0 1.02-.2 1.41-.59l7.78-7.78 2.81-2.81c.8-.78.8-2.07 0-2.86zM5.41 20L4 18.59l7.72-7.72 1.47 1.35L5.41 20z\"/>\n",
              "  </svg>\n",
              "      </button>\n",
              "      \n",
              "  <style>\n",
              "    .colab-df-container {\n",
              "      display:flex;\n",
              "      flex-wrap:wrap;\n",
              "      gap: 12px;\n",
              "    }\n",
              "\n",
              "    .colab-df-convert {\n",
              "      background-color: #E8F0FE;\n",
              "      border: none;\n",
              "      border-radius: 50%;\n",
              "      cursor: pointer;\n",
              "      display: none;\n",
              "      fill: #1967D2;\n",
              "      height: 32px;\n",
              "      padding: 0 0 0 0;\n",
              "      width: 32px;\n",
              "    }\n",
              "\n",
              "    .colab-df-convert:hover {\n",
              "      background-color: #E2EBFA;\n",
              "      box-shadow: 0px 1px 2px rgba(60, 64, 67, 0.3), 0px 1px 3px 1px rgba(60, 64, 67, 0.15);\n",
              "      fill: #174EA6;\n",
              "    }\n",
              "\n",
              "    [theme=dark] .colab-df-convert {\n",
              "      background-color: #3B4455;\n",
              "      fill: #D2E3FC;\n",
              "    }\n",
              "\n",
              "    [theme=dark] .colab-df-convert:hover {\n",
              "      background-color: #434B5C;\n",
              "      box-shadow: 0px 1px 3px 1px rgba(0, 0, 0, 0.15);\n",
              "      filter: drop-shadow(0px 1px 2px rgba(0, 0, 0, 0.3));\n",
              "      fill: #FFFFFF;\n",
              "    }\n",
              "  </style>\n",
              "\n",
              "      <script>\n",
              "        const buttonEl =\n",
              "          document.querySelector('#df-602fd81f-4270-4b9a-89d3-de2c7f0d973b button.colab-df-convert');\n",
              "        buttonEl.style.display =\n",
              "          google.colab.kernel.accessAllowed ? 'block' : 'none';\n",
              "\n",
              "        async function convertToInteractive(key) {\n",
              "          const element = document.querySelector('#df-602fd81f-4270-4b9a-89d3-de2c7f0d973b');\n",
              "          const dataTable =\n",
              "            await google.colab.kernel.invokeFunction('convertToInteractive',\n",
              "                                                     [key], {});\n",
              "          if (!dataTable) return;\n",
              "\n",
              "          const docLinkHtml = 'Like what you see? Visit the ' +\n",
              "            '<a target=\"_blank\" href=https://colab.research.google.com/notebooks/data_table.ipynb>data table notebook</a>'\n",
              "            + ' to learn more about interactive tables.';\n",
              "          element.innerHTML = '';\n",
              "          dataTable['output_type'] = 'display_data';\n",
              "          await google.colab.output.renderOutput(dataTable, element);\n",
              "          const docLink = document.createElement('div');\n",
              "          docLink.innerHTML = docLinkHtml;\n",
              "          element.appendChild(docLink);\n",
              "        }\n",
              "      </script>\n",
              "    </div>\n",
              "  </div>\n",
              "  "
            ]
          },
          "metadata": {},
          "execution_count": 13
        }
      ]
    },
    {
      "cell_type": "code",
      "source": [
        "plt.figure(figsize=(25,10))\n",
        "sns.heatmap(data.corr(),annot=True,linewidths=.5,fmt='.2f')\n",
        "plt.show()"
      ],
      "metadata": {
        "colab": {
          "base_uri": "https://localhost:8080/",
          "height": 515
        },
        "id": "sv5JQaw1Wyvx",
        "outputId": "ceb2bf29-8699-4360-fa8d-0ffe6d59ced3"
      },
      "execution_count": 14,
      "outputs": [
        {
          "output_type": "display_data",
          "data": {
            "text/plain": [
              "<Figure size 1800x720 with 2 Axes>"
            ],
            "image/png": "[encoded data removed]"
          },
          "metadata": {
            "needs_background": "light"
          }
        }
      ]
    },
    {
      "cell_type": "markdown",
      "source": [
        "Since, our target value is Personal loan.\n",
        "\n",
        "Therefore, the following is how independent variables affect the prediction of the target variable: from least to most\n",
        "\n",
        "Income (0.50)\n",
        "\n",
        "CCAvg (0.37)\n",
        "\n",
        "CD Account (0.32)\n",
        "\n",
        "Education & Mortgage (0.14)\n",
        "\n",
        "Family (0.06)\n",
        "\n",
        "Securities Account (0.02)\n",
        "\n",
        "Online (0.01)\n",
        "\n",
        "ZIP Code & CreditCard (0.00)\n",
        "\n",
        "Age & Experience (-0.01)"
      ],
      "metadata": {
        "id": "x2ayuN7YalAV"
      }
    },
    {
      "cell_type": "markdown",
      "source": [
        "In this Dataset, the predictor variables are not independent of each other.\n",
        "\n",
        "\n",
        "Experience and Age(0.99), Income and CCAvg(0.65) are dependent on each other."
      ],
      "metadata": {
        "id": "mgh7Yix1bPMl"
      }
    },
    {
      "cell_type": "markdown",
      "source": [
        "# Splitting Data into train and test"
      ],
      "metadata": {
        "id": "vhOshKgRbUNI"
      }
    },
    {
      "cell_type": "code",
      "source": [
        "X = data[['ID','Age','Experience','Income','ZIP Code','Family','CCAvg','Education','Mortgage',\n",
        "        'Securities Account','CD Account','Online','CreditCard']]\n",
        "\n",
        "y = data['Personal Loan']\n",
        "\n",
        "#spliting data \n",
        "X_t, X_test, y_t, y_test = train_test_split(X, y, test_size=0.25, random_state=1)\n",
        "\n",
        "X_train,X_t, y_train,y_t= train_test_split(X_t, y_t, test_size=0.15, random_state=1)"
      ],
      "metadata": {
        "id": "SC8t6epVbacp"
      },
      "execution_count": 15,
      "outputs": []
    },
    {
      "cell_type": "code",
      "source": [
        "X"
      ],
      "metadata": {
        "colab": {
          "base_uri": "https://localhost:8080/",
          "height": 485
        },
        "id": "KtONdvZCbkl2",
        "outputId": "445370cc-aa74-42b7-ce5e-11df6075052a"
      },
      "execution_count": 16,
      "outputs": [
        {
          "output_type": "execute_result",
          "data": {
            "text/plain": [
              "        ID  Age  Experience  Income  ZIP Code  Family  CCAvg  Education  \\\n",
              "0        1   25           1      49     91107       4    1.6          1   \n",
              "1        2   45          19      34     90089       3    1.5          1   \n",
              "2        3   39          15      11     94720       1    1.0          1   \n",
              "3        4   35           9     100     94112       1    2.7          2   \n",
              "4        5   35           8      45     91330       4    1.0          2   \n",
              "...    ...  ...         ...     ...       ...     ...    ...        ...   \n",
              "4995  4996   29           3      40     92697       1    1.9          3   \n",
              "4996  4997   30           4      15     92037       4    0.4          1   \n",
              "4997  4998   63          39      24     93023       2    0.3          3   \n",
              "4998  4999   65          40      49     90034       3    0.5          2   \n",
              "4999  5000   28           4      83     92612       3    0.8          1   \n",
              "\n",
              "      Mortgage  Securities Account  CD Account  Online  CreditCard  \n",
              "0            0                   1           0       0           0  \n",
              "1            0                   1           0       0           0  \n",
              "2            0                   0           0       0           0  \n",
              "3            0                   0           0       0           0  \n",
              "4            0                   0           0       0           1  \n",
              "...        ...                 ...         ...     ...         ...  \n",
              "4995         0                   0           0       1           0  \n",
              "4996        85                   0           0       1           0  \n",
              "4997         0                   0           0       0           0  \n",
              "4998         0                   0           0       1           0  \n",
              "4999         0                   0           0       1           1  \n",
              "\n",
              "[5000 rows x 13 columns]"
            ],
            "text/html": [
              "\n",
              "  <div id=\"df-2c3ac61d-f0c9-4d0a-8436-1db846962e43\">\n",
              "    <div class=\"colab-df-container\">\n",
              "      <div>\n",
              "<style scoped>\n",
              "    .dataframe tbody tr th:only-of-type {\n",
              "        vertical-align: middle;\n",
              "    }\n",
              "\n",
              "    .dataframe tbody tr th {\n",
              "        vertical-align: top;\n",
              "    }\n",
              "\n",
              "    .dataframe thead th {\n",
              "        text-align: right;\n",
              "    }\n",
              "</style>\n",
              "<table border=\"1\" class=\"dataframe\">\n",
              "  <thead>\n",
              "    <tr style=\"text-align: right;\">\n",
              "      <th></th>\n",
              "      <th>ID</th>\n",
              "      <th>Age</th>\n",
              "      <th>Experience</th>\n",
              "      <th>Income</th>\n",
              "      <th>ZIP Code</th>\n",
              "      <th>Family</th>\n",
              "      <th>CCAvg</th>\n",
              "      <th>Education</th>\n",
              "      <th>Mortgage</th>\n",
              "      <th>Securities Account</th>\n",
              "      <th>CD Account</th>\n",
              "      <th>Online</th>\n",
              "      <th>CreditCard</th>\n",
              "    </tr>\n",
              "  </thead>\n",
              "  <tbody>\n",
              "    <tr>\n",
              "      <th>0</th>\n",
              "      <td>1</td>\n",
              "      <td>25</td>\n",
              "      <td>1</td>\n",
              "      <td>49</td>\n",
              "      <td>91107</td>\n",
              "      <td>4</td>\n",
              "      <td>1.6</td>\n",
              "      <td>1</td>\n",
              "      <td>0</td>\n",
              "      <td>1</td>\n",
              "      <td>0</td>\n",
              "      <td>0</td>\n",
              "      <td>0</td>\n",
              "    </tr>\n",
              "    <tr>\n",
              "      <th>1</th>\n",
              "      <td>2</td>\n",
              "      <td>45</td>\n",
              "      <td>19</td>\n",
              "      <td>34</td>\n",
              "      <td>90089</td>\n",
              "      <td>3</td>\n",
              "      <td>1.5</td>\n",
              "      <td>1</td>\n",
              "      <td>0</td>\n",
              "      <td>1</td>\n",
              "      <td>0</td>\n",
              "      <td>0</td>\n",
              "      <td>0</td>\n",
              "    </tr>\n",
              "    <tr>\n",
              "      <th>2</th>\n",
              "      <td>3</td>\n",
              "      <td>39</td>\n",
              "      <td>15</td>\n",
              "      <td>11</td>\n",
              "      <td>94720</td>\n",
              "      <td>1</td>\n",
              "      <td>1.0</td>\n",
              "      <td>1</td>\n",
              "      <td>0</td>\n",
              "      <td>0</td>\n",
              "      <td>0</td>\n",
              "      <td>0</td>\n",
              "      <td>0</td>\n",
              "    </tr>\n",
              "    <tr>\n",
              "      <th>3</th>\n",
              "      <td>4</td>\n",
              "      <td>35</td>\n",
              "      <td>9</td>\n",
              "      <td>100</td>\n",
              "      <td>94112</td>\n",
              "      <td>1</td>\n",
              "      <td>2.7</td>\n",
              "      <td>2</td>\n",
              "      <td>0</td>\n",
              "      <td>0</td>\n",
              "      <td>0</td>\n",
              "      <td>0</td>\n",
              "      <td>0</td>\n",
              "    </tr>\n",
              "    <tr>\n",
              "      <th>4</th>\n",
              "      <td>5</td>\n",
              "      <td>35</td>\n",
              "      <td>8</td>\n",
              "      <td>45</td>\n",
              "      <td>91330</td>\n",
              "      <td>4</td>\n",
              "      <td>1.0</td>\n",
              "      <td>2</td>\n",
              "      <td>0</td>\n",
              "      <td>0</td>\n",
              "      <td>0</td>\n",
              "      <td>0</td>\n",
              "      <td>1</td>\n",
              "    </tr>\n",
              "    <tr>\n",
              "      <th>...</th>\n",
              "      <td>...</td>\n",
              "      <td>...</td>\n",
              "      <td>...</td>\n",
              "      <td>...</td>\n",
              "      <td>...</td>\n",
              "      <td>...</td>\n",
              "      <td>...</td>\n",
              "      <td>...</td>\n",
              "      <td>...</td>\n",
              "      <td>...</td>\n",
              "      <td>...</td>\n",
              "      <td>...</td>\n",
              "      <td>...</td>\n",
              "    </tr>\n",
              "    <tr>\n",
              "      <th>4995</th>\n",
              "      <td>4996</td>\n",
              "      <td>29</td>\n",
              "      <td>3</td>\n",
              "      <td>40</td>\n",
              "      <td>92697</td>\n",
              "      <td>1</td>\n",
              "      <td>1.9</td>\n",
              "      <td>3</td>\n",
              "      <td>0</td>\n",
              "      <td>0</td>\n",
              "      <td>0</td>\n",
              "      <td>1</td>\n",
              "      <td>0</td>\n",
              "    </tr>\n",
              "    <tr>\n",
              "      <th>4996</th>\n",
              "      <td>4997</td>\n",
              "      <td>30</td>\n",
              "      <td>4</td>\n",
              "      <td>15</td>\n",
              "      <td>92037</td>\n",
              "      <td>4</td>\n",
              "      <td>0.4</td>\n",
              "      <td>1</td>\n",
              "      <td>85</td>\n",
              "      <td>0</td>\n",
              "      <td>0</td>\n",
              "      <td>1</td>\n",
              "      <td>0</td>\n",
              "    </tr>\n",
              "    <tr>\n",
              "      <th>4997</th>\n",
              "      <td>4998</td>\n",
              "      <td>63</td>\n",
              "      <td>39</td>\n",
              "      <td>24</td>\n",
              "      <td>93023</td>\n",
              "      <td>2</td>\n",
              "      <td>0.3</td>\n",
              "      <td>3</td>\n",
              "      <td>0</td>\n",
              "      <td>0</td>\n",
              "      <td>0</td>\n",
              "      <td>0</td>\n",
              "      <td>0</td>\n",
              "    </tr>\n",
              "    <tr>\n",
              "      <th>4998</th>\n",
              "      <td>4999</td>\n",
              "      <td>65</td>\n",
              "      <td>40</td>\n",
              "      <td>49</td>\n",
              "      <td>90034</td>\n",
              "      <td>3</td>\n",
              "      <td>0.5</td>\n",
              "      <td>2</td>\n",
              "      <td>0</td>\n",
              "      <td>0</td>\n",
              "      <td>0</td>\n",
              "      <td>1</td>\n",
              "      <td>0</td>\n",
              "    </tr>\n",
              "    <tr>\n",
              "      <th>4999</th>\n",
              "      <td>5000</td>\n",
              "      <td>28</td>\n",
              "      <td>4</td>\n",
              "      <td>83</td>\n",
              "      <td>92612</td>\n",
              "      <td>3</td>\n",
              "      <td>0.8</td>\n",
              "      <td>1</td>\n",
              "      <td>0</td>\n",
              "      <td>0</td>\n",
              "      <td>0</td>\n",
              "      <td>1</td>\n",
              "      <td>1</td>\n",
              "    </tr>\n",
              "  </tbody>\n",
              "</table>\n",
              "<p>5000 rows × 13 columns</p>\n",
              "</div>\n",
              "      <button class=\"colab-df-convert\" onclick=\"convertToInteractive('df-2c3ac61d-f0c9-4d0a-8436-1db846962e43')\"\n",
              "              title=\"Convert this dataframe to an interactive table.\"\n",
              "              style=\"display:none;\">\n",
              "        \n",
              "  <svg xmlns=\"http://www.w3.org/2000/svg\" height=\"24px\"viewBox=\"0 0 24 24\"\n",
              "       width=\"24px\">\n",
              "    <path d=\"M0 0h24v24H0V0z\" fill=\"none\"/>\n",
              "    <path d=\"M18.56 5.44l.94 2.06.94-2.06 2.06-.94-2.06-.94-.94-2.06-.94 2.06-2.06.94zm-11 1L8.5 8.5l.94-2.06 2.06-.94-2.06-.94L8.5 2.5l-.94 2.06-2.06.94zm10 10l.94 2.06.94-2.06 2.06-.94-2.06-.94-.94-2.06-.94 2.06-2.06.94z\"/><path d=\"M17.41 7.96l-1.37-1.37c-.4-.4-.92-.59-1.43-.59-.52 0-1.04.2-1.43.59L10.3 9.45l-7.72 7.72c-.78.78-.78 2.05 0 2.83L4 21.41c.39.39.9.59 1.41.59.51 0 1.02-.2 1.41-.59l7.78-7.78 2.81-2.81c.8-.78.8-2.07 0-2.86zM5.41 20L4 18.59l7.72-7.72 1.47 1.35L5.41 20z\"/>\n",
              "  </svg>\n",
              "      </button>\n",
              "      \n",
              "  <style>\n",
              "    .colab-df-container {\n",
              "      display:flex;\n",
              "      flex-wrap:wrap;\n",
              "      gap: 12px;\n",
              "    }\n",
              "\n",
              "    .colab-df-convert {\n",
              "      background-color: #E8F0FE;\n",
              "      border: none;\n",
              "      border-radius: 50%;\n",
              "      cursor: pointer;\n",
              "      display: none;\n",
              "      fill: #1967D2;\n",
              "      height: 32px;\n",
              "      padding: 0 0 0 0;\n",
              "      width: 32px;\n",
              "    }\n",
              "\n",
              "    .colab-df-convert:hover {\n",
              "      background-color: #E2EBFA;\n",
              "      box-shadow: 0px 1px 2px rgba(60, 64, 67, 0.3), 0px 1px 3px 1px rgba(60, 64, 67, 0.15);\n",
              "      fill: #174EA6;\n",
              "    }\n",
              "\n",
              "    [theme=dark] .colab-df-convert {\n",
              "      background-color: #3B4455;\n",
              "      fill: #D2E3FC;\n",
              "    }\n",
              "\n",
              "    [theme=dark] .colab-df-convert:hover {\n",
              "      background-color: #434B5C;\n",
              "      box-shadow: 0px 1px 3px 1px rgba(0, 0, 0, 0.15);\n",
              "      filter: drop-shadow(0px 1px 2px rgba(0, 0, 0, 0.3));\n",
              "      fill: #FFFFFF;\n",
              "    }\n",
              "  </style>\n",
              "\n",
              "      <script>\n",
              "        const buttonEl =\n",
              "          document.querySelector('#df-2c3ac61d-f0c9-4d0a-8436-1db846962e43 button.colab-df-convert');\n",
              "        buttonEl.style.display =\n",
              "          google.colab.kernel.accessAllowed ? 'block' : 'none';\n",
              "\n",
              "        async function convertToInteractive(key) {\n",
              "          const element = document.querySelector('#df-2c3ac61d-f0c9-4d0a-8436-1db846962e43');\n",
              "          const dataTable =\n",
              "            await google.colab.kernel.invokeFunction('convertToInteractive',\n",
              "                                                     [key], {});\n",
              "          if (!dataTable) return;\n",
              "\n",
              "          const docLinkHtml = 'Like what you see? Visit the ' +\n",
              "            '<a target=\"_blank\" href=https://colab.research.google.com/notebooks/data_table.ipynb>data table notebook</a>'\n",
              "            + ' to learn more about interactive tables.';\n",
              "          element.innerHTML = '';\n",
              "          dataTable['output_type'] = 'display_data';\n",
              "          await google.colab.output.renderOutput(dataTable, element);\n",
              "          const docLink = document.createElement('div');\n",
              "          docLink.innerHTML = docLinkHtml;\n",
              "          element.appendChild(docLink);\n",
              "        }\n",
              "      </script>\n",
              "    </div>\n",
              "  </div>\n",
              "  "
            ]
          },
          "metadata": {},
          "execution_count": 16
        }
      ]
    },
    {
      "cell_type": "code",
      "source": [
        "y"
      ],
      "metadata": {
        "colab": {
          "base_uri": "https://localhost:8080/"
        },
        "id": "mU6piHLWb7bG",
        "outputId": "b7154e83-d0af-4d6d-d015-fcea23c43ef6"
      },
      "execution_count": 17,
      "outputs": [
        {
          "output_type": "execute_result",
          "data": {
            "text/plain": [
              "0       0\n",
              "1       0\n",
              "2       0\n",
              "3       0\n",
              "4       0\n",
              "       ..\n",
              "4995    0\n",
              "4996    0\n",
              "4997    0\n",
              "4998    0\n",
              "4999    0\n",
              "Name: Personal Loan, Length: 5000, dtype: int64"
            ]
          },
          "metadata": {},
          "execution_count": 17
        }
      ]
    },
    {
      "cell_type": "code",
      "source": [
        "X_test_plot = X_test[['Age','Experience','Income','ZIP Code','Family','CCAvg','Education','Mortgage',\n",
        "        'Securities Account','CD Account','Online','CreditCard']]\n",
        "\n",
        "X_train_plot = X_train[['Age','Experience','Income','ZIP Code','Family','CCAvg','Education','Mortgage',\n",
        "        'Securities Account','CD Account','Online','CreditCard']]\n",
        "\n",
        "#X_train,X_t, y_train,y_t= train_test_split(X_t, y_t, test_size=0.15, random_state=1)\n",
        "\n",
        "# Plotting the data to see the histogram of train and text data \n",
        "for c in X_test_plot.columns[:]:\n",
        "  plt.figure(figsize=(8,6))\n",
        "  plt.hist(X_test_plot[c], bins=20, alpha=0.5, label=\"test\")\n",
        "  plt.hist(X_train_plot[c], bins=20, alpha=0.5, label=\"train\")\n",
        "  plt.xlabel(c, size=14)\n",
        "  plt.ylabel(\"Count\", size=14)\n",
        "  plt.legend(loc='upper right')\n",
        "  plt.title(\"{} distribution\".format(c))\n",
        "  plt.show()"
      ],
      "metadata": {
        "colab": {
          "base_uri": "https://localhost:8080/",
          "height": 1000
        },
        "id": "5HKY8fJMb_JG",
        "outputId": "876cbfeb-c152-4abc-b3a0-437c8ce22292"
      },
      "execution_count": 18,
      "outputs": [
        {
          "output_type": "display_data",
          "data": {
            "text/plain": [
              "<Figure size 576x432 with 1 Axes>"
            ],
            "image/png": "[encoded data removed]"
          },
          "metadata": {
            "needs_background": "light"
          }
        },
        {
          "output_type": "display_data",
          "data": {
            "text/plain": [
              "<Figure size 576x432 with 1 Axes>"
            ],
            "image/png": "[encoded data removed]"
          },
          "metadata": {
            "needs_background": "light"
          }
        },
        {
          "output_type": "display_data",
          "data": {
            "text/plain": [
              "<Figure size 576x432 with 1 Axes>"
            ],
            "image/png": "[encoded data removed]"
          },
          "metadata": {
            "needs_background": "light"
          }
        },
        {
          "output_type": "display_data",
          "data": {
            "text/plain": [
              "<Figure size 576x432 with 1 Axes>"
            ],
            "image/png": "[encoded data removed]"
          },
          "metadata": {
            "needs_background": "light"
          }
        },
        {
          "output_type": "display_data",
          "data": {
            "text/plain": [
              "<Figure size 576x432 with 1 Axes>"
            ],
            "image/png": "[encoded data removed]"
          },
          "metadata": {
            "needs_background": "light"
          }
        },
        {
          "output_type": "display_data",
          "data": {
            "text/plain": [
              "<Figure size 576x432 with 1 Axes>"
            ],
            "image/png": "[encoded data removed]"
          },
          "metadata": {
            "needs_background": "light"
          }
        },
        {
          "output_type": "display_data",
          "data": {
            "text/plain": [
              "<Figure size 576x432 with 1 Axes>"
            ],
            "image/png": "[encoded data removed]"
          },
          "metadata": {
            "needs_background": "light"
          }
        },
        {
          "output_type": "display_data",
          "data": {
            "text/plain": [
              "<Figure size 576x432 with 1 Axes>"
            ],
            "image/png": "[encoded data removed]"
          },
          "metadata": {
            "needs_background": "light"
          }
        },
        {
          "output_type": "display_data",
          "data": {
            "text/plain": [
              "<Figure size 576x432 with 1 Axes>"
            ],
            "image/png": "[encoded data removed]"
          },
          "metadata": {
            "needs_background": "light"
          }
        },
        {
          "output_type": "display_data",
          "data": {
            "text/plain": [
              "<Figure size 576x432 with 1 Axes>"
            ],
            "image/png": "[encoded data removed]"
          },
          "metadata": {
            "needs_background": "light"
          }
        },
        {
          "output_type": "display_data",
          "data": {
            "text/plain": [
              "<Figure size 576x432 with 1 Axes>"
            ],
            "image/png": "[encoded data removed]"
          },
          "metadata": {
            "needs_background": "light"
          }
        },
        {
          "output_type": "display_data",
          "data": {
            "text/plain": [
              "<Figure size 576x432 with 1 Axes>"
            ],
            "image/png": "[encoded data removed]"
          },
          "metadata": {
            "needs_background": "light"
          }
        }
      ]
    },
    {
      "cell_type": "markdown",
      "source": [
        "We can see that the train and test data have a similar distribution by looking at the graphs. This indicates that they share the same data."
      ],
      "metadata": {
        "id": "KG_FxCLpcpQx"
      }
    },
    {
      "cell_type": "markdown",
      "source": [
        "# Logistic regression and model accuracy"
      ],
      "metadata": {
        "id": "pwtp5Zfgcs6C"
      }
    },
    {
      "cell_type": "code",
      "source": [
        "#from sklearn.metrics import r2_score, mean_squared_error \n",
        "#from sklearn.linear_model import LinearRegression\n",
        "#from sklearn import datasets, linear_model\n",
        "\n",
        "from sklearn.linear_model import LogisticRegression\n",
        "from sklearn.metrics import classification_report, confusion_matrix\n",
        "from sklearn.metrics import accuracy_score\n",
        "#from sklearn.metrics import zero_one_loss\n",
        "#from sklearn.metrics import r2_score, mean_squared_error \n",
        "from sklearn.metrics import log_loss\n",
        "\n",
        "\n",
        "# Create logistic regression object\n",
        "regr = LogisticRegression()\n",
        "\n",
        "model_lor = regr.fit(X_train, y_train)\n",
        "prediction = model_lor.predict(X_test)\n",
        "\n",
        "# Train the model using the training sets\n",
        "regr.fit(X_train,y_train)\n",
        "\n",
        "#accuracy\n",
        "print(\"training data score: {:,.3%}\".format(regr.score(X_train, y_train)))\n",
        "print(\"test data score: {:,.3%}\".format(regr.score(X_test, y_test)))\n",
        "\n",
        "#Make predictions using the training set\n",
        "y_pred = regr.predict(X_train)\n",
        "\n",
        "logloss = log_loss(y_test,regr.predict_log_proba(X_test))\n",
        "print(\"Log loss:\",logloss)\n"
      ],
      "metadata": {
        "colab": {
          "base_uri": "https://localhost:8080/"
        },
        "id": "1wc241AXcz2C",
        "outputId": "0c546b78-26de-46eb-f920-fc0978092e16"
      },
      "execution_count": 19,
      "outputs": [
        {
          "output_type": "stream",
          "name": "stdout",
          "text": [
            "training data score: 93.191%\n",
            "test data score: 92.720%\n",
            "Log loss: 0.6931471805599454\n"
          ]
        }
      ]
    },
    {
      "cell_type": "markdown",
      "source": [
        "The Accuracy of model before removing outliers from CCAvg is obsereved to be 90.2% in training data and 89.6% in test data."
      ],
      "metadata": {
        "id": "fpTZJ9sHNc7O"
      }
    },
    {
      "cell_type": "markdown",
      "source": [
        "# Using XGBoost Method"
      ],
      "metadata": {
        "id": "Rjh21GllMzFU"
      }
    },
    {
      "cell_type": "code",
      "source": [
        "from xgboost import XGBClassifier\n",
        "\n",
        "model = XGBClassifier()\n",
        "model.fit(X_train, y_train)\n",
        "\n",
        "\n",
        "importances = pd.DataFrame(data={\n",
        "    'Attribute': X_train.columns,\n",
        "    'Importance': model.feature_importances_\n",
        "})\n",
        "\n",
        "\n",
        "importances = importances.sort_values(by='Importance', ascending=False)"
      ],
      "metadata": {
        "id": "AZpWiOrTMYhl"
      },
      "execution_count": 20,
      "outputs": []
    },
    {
      "cell_type": "code",
      "source": [
        "plt.bar(x=importances['Attribute'], height=importances['Importance'], color='#087E8B')\n",
        "plt.title('Feature importances obtained from coefficients', size=20)\n",
        "plt.xticks(rotation='vertical')\n",
        "plt.show()"
      ],
      "metadata": {
        "colab": {
          "base_uri": "https://localhost:8080/",
          "height": 369
        },
        "id": "MVN-SY4BMtyi",
        "outputId": "b74e84eb-3164-403e-eaee-bc5db4105980"
      },
      "execution_count": 21,
      "outputs": [
        {
          "output_type": "display_data",
          "data": {
            "text/plain": [
              "<Figure size 432x288 with 1 Axes>"
            ],
            "image/png": "[encoded data removed]"
          },
          "metadata": {
            "needs_background": "light"
          }
        }
      ]
    },
    {
      "cell_type": "markdown",
      "source": [
        "# Confusion Matrix"
      ],
      "metadata": {
        "id": "FA-h4LvsehNr"
      }
    },
    {
      "cell_type": "code",
      "source": [
        "from sklearn.metrics import confusion_matrix\n",
        "print(confusion_matrix(y_test, prediction))"
      ],
      "metadata": {
        "colab": {
          "base_uri": "https://localhost:8080/"
        },
        "id": "pdtqsMB0emSZ",
        "outputId": "cacd24fc-bb7e-4341-8a9a-e53cf447cfda"
      },
      "execution_count": 22,
      "outputs": [
        {
          "output_type": "stream",
          "name": "stdout",
          "text": [
            "[[1099   22]\n",
            " [  69   60]]\n"
          ]
        }
      ]
    },
    {
      "cell_type": "markdown",
      "source": [
        "# Random Forest Classifier"
      ],
      "metadata": {
        "id": "S6FcMsiZeqys"
      }
    },
    {
      "cell_type": "code",
      "source": [
        "from numpy.random.mtrand import random_integers\n",
        "from sklearn.ensemble import RandomForestClassifier\n",
        "\n",
        "regr1 = RandomForestClassifier()\n",
        "model1 = regr1.fit(X_train, y_train)\n",
        "prediction1 = model1.predict(X_test)\n",
        "\n",
        "print(\"training data score: {:,.3%}\".format(regr1.score(X_train, y_train)))\n",
        "print(\"test data score: {:,.3%}\".format(regr1.score(X_test, y_test)))"
      ],
      "metadata": {
        "colab": {
          "base_uri": "https://localhost:8080/"
        },
        "id": "5bCl9VyLexEf",
        "outputId": "f9b2dc40-6424-4ce9-a6ba-d943bceae4ec"
      },
      "execution_count": 23,
      "outputs": [
        {
          "output_type": "stream",
          "name": "stdout",
          "text": [
            "training data score: 100.000%\n",
            "test data score: 97.920%\n"
          ]
        }
      ]
    },
    {
      "cell_type": "markdown",
      "source": [
        "The overfitting of the Random Forest Classifier model results in 100% accuracy on the training dataset."
      ],
      "metadata": {
        "id": "W_AHCnRye2nq"
      }
    },
    {
      "cell_type": "code",
      "source": [
        "perm = PermutationImportance(model1, random_state=1).fit(X_test, y_test)\n",
        "eli5.show_weights(perm, feature_names = X_test.columns.tolist())"
      ],
      "metadata": {
        "colab": {
          "base_uri": "https://localhost:8080/",
          "height": 260
        },
        "id": "LV1Hdr6Fe59v",
        "outputId": "16ce3504-009a-4ac1-9fad-af495ef318a3"
      },
      "execution_count": 24,
      "outputs": [
        {
          "output_type": "execute_result",
          "data": {
            "text/plain": [
              "<IPython.core.display.HTML object>"
            ],
            "text/html": [
              "\n",
              "    <style>\n",
              "    table.eli5-weights tr:hover {\n",
              "        filter: brightness(85%);\n",
              "    }\n",
              "</style>\n",
              "\n",
              "\n",
              "\n",
              "    \n",
              "\n",
              "    \n",
              "\n",
              "    \n",
              "\n",
              "    \n",
              "\n",
              "    \n",
              "\n",
              "    \n",
              "\n",
              "\n",
              "    \n",
              "\n",
              "    \n",
              "\n",
              "    \n",
              "\n",
              "    \n",
              "\n",
              "    \n",
              "\n",
              "    \n",
              "\n",
              "\n",
              "    \n",
              "\n",
              "    \n",
              "\n",
              "    \n",
              "\n",
              "    \n",
              "\n",
              "    \n",
              "        <table class=\"eli5-weights eli5-feature-importances\" style=\"border-collapse: collapse; border: none; margin-top: 0em; table-layout: auto;\">\n",
              "    <thead>\n",
              "    <tr style=\"border: none;\">\n",
              "        <th style=\"padding: 0 1em 0 0.5em; text-align: right; border: none;\">Weight</th>\n",
              "        <th style=\"padding: 0 0.5em 0 0.5em; text-align: left; border: none;\">Feature</th>\n",
              "    </tr>\n",
              "    </thead>\n",
              "    <tbody>\n",
              "    \n",
              "        <tr style=\"background-color: hsl(120, 100.00%, 80.00%); border: none;\">\n",
              "            <td style=\"padding: 0 1em 0 0.5em; text-align: right; border: none;\">\n",
              "                0.1680\n",
              "                \n",
              "                    &plusmn; 0.0088\n",
              "                \n",
              "            </td>\n",
              "            <td style=\"padding: 0 0.5em 0 0.5em; text-align: left; border: none;\">\n",
              "                Income\n",
              "            </td>\n",
              "        </tr>\n",
              "    \n",
              "        <tr style=\"background-color: hsl(120, 100.00%, 87.20%); border: none;\">\n",
              "            <td style=\"padding: 0 1em 0 0.5em; text-align: right; border: none;\">\n",
              "                0.0888\n",
              "                \n",
              "                    &plusmn; 0.0124\n",
              "                \n",
              "            </td>\n",
              "            <td style=\"padding: 0 0.5em 0 0.5em; text-align: left; border: none;\">\n",
              "                Education\n",
              "            </td>\n",
              "        </tr>\n",
              "    \n",
              "        <tr style=\"background-color: hsl(120, 100.00%, 90.42%); border: none;\">\n",
              "            <td style=\"padding: 0 1em 0 0.5em; text-align: right; border: none;\">\n",
              "                0.0587\n",
              "                \n",
              "                    &plusmn; 0.0064\n",
              "                \n",
              "            </td>\n",
              "            <td style=\"padding: 0 0.5em 0 0.5em; text-align: left; border: none;\">\n",
              "                Family\n",
              "            </td>\n",
              "        </tr>\n",
              "    \n",
              "        <tr style=\"background-color: hsl(120, 100.00%, 97.79%); border: none;\">\n",
              "            <td style=\"padding: 0 1em 0 0.5em; text-align: right; border: none;\">\n",
              "                0.0072\n",
              "                \n",
              "                    &plusmn; 0.0032\n",
              "                \n",
              "            </td>\n",
              "            <td style=\"padding: 0 0.5em 0 0.5em; text-align: left; border: none;\">\n",
              "                CCAvg\n",
              "            </td>\n",
              "        </tr>\n",
              "    \n",
              "        <tr style=\"background-color: hsl(120, 100.00%, 99.18%); border: none;\">\n",
              "            <td style=\"padding: 0 1em 0 0.5em; text-align: right; border: none;\">\n",
              "                0.0018\n",
              "                \n",
              "                    &plusmn; 0.0006\n",
              "                \n",
              "            </td>\n",
              "            <td style=\"padding: 0 0.5em 0 0.5em; text-align: left; border: none;\">\n",
              "                CD Account\n",
              "            </td>\n",
              "        </tr>\n",
              "    \n",
              "        <tr style=\"background-color: hsl(120, 100.00%, 99.53%); border: none;\">\n",
              "            <td style=\"padding: 0 1em 0 0.5em; text-align: right; border: none;\">\n",
              "                0.0008\n",
              "                \n",
              "                    &plusmn; 0.0010\n",
              "                \n",
              "            </td>\n",
              "            <td style=\"padding: 0 0.5em 0 0.5em; text-align: left; border: none;\">\n",
              "                Experience\n",
              "            </td>\n",
              "        </tr>\n",
              "    \n",
              "        <tr style=\"background-color: hsl(120, 100.00%, 99.67%); border: none;\">\n",
              "            <td style=\"padding: 0 1em 0 0.5em; text-align: right; border: none;\">\n",
              "                0.0005\n",
              "                \n",
              "                    &plusmn; 0.0008\n",
              "                \n",
              "            </td>\n",
              "            <td style=\"padding: 0 0.5em 0 0.5em; text-align: left; border: none;\">\n",
              "                Age\n",
              "            </td>\n",
              "        </tr>\n",
              "    \n",
              "        <tr style=\"background-color: hsl(120, 100.00%, 99.75%); border: none;\">\n",
              "            <td style=\"padding: 0 1em 0 0.5em; text-align: right; border: none;\">\n",
              "                0.0003\n",
              "                \n",
              "                    &plusmn; 0.0008\n",
              "                \n",
              "            </td>\n",
              "            <td style=\"padding: 0 0.5em 0 0.5em; text-align: left; border: none;\">\n",
              "                ZIP Code\n",
              "            </td>\n",
              "        </tr>\n",
              "    \n",
              "        <tr style=\"background-color: hsl(120, 100.00%, 99.85%); border: none;\">\n",
              "            <td style=\"padding: 0 1em 0 0.5em; text-align: right; border: none;\">\n",
              "                0.0002\n",
              "                \n",
              "                    &plusmn; 0.0016\n",
              "                \n",
              "            </td>\n",
              "            <td style=\"padding: 0 0.5em 0 0.5em; text-align: left; border: none;\">\n",
              "                ID\n",
              "            </td>\n",
              "        </tr>\n",
              "    \n",
              "        <tr style=\"background-color: hsl(0, 100.00%, 100.00%); border: none;\">\n",
              "            <td style=\"padding: 0 1em 0 0.5em; text-align: right; border: none;\">\n",
              "                0\n",
              "                \n",
              "                    &plusmn; 0.0000\n",
              "                \n",
              "            </td>\n",
              "            <td style=\"padding: 0 0.5em 0 0.5em; text-align: left; border: none;\">\n",
              "                CreditCard\n",
              "            </td>\n",
              "        </tr>\n",
              "    \n",
              "        <tr style=\"background-color: hsl(0, 100.00%, 100.00%); border: none;\">\n",
              "            <td style=\"padding: 0 1em 0 0.5em; text-align: right; border: none;\">\n",
              "                0\n",
              "                \n",
              "                    &plusmn; 0.0000\n",
              "                \n",
              "            </td>\n",
              "            <td style=\"padding: 0 0.5em 0 0.5em; text-align: left; border: none;\">\n",
              "                Online\n",
              "            </td>\n",
              "        </tr>\n",
              "    \n",
              "        <tr style=\"background-color: hsl(0, 100.00%, 100.00%); border: none;\">\n",
              "            <td style=\"padding: 0 1em 0 0.5em; text-align: right; border: none;\">\n",
              "                0\n",
              "                \n",
              "                    &plusmn; 0.0000\n",
              "                \n",
              "            </td>\n",
              "            <td style=\"padding: 0 0.5em 0 0.5em; text-align: left; border: none;\">\n",
              "                Securities Account\n",
              "            </td>\n",
              "        </tr>\n",
              "    \n",
              "        <tr style=\"background-color: hsl(0, 100.00%, 99.75%); border: none;\">\n",
              "            <td style=\"padding: 0 1em 0 0.5em; text-align: right; border: none;\">\n",
              "                -0.0003\n",
              "                \n",
              "                    &plusmn; 0.0008\n",
              "                \n",
              "            </td>\n",
              "            <td style=\"padding: 0 0.5em 0 0.5em; text-align: left; border: none;\">\n",
              "                Mortgage\n",
              "            </td>\n",
              "        </tr>\n",
              "    \n",
              "    \n",
              "    </tbody>\n",
              "</table>\n",
              "    \n",
              "\n",
              "    \n",
              "\n",
              "\n",
              "    \n",
              "\n",
              "    \n",
              "\n",
              "    \n",
              "\n",
              "    \n",
              "\n",
              "    \n",
              "\n",
              "    \n",
              "\n",
              "\n",
              "\n"
            ]
          },
          "metadata": {},
          "execution_count": 24
        }
      ]
    },
    {
      "cell_type": "markdown",
      "source": [
        "Permutation feature importance measures the increase in the prediction error of the model after we permuted the feature’s values, which breaks the relationship between the feature and the true outcome.\n",
        "\n",
        "A feature is “important” if shuffling its values increases the model error, because in this case the model relied on the feature for the prediction. A feature is “unimportant” if shuffling its values leaves the model error unchanged, because in this case the model ignored the feature for the prediction.\n",
        "\n",
        "Therefore, In this data set Income is the most important feature."
      ],
      "metadata": {
        "id": "4LT1c2g7qCGJ"
      }
    },
    {
      "cell_type": "code",
      "source": [
        "data.plot(kind='box', figsize=(12,12), layout=(4,4),sharex=False, subplots=True);"
      ],
      "metadata": {
        "colab": {
          "base_uri": "https://localhost:8080/",
          "height": 700
        },
        "id": "hnpPTItOqFV7",
        "outputId": "867e640e-f33e-4e6a-d75c-a6b8e8425c8a"
      },
      "execution_count": 25,
      "outputs": [
        {
          "output_type": "display_data",
          "data": {
            "text/plain": [
              "<Figure size 864x864 with 16 Axes>"
            ],
            "image/png": "[encoded data removed]"
          },
          "metadata": {
            "needs_background": "light"
          }
        }
      ]
    },
    {
      "cell_type": "markdown",
      "source": [
        "# Removing Outliers from CCAvg\n",
        "To remove outliers, first identify the location of outliers and then remove them from the list."
      ],
      "metadata": {
        "id": "YmLee7idqYCC"
      }
    },
    {
      "cell_type": "code",
      "source": [
        "data_outliers = data.copy()"
      ],
      "metadata": {
        "id": "Lrv8Vo1hqbxE"
      },
      "execution_count": 26,
      "outputs": []
    },
    {
      "cell_type": "code",
      "source": [
        "sns.boxplot(data_outliers['CCAvg'])"
      ],
      "metadata": {
        "colab": {
          "base_uri": "https://localhost:8080/",
          "height": 297
        },
        "id": "aEq1IQ-Wqk8j",
        "outputId": "228f822a-df92-4b08-a35e-0f33b6649b41"
      },
      "execution_count": 27,
      "outputs": [
        {
          "output_type": "execute_result",
          "data": {
            "text/plain": [
              "<matplotlib.axes._subplots.AxesSubplot at 0x7feb391432b0>"
            ]
          },
          "metadata": {},
          "execution_count": 27
        },
        {
          "output_type": "display_data",
          "data": {
            "text/plain": [
              "<Figure size 432x288 with 1 Axes>"
            ],
            "image/png": "[encoded data removed]"
          },
          "metadata": {
            "needs_background": "light"
          }
        }
      ]
    },
    {
      "cell_type": "code",
      "source": [
        "data_outliers.shape"
      ],
      "metadata": {
        "colab": {
          "base_uri": "https://localhost:8080/"
        },
        "id": "71eKKJoLqpHg",
        "outputId": "133b3fe4-76e2-4cf6-b9fa-ee908302897d"
      },
      "execution_count": 28,
      "outputs": [
        {
          "output_type": "execute_result",
          "data": {
            "text/plain": [
              "(5000, 14)"
            ]
          },
          "metadata": {},
          "execution_count": 28
        }
      ]
    },
    {
      "cell_type": "markdown",
      "source": [
        "In CCAvg, values above 5 are acting as outliers."
      ],
      "metadata": {
        "id": "xzu4oYzSqvmn"
      }
    },
    {
      "cell_type": "code",
      "source": [
        "print(np.where(data_outliers['CCAvg']>5))"
      ],
      "metadata": {
        "colab": {
          "base_uri": "https://localhost:8080/"
        },
        "id": "EQTQ3ujyqyv6",
        "outputId": "a87e9451-c86c-4fd2-90c4-347cb346aa77"
      },
      "execution_count": 29,
      "outputs": [
        {
          "output_type": "stream",
          "name": "stdout",
          "text": [
            "(array([   9,   18,   44,   55,   61,   90,   96,  131,  145,  150,  151,\n",
            "        160,  172,  174,  194,  199,  213,  227,  243,  251,  299,  301,\n",
            "        302,  311,  324,  329,  348,  351,  361,  365,  389,  400,  422,\n",
            "        423,  432,  462,  463,  474,  475,  479,  494,  509,  526,  544,\n",
            "        554,  570,  577,  589,  597,  614,  615,  636,  641,  650,  681,\n",
            "        703,  704,  725,  730,  740,  770,  779,  782,  783,  784,  785,\n",
            "        787,  800,  805,  807,  834,  881,  891,  909,  915,  917,  935,\n",
            "        952,  954,  965, 1008, 1023, 1038, 1050, 1064, 1079, 1084, 1116,\n",
            "       1125, 1148, 1149, 1163, 1190, 1192, 1206, 1220, 1237, 1244, 1273,\n",
            "       1277, 1304, 1307, 1321, 1328, 1339, 1349, 1354, 1402, 1408, 1411,\n",
            "       1431, 1432, 1447, 1495, 1498, 1520, 1521, 1541, 1592, 1600, 1603,\n",
            "       1626, 1629, 1637, 1651, 1652, 1679, 1695, 1696, 1704, 1711, 1716,\n",
            "       1719, 1752, 1765, 1768, 1792, 1797, 1822, 1824, 1825, 1830, 1843,\n",
            "       1868, 1884, 1890, 1901, 1918, 1962, 1994, 2005, 2014, 2038, 2041,\n",
            "       2046, 2059, 2076, 2077, 2087, 2101, 2103, 2109, 2144, 2149, 2153,\n",
            "       2191, 2226, 2231, 2235, 2302, 2305, 2316, 2317, 2337, 2338, 2359,\n",
            "       2377, 2379, 2382, 2394, 2400, 2410, 2434, 2447, 2455, 2468, 2478,\n",
            "       2490, 2498, 2502, 2522, 2523, 2538, 2558, 2580, 2586, 2590, 2593,\n",
            "       2609, 2613, 2614, 2641, 2648, 2691, 2698, 2702, 2713, 2714, 2721,\n",
            "       2769, 2771, 2772, 2773, 2776, 2787, 2791, 2793, 2805, 2812, 2832,\n",
            "       2841, 2849, 2852, 2857, 2858, 2870, 2898, 2927, 2928, 2932, 2934,\n",
            "       2952, 2956, 2988, 3005, 3029, 3054, 3060, 3161, 3165, 3184, 3203,\n",
            "       3218, 3268, 3312, 3321, 3335, 3339, 3366, 3368, 3373, 3384, 3397,\n",
            "       3427, 3446, 3476, 3489, 3518, 3541, 3553, 3562, 3571, 3573, 3613,\n",
            "       3614, 3615, 3632, 3639, 3646, 3679, 3688, 3700, 3704, 3735, 3742,\n",
            "       3745, 3758, 3780, 3804, 3807, 3808, 3822, 3843, 3887, 3896, 3924,\n",
            "       3943, 3945, 4008, 4009, 4020, 4026, 4035, 4047, 4056, 4060, 4116,\n",
            "       4147, 4151, 4153, 4156, 4225, 4238, 4256, 4258, 4267, 4271, 4276,\n",
            "       4282, 4285, 4294, 4307, 4310, 4328, 4331, 4344, 4354, 4357, 4388,\n",
            "       4414, 4470, 4480, 4566, 4574, 4580, 4603, 4606, 4631, 4642, 4652,\n",
            "       4653, 4655, 4659, 4679, 4700, 4719, 4755, 4782, 4859, 4873, 4888,\n",
            "       4908, 4911, 4937, 4980, 4993]),)\n"
          ]
        }
      ]
    },
    {
      "cell_type": "code",
      "source": [
        "#IQR-Inter Quartile Range\n",
        "Q1 = np.percentile(data_outliers['CCAvg'], 25, interpolation = 'midpoint')\n",
        " \n",
        "Q3 = np.percentile(data_outliers['CCAvg'], 75, interpolation = 'midpoint')\n",
        "\n",
        "IQR = Q3 - Q1\n",
        " \n",
        "print(\"Shape Before removing Outliers: \", data_outliers.shape)"
      ],
      "metadata": {
        "colab": {
          "base_uri": "https://localhost:8080/"
        },
        "id": "B7UsahAqq_4C",
        "outputId": "d9e31246-f33c-43d6-a554-d1621773fa2d"
      },
      "execution_count": 30,
      "outputs": [
        {
          "output_type": "stream",
          "name": "stdout",
          "text": [
            "Shape Before removing Outliers:  (5000, 14)\n"
          ]
        }
      ]
    },
    {
      "cell_type": "code",
      "source": [
        "#upper bound\n",
        "upper = np.where(data_outliers['CCAvg'] >= (Q3+1.5*IQR))\n",
        "# Lower bound\n",
        "lower = np.where(data_outliers['CCAvg'] <= (Q1-1.5*IQR))"
      ],
      "metadata": {
        "id": "wbcfwttErMIJ"
      },
      "execution_count": 31,
      "outputs": []
    },
    {
      "cell_type": "code",
      "source": [
        "data_outliers.drop(upper[0], inplace = True)\n",
        "data_outliers.drop(lower[0], inplace = True)\n",
        " \n",
        "print(\"After Removal of outliers: \", data_outliers.shape)"
      ],
      "metadata": {
        "colab": {
          "base_uri": "https://localhost:8080/"
        },
        "id": "iKF1xrnVrR-k",
        "outputId": "09710721-75b6-49c7-d59c-29deb318f1f0"
      },
      "execution_count": 32,
      "outputs": [
        {
          "output_type": "stream",
          "name": "stdout",
          "text": [
            "After Removal of outliers:  (4660, 14)\n"
          ]
        }
      ]
    },
    {
      "cell_type": "code",
      "source": [
        "sns.boxplot(data_outliers['CCAvg'])"
      ],
      "metadata": {
        "colab": {
          "base_uri": "https://localhost:8080/",
          "height": 297
        },
        "id": "Vczed5U8rYjd",
        "outputId": "839cdb90-518c-4467-fe5d-10c0647b0232"
      },
      "execution_count": 33,
      "outputs": [
        {
          "output_type": "execute_result",
          "data": {
            "text/plain": [
              "<matplotlib.axes._subplots.AxesSubplot at 0x7feb3922f7c0>"
            ]
          },
          "metadata": {},
          "execution_count": 33
        },
        {
          "output_type": "display_data",
          "data": {
            "text/plain": [
              "<Figure size 432x288 with 1 Axes>"
            ],
            "image/png": "[encoded data removed]"
          },
          "metadata": {
            "needs_background": "light"
          }
        }
      ]
    },
    {
      "cell_type": "markdown",
      "source": [
        "# Removing outliers from mortgage"
      ],
      "metadata": {
        "id": "GiYIN3z3JzIb"
      }
    },
    {
      "cell_type": "code",
      "source": [
        "data_m_out = data.copy()"
      ],
      "metadata": {
        "id": "8PELCu36M5pK"
      },
      "execution_count": 34,
      "outputs": []
    },
    {
      "cell_type": "code",
      "source": [
        "#BoxPlot before removal\n",
        "sns.boxplot(data_m_out['Mortgage'])"
      ],
      "metadata": {
        "colab": {
          "base_uri": "https://localhost:8080/",
          "height": 297
        },
        "id": "nMllDSczM-dR",
        "outputId": "f5fc7c91-7ce7-4204-ff8e-a84e41683949"
      },
      "execution_count": 35,
      "outputs": [
        {
          "output_type": "execute_result",
          "data": {
            "text/plain": [
              "<matplotlib.axes._subplots.AxesSubplot at 0x7feb399b4340>"
            ]
          },
          "metadata": {},
          "execution_count": 35
        },
        {
          "output_type": "display_data",
          "data": {
            "text/plain": [
              "<Figure size 432x288 with 1 Axes>"
            ],
            "image/png": "[encoded data removed]"
          },
          "metadata": {
            "needs_background": "light"
          }
        }
      ]
    },
    {
      "cell_type": "code",
      "source": [
        "# Position of the Outlier\n",
        "print(np.where(data_m_out['Mortgage']>250))"
      ],
      "metadata": {
        "colab": {
          "base_uri": "https://localhost:8080/"
        },
        "id": "8nOmn7ZyNCuN",
        "outputId": "2eea2db4-1310-4f4b-facc-504ef9404ec4"
      },
      "execution_count": 36,
      "outputs": [
        {
          "output_type": "stream",
          "name": "stdout",
          "text": [
            "(array([  22,   39,   42,   59,   66,  112,  119,  127,  130,  187,  209,\n",
            "        242,  248,  251,  261,  288,  303,  327,  335,  338,  354,  362,\n",
            "        365,  405,  459,  473,  479,  486,  526,  528,  540,  570,  584,\n",
            "        587,  610,  640,  645,  671,  679,  684,  751,  764,  782,  805,\n",
            "        816,  840,  847,  863,  883,  888,  891,  895,  909,  915,  935,\n",
            "        948,  952,  973,  998, 1007, 1010, 1014, 1023, 1050, 1077, 1111,\n",
            "       1162, 1164, 1167, 1232, 1273, 1277, 1280, 1288, 1294, 1301, 1303,\n",
            "       1304, 1328, 1339, 1354, 1359, 1372, 1395, 1407, 1424, 1466, 1475,\n",
            "       1513, 1522, 1558, 1582, 1583, 1599, 1623, 1665, 1674, 1688, 1716,\n",
            "       1732, 1736, 1780, 1783, 1789, 1827, 1835, 1842, 1866, 1871, 1875,\n",
            "       1882, 1889, 1906, 1937, 1954, 1970, 2002, 2009, 2027, 2034, 2041,\n",
            "       2074, 2076, 2087, 2090, 2098, 2159, 2190, 2203, 2217, 2232, 2246,\n",
            "       2291, 2317, 2319, 2323, 2341, 2342, 2345, 2378, 2382, 2394, 2397,\n",
            "       2422, 2428, 2434, 2443, 2469, 2486, 2498, 2500, 2512, 2538, 2541,\n",
            "       2590, 2593, 2653, 2664, 2668, 2687, 2714, 2749, 2753, 2768, 2769,\n",
            "       2773, 2776, 2812, 2817, 2820, 2841, 2856, 2859, 2867, 2871, 2885,\n",
            "       2921, 2934, 2941, 2942, 2946, 2947, 2956, 2968, 2973, 2989, 3012,\n",
            "       3020, 3021, 3025, 3029, 3062, 3065, 3071, 3092, 3117, 3135, 3138,\n",
            "       3186, 3209, 3218, 3233, 3275, 3288, 3304, 3333, 3335, 3339, 3349,\n",
            "       3357, 3373, 3377, 3411, 3438, 3451, 3467, 3470, 3472, 3499, 3515,\n",
            "       3562, 3571, 3608, 3612, 3620, 3646, 3662, 3685, 3702, 3717, 3760,\n",
            "       3766, 3771, 3776, 3781, 3821, 3858, 3875, 3879, 3884, 3888, 3917,\n",
            "       3919, 3923, 3930, 3941, 3945, 3948, 3950, 3979, 4008, 4016, 4023,\n",
            "       4049, 4105, 4125, 4135, 4178, 4183, 4238, 4240, 4259, 4294, 4301,\n",
            "       4308, 4331, 4345, 4367, 4376, 4386, 4419, 4422, 4425, 4471, 4483,\n",
            "       4498, 4541, 4559, 4573, 4585, 4627, 4635, 4655, 4672, 4674, 4678,\n",
            "       4698, 4714, 4735, 4765, 4812, 4842, 4844, 4847, 4859, 4865, 4899,\n",
            "       4942, 4963]),)\n"
          ]
        }
      ]
    },
    {
      "cell_type": "code",
      "source": [
        "#IQR-Inter Quartile Range\n",
        "Q1_M = np.percentile(data_m_out['Mortgage'], 25)\n",
        "Q3_M = np.percentile(data_m_out['Mortgage'], 75)\n",
        "\n",
        "IQR_M = Q3_M - Q1_M\n",
        " \n",
        "print(\"Shape Before removing Outliers: \", data_m_out.shape)"
      ],
      "metadata": {
        "colab": {
          "base_uri": "https://localhost:8080/"
        },
        "id": "EftlW_jGNYoq",
        "outputId": "00b0222e-4408-4d59-d5ad-193b7f873758"
      },
      "execution_count": 37,
      "outputs": [
        {
          "output_type": "stream",
          "name": "stdout",
          "text": [
            "Shape Before removing Outliers:  (5000, 14)\n"
          ]
        }
      ]
    },
    {
      "cell_type": "code",
      "source": [
        "#upper bound\n",
        "upper_M = np.where(data_m_out['Mortgage'] >= (Q3+1.5*IQR))\n",
        "# Lower bound\n",
        "lower_M= np.where(data_m_out['Mortgage'] <= (Q1-1.5*IQR))"
      ],
      "metadata": {
        "id": "RYtwNJMYNiUb"
      },
      "execution_count": 38,
      "outputs": []
    },
    {
      "cell_type": "code",
      "source": [
        "#Removing Outliers from Mortgage\n",
        "data_m_out.drop(upper_M[0], inplace = True)\n",
        "data_m_out.drop(lower_M[0], inplace = True)\n",
        " \n",
        "print(\"After Removal of outliers: \", data_m_out.shape)"
      ],
      "metadata": {
        "colab": {
          "base_uri": "https://localhost:8080/"
        },
        "id": "i3tMEIoVNpSt",
        "outputId": "c647b3fa-1572-4b9a-936d-cb2e58353a7c"
      },
      "execution_count": 39,
      "outputs": [
        {
          "output_type": "stream",
          "name": "stdout",
          "text": [
            "After Removal of outliers:  (3462, 14)\n"
          ]
        }
      ]
    },
    {
      "cell_type": "code",
      "source": [
        "#CCAvg BoxPlot after removing Outliers \n",
        "sns.boxplot(data_m_out['Mortgage'])"
      ],
      "metadata": {
        "colab": {
          "base_uri": "https://localhost:8080/",
          "height": 297
        },
        "id": "3Q8cfoPZNvbr",
        "outputId": "fbbbaff8-381b-48ab-c3b1-e42ca3916a06"
      },
      "execution_count": 40,
      "outputs": [
        {
          "output_type": "execute_result",
          "data": {
            "text/plain": [
              "<matplotlib.axes._subplots.AxesSubplot at 0x7feb3903f0d0>"
            ]
          },
          "metadata": {},
          "execution_count": 40
        },
        {
          "output_type": "display_data",
          "data": {
            "text/plain": [
              "<Figure size 432x288 with 1 Axes>"
            ],
            "image/png": "[encoded data removed]"
          },
          "metadata": {
            "needs_background": "light"
          }
        }
      ]
    },
    {
      "cell_type": "markdown",
      "source": [
        "# Checking model accuracy after removing outliers in CCAvg"
      ],
      "metadata": {
        "id": "mXKxtV7ZNzRg"
      }
    },
    {
      "cell_type": "code",
      "source": [
        "X_out = data_outliers[['ID','Age','Experience','Income','ZIP Code','Family','CCAvg','Education','Mortgage',\n",
        "        'Securities Account','CD Account','Online','CreditCard']]\n",
        "\n",
        "y_out = data_outliers['Personal Loan']\n",
        "\n",
        "#spliting data \n",
        "X_t, X_test, y_t, y_test = train_test_split(X, y, test_size=0.25, random_state=1)\n",
        "\n",
        "X_train,X_t, y_train,y_t= train_test_split(X_t, y_t, test_size=0.15, random_state=1)"
      ],
      "metadata": {
        "id": "iNiruFuTOCzg"
      },
      "execution_count": 41,
      "outputs": []
    },
    {
      "cell_type": "code",
      "source": [
        "regr_out = LogisticRegression()\n",
        "\n",
        "model_lor_out = regr_out.fit(X_train, y_train)\n",
        "prediction_out = model_lor_out.predict(X_test)\n",
        "\n",
        "# Train the model using the training sets\n",
        "regr_out.fit(X_train,y_train)\n",
        "\n",
        "#accuracy\n",
        "print(\"training data score: {:,.3%}\".format(regr_out.score(X_train, y_train)))\n",
        "print(\"test data score: {:,.3%}\".format(regr_out.score(X_test, y_test)))\n",
        "\n",
        "y_pred_out = regr_out.predict(X_train)\n",
        "\n",
        "logloss_out = log_loss(y_test,regr_out.predict_log_proba(X_test))\n",
        "print(\"Log loss:\",logloss_out)"
      ],
      "metadata": {
        "colab": {
          "base_uri": "https://localhost:8080/"
        },
        "id": "h8hAx9RwOTV3",
        "outputId": "4cd4bb00-8f13-43d1-a462-f313cef3ada3"
      },
      "execution_count": 42,
      "outputs": [
        {
          "output_type": "stream",
          "name": "stdout",
          "text": [
            "training data score: 93.191%\n",
            "test data score: 92.720%\n",
            "Log loss: 0.6931471805599454\n"
          ]
        }
      ]
    },
    {
      "cell_type": "markdown",
      "source": [
        "The accuracy of the model remained the same after outliers were taken out of CCAvg."
      ],
      "metadata": {
        "id": "7WjWYKZDOffL"
      }
    },
    {
      "cell_type": "markdown",
      "source": [
        "# Checking model accuracy after removing outliers in Mortgage"
      ],
      "metadata": {
        "id": "F6I1jJ36OlJ5"
      }
    },
    {
      "cell_type": "code",
      "source": [
        "X_out = data_m_out[['ID','Age','Experience','Income','ZIP Code','Family','CCAvg','Education','Mortgage',\n",
        "        'Securities Account','CD Account','Online','CreditCard']]\n",
        "\n",
        "y_out = data_m_out['Personal Loan']\n",
        "\n",
        "#spliting data \n",
        "X_t, X_test, y_t, y_test = train_test_split(X, y, test_size=0.25, random_state=1)\n",
        "\n",
        "X_train,X_t, y_train,y_t= train_test_split(X_t, y_t, test_size=0.15, random_state=1)"
      ],
      "metadata": {
        "id": "cdlN0-8LOprR"
      },
      "execution_count": 43,
      "outputs": []
    },
    {
      "cell_type": "code",
      "source": [
        "regr_m_out = LogisticRegression()\n",
        "\n",
        "model_lor_m_out = regr_m_out.fit(X_train, y_train)\n",
        "prediction_m_out = model_lor_m_out.predict(X_test)\n",
        "\n",
        "# Train the model using the training sets\n",
        "regr_m_out.fit(X_train,y_train)\n",
        "\n",
        "#accuracy\n",
        "print(\"training data score: {:,.3%}\".format(regr_m_out.score(X_train, y_train)))\n",
        "print(\"test data score: {:,.3%}\".format(regr_m_out.score(X_test, y_test)))\n",
        "\n",
        "y_pred_m_out = regr_m_out.predict(X_train)\n",
        "\n",
        "logloss_m_out = log_loss(y_test,regr_m_out.predict_log_proba(X_test))\n",
        "print(\"Log loss:\",logloss_m_out)"
      ],
      "metadata": {
        "colab": {
          "base_uri": "https://localhost:8080/"
        },
        "id": "NV_5a1rzO3rF",
        "outputId": "d8f218ca-36de-4b5c-f968-52985205e378"
      },
      "execution_count": 44,
      "outputs": [
        {
          "output_type": "stream",
          "name": "stdout",
          "text": [
            "training data score: 93.191%\n",
            "test data score: 92.720%\n",
            "Log loss: 0.6931471805599454\n"
          ]
        }
      ]
    },
    {
      "cell_type": "markdown",
      "source": [
        "# Removing data and applying imputation"
      ],
      "metadata": {
        "id": "S_M683ioPDey"
      }
    },
    {
      "cell_type": "code",
      "source": [
        "data_1 = data.copy()\n",
        "\n",
        "#removing 1% data from column \n",
        "data_percent=data_1['Income'].sample(frac = 0.01)\n",
        "\n",
        "#using location of fraction data to set null\n",
        "data_1['Income'].loc[data_1.index.isin(data_percent.index)]=np.NaN"
      ],
      "metadata": {
        "id": "c5ikQpSWPeK6"
      },
      "execution_count": 45,
      "outputs": []
    },
    {
      "cell_type": "code",
      "source": [
        "#Count of null values in Income row \n",
        "data_1['Income'].isnull().sum()"
      ],
      "metadata": {
        "colab": {
          "base_uri": "https://localhost:8080/"
        },
        "id": "Bl5hoPFIPzAs",
        "outputId": "c5e7b20b-3530-4081-e6f6-8270d44f3e90"
      },
      "execution_count": 46,
      "outputs": [
        {
          "output_type": "execute_result",
          "data": {
            "text/plain": [
              "50"
            ]
          },
          "metadata": {},
          "execution_count": 46
        }
      ]
    },
    {
      "cell_type": "markdown",
      "source": [
        "Replacing null values with the median imputtation technique."
      ],
      "metadata": {
        "id": "HkjQZZrlQGxj"
      }
    },
    {
      "cell_type": "code",
      "source": [
        "data_1['Income']=data_1['Income'].fillna(data_1['Income'].median())"
      ],
      "metadata": {
        "id": "nfM_7vM8QKi9"
      },
      "execution_count": 47,
      "outputs": []
    },
    {
      "cell_type": "code",
      "source": [
        "data_1"
      ],
      "metadata": {
        "colab": {
          "base_uri": "https://localhost:8080/",
          "height": 505
        },
        "id": "7PFODCodQOzp",
        "outputId": "020d9168-4f19-4f45-a36a-ce9d88fa4ee1"
      },
      "execution_count": 48,
      "outputs": [
        {
          "output_type": "execute_result",
          "data": {
            "text/plain": [
              "        ID  Age  Experience  Income  ZIP Code  Family  CCAvg  Education  \\\n",
              "0        1   25           1    49.0     91107       4    1.6          1   \n",
              "1        2   45          19    34.0     90089       3    1.5          1   \n",
              "2        3   39          15    11.0     94720       1    1.0          1   \n",
              "3        4   35           9   100.0     94112       1    2.7          2   \n",
              "4        5   35           8    45.0     91330       4    1.0          2   \n",
              "...    ...  ...         ...     ...       ...     ...    ...        ...   \n",
              "4995  4996   29           3    40.0     92697       1    1.9          3   \n",
              "4996  4997   30           4    15.0     92037       4    0.4          1   \n",
              "4997  4998   63          39    24.0     93023       2    0.3          3   \n",
              "4998  4999   65          40    49.0     90034       3    0.5          2   \n",
              "4999  5000   28           4    83.0     92612       3    0.8          1   \n",
              "\n",
              "      Mortgage  Personal Loan  Securities Account  CD Account  Online  \\\n",
              "0            0              0                   1           0       0   \n",
              "1            0              0                   1           0       0   \n",
              "2            0              0                   0           0       0   \n",
              "3            0              0                   0           0       0   \n",
              "4            0              0                   0           0       0   \n",
              "...        ...            ...                 ...         ...     ...   \n",
              "4995         0              0                   0           0       1   \n",
              "4996        85              0                   0           0       1   \n",
              "4997         0              0                   0           0       0   \n",
              "4998         0              0                   0           0       1   \n",
              "4999         0              0                   0           0       1   \n",
              "\n",
              "      CreditCard  \n",
              "0              0  \n",
              "1              0  \n",
              "2              0  \n",
              "3              0  \n",
              "4              1  \n",
              "...          ...  \n",
              "4995           0  \n",
              "4996           0  \n",
              "4997           0  \n",
              "4998           0  \n",
              "4999           1  \n",
              "\n",
              "[5000 rows x 14 columns]"
            ],
            "text/html": [
              "\n",
              "  <div id=\"df-6ede22b4-de9e-438b-a169-3cb911f0d95b\">\n",
              "    <div class=\"colab-df-container\">\n",
              "      <div>\n",
              "<style scoped>\n",
              "    .dataframe tbody tr th:only-of-type {\n",
              "        vertical-align: middle;\n",
              "    }\n",
              "\n",
              "    .dataframe tbody tr th {\n",
              "        vertical-align: top;\n",
              "    }\n",
              "\n",
              "    .dataframe thead th {\n",
              "        text-align: right;\n",
              "    }\n",
              "</style>\n",
              "<table border=\"1\" class=\"dataframe\">\n",
              "  <thead>\n",
              "    <tr style=\"text-align: right;\">\n",
              "      <th></th>\n",
              "      <th>ID</th>\n",
              "      <th>Age</th>\n",
              "      <th>Experience</th>\n",
              "      <th>Income</th>\n",
              "      <th>ZIP Code</th>\n",
              "      <th>Family</th>\n",
              "      <th>CCAvg</th>\n",
              "      <th>Education</th>\n",
              "      <th>Mortgage</th>\n",
              "      <th>Personal Loan</th>\n",
              "      <th>Securities Account</th>\n",
              "      <th>CD Account</th>\n",
              "      <th>Online</th>\n",
              "      <th>CreditCard</th>\n",
              "    </tr>\n",
              "  </thead>\n",
              "  <tbody>\n",
              "    <tr>\n",
              "      <th>0</th>\n",
              "      <td>1</td>\n",
              "      <td>25</td>\n",
              "      <td>1</td>\n",
              "      <td>49.0</td>\n",
              "      <td>91107</td>\n",
              "      <td>4</td>\n",
              "      <td>1.6</td>\n",
              "      <td>1</td>\n",
              "      <td>0</td>\n",
              "      <td>0</td>\n",
              "      <td>1</td>\n",
              "      <td>0</td>\n",
              "      <td>0</td>\n",
              "      <td>0</td>\n",
              "    </tr>\n",
              "    <tr>\n",
              "      <th>1</th>\n",
              "      <td>2</td>\n",
              "      <td>45</td>\n",
              "      <td>19</td>\n",
              "      <td>34.0</td>\n",
              "      <td>90089</td>\n",
              "      <td>3</td>\n",
              "      <td>1.5</td>\n",
              "      <td>1</td>\n",
              "      <td>0</td>\n",
              "      <td>0</td>\n",
              "      <td>1</td>\n",
              "      <td>0</td>\n",
              "      <td>0</td>\n",
              "      <td>0</td>\n",
              "    </tr>\n",
              "    <tr>\n",
              "      <th>2</th>\n",
              "      <td>3</td>\n",
              "      <td>39</td>\n",
              "      <td>15</td>\n",
              "      <td>11.0</td>\n",
              "      <td>94720</td>\n",
              "      <td>1</td>\n",
              "      <td>1.0</td>\n",
              "      <td>1</td>\n",
              "      <td>0</td>\n",
              "      <td>0</td>\n",
              "      <td>0</td>\n",
              "      <td>0</td>\n",
              "      <td>0</td>\n",
              "      <td>0</td>\n",
              "    </tr>\n",
              "    <tr>\n",
              "      <th>3</th>\n",
              "      <td>4</td>\n",
              "      <td>35</td>\n",
              "      <td>9</td>\n",
              "      <td>100.0</td>\n",
              "      <td>94112</td>\n",
              "      <td>1</td>\n",
              "      <td>2.7</td>\n",
              "      <td>2</td>\n",
              "      <td>0</td>\n",
              "      <td>0</td>\n",
              "      <td>0</td>\n",
              "      <td>0</td>\n",
              "      <td>0</td>\n",
              "      <td>0</td>\n",
              "    </tr>\n",
              "    <tr>\n",
              "      <th>4</th>\n",
              "      <td>5</td>\n",
              "      <td>35</td>\n",
              "      <td>8</td>\n",
              "      <td>45.0</td>\n",
              "      <td>91330</td>\n",
              "      <td>4</td>\n",
              "      <td>1.0</td>\n",
              "      <td>2</td>\n",
              "      <td>0</td>\n",
              "      <td>0</td>\n",
              "      <td>0</td>\n",
              "      <td>0</td>\n",
              "      <td>0</td>\n",
              "      <td>1</td>\n",
              "    </tr>\n",
              "    <tr>\n",
              "      <th>...</th>\n",
              "      <td>...</td>\n",
              "      <td>...</td>\n",
              "      <td>...</td>\n",
              "      <td>...</td>\n",
              "      <td>...</td>\n",
              "      <td>...</td>\n",
              "      <td>...</td>\n",
              "      <td>...</td>\n",
              "      <td>...</td>\n",
              "      <td>...</td>\n",
              "      <td>...</td>\n",
              "      <td>...</td>\n",
              "      <td>...</td>\n",
              "      <td>...</td>\n",
              "    </tr>\n",
              "    <tr>\n",
              "      <th>4995</th>\n",
              "      <td>4996</td>\n",
              "      <td>29</td>\n",
              "      <td>3</td>\n",
              "      <td>40.0</td>\n",
              "      <td>92697</td>\n",
              "      <td>1</td>\n",
              "      <td>1.9</td>\n",
              "      <td>3</td>\n",
              "      <td>0</td>\n",
              "      <td>0</td>\n",
              "      <td>0</td>\n",
              "      <td>0</td>\n",
              "      <td>1</td>\n",
              "      <td>0</td>\n",
              "    </tr>\n",
              "    <tr>\n",
              "      <th>4996</th>\n",
              "      <td>4997</td>\n",
              "      <td>30</td>\n",
              "      <td>4</td>\n",
              "      <td>15.0</td>\n",
              "      <td>92037</td>\n",
              "      <td>4</td>\n",
              "      <td>0.4</td>\n",
              "      <td>1</td>\n",
              "      <td>85</td>\n",
              "      <td>0</td>\n",
              "      <td>0</td>\n",
              "      <td>0</td>\n",
              "      <td>1</td>\n",
              "      <td>0</td>\n",
              "    </tr>\n",
              "    <tr>\n",
              "      <th>4997</th>\n",
              "      <td>4998</td>\n",
              "      <td>63</td>\n",
              "      <td>39</td>\n",
              "      <td>24.0</td>\n",
              "      <td>93023</td>\n",
              "      <td>2</td>\n",
              "      <td>0.3</td>\n",
              "      <td>3</td>\n",
              "      <td>0</td>\n",
              "      <td>0</td>\n",
              "      <td>0</td>\n",
              "      <td>0</td>\n",
              "      <td>0</td>\n",
              "      <td>0</td>\n",
              "    </tr>\n",
              "    <tr>\n",
              "      <th>4998</th>\n",
              "      <td>4999</td>\n",
              "      <td>65</td>\n",
              "      <td>40</td>\n",
              "      <td>49.0</td>\n",
              "      <td>90034</td>\n",
              "      <td>3</td>\n",
              "      <td>0.5</td>\n",
              "      <td>2</td>\n",
              "      <td>0</td>\n",
              "      <td>0</td>\n",
              "      <td>0</td>\n",
              "      <td>0</td>\n",
              "      <td>1</td>\n",
              "      <td>0</td>\n",
              "    </tr>\n",
              "    <tr>\n",
              "      <th>4999</th>\n",
              "      <td>5000</td>\n",
              "      <td>28</td>\n",
              "      <td>4</td>\n",
              "      <td>83.0</td>\n",
              "      <td>92612</td>\n",
              "      <td>3</td>\n",
              "      <td>0.8</td>\n",
              "      <td>1</td>\n",
              "      <td>0</td>\n",
              "      <td>0</td>\n",
              "      <td>0</td>\n",
              "      <td>0</td>\n",
              "      <td>1</td>\n",
              "      <td>1</td>\n",
              "    </tr>\n",
              "  </tbody>\n",
              "</table>\n",
              "<p>5000 rows × 14 columns</p>\n",
              "</div>\n",
              "      <button class=\"colab-df-convert\" onclick=\"convertToInteractive('df-6ede22b4-de9e-438b-a169-3cb911f0d95b')\"\n",
              "              title=\"Convert this dataframe to an interactive table.\"\n",
              "              style=\"display:none;\">\n",
              "        \n",
              "  <svg xmlns=\"http://www.w3.org/2000/svg\" height=\"24px\"viewBox=\"0 0 24 24\"\n",
              "       width=\"24px\">\n",
              "    <path d=\"M0 0h24v24H0V0z\" fill=\"none\"/>\n",
              "    <path d=\"M18.56 5.44l.94 2.06.94-2.06 2.06-.94-2.06-.94-.94-2.06-.94 2.06-2.06.94zm-11 1L8.5 8.5l.94-2.06 2.06-.94-2.06-.94L8.5 2.5l-.94 2.06-2.06.94zm10 10l.94 2.06.94-2.06 2.06-.94-2.06-.94-.94-2.06-.94 2.06-2.06.94z\"/><path d=\"M17.41 7.96l-1.37-1.37c-.4-.4-.92-.59-1.43-.59-.52 0-1.04.2-1.43.59L10.3 9.45l-7.72 7.72c-.78.78-.78 2.05 0 2.83L4 21.41c.39.39.9.59 1.41.59.51 0 1.02-.2 1.41-.59l7.78-7.78 2.81-2.81c.8-.78.8-2.07 0-2.86zM5.41 20L4 18.59l7.72-7.72 1.47 1.35L5.41 20z\"/>\n",
              "  </svg>\n",
              "      </button>\n",
              "      \n",
              "  <style>\n",
              "    .colab-df-container {\n",
              "      display:flex;\n",
              "      flex-wrap:wrap;\n",
              "      gap: 12px;\n",
              "    }\n",
              "\n",
              "    .colab-df-convert {\n",
              "      background-color: #E8F0FE;\n",
              "      border: none;\n",
              "      border-radius: 50%;\n",
              "      cursor: pointer;\n",
              "      display: none;\n",
              "      fill: #1967D2;\n",
              "      height: 32px;\n",
              "      padding: 0 0 0 0;\n",
              "      width: 32px;\n",
              "    }\n",
              "\n",
              "    .colab-df-convert:hover {\n",
              "      background-color: #E2EBFA;\n",
              "      box-shadow: 0px 1px 2px rgba(60, 64, 67, 0.3), 0px 1px 3px 1px rgba(60, 64, 67, 0.15);\n",
              "      fill: #174EA6;\n",
              "    }\n",
              "\n",
              "    [theme=dark] .colab-df-convert {\n",
              "      background-color: #3B4455;\n",
              "      fill: #D2E3FC;\n",
              "    }\n",
              "\n",
              "    [theme=dark] .colab-df-convert:hover {\n",
              "      background-color: #434B5C;\n",
              "      box-shadow: 0px 1px 3px 1px rgba(0, 0, 0, 0.15);\n",
              "      filter: drop-shadow(0px 1px 2px rgba(0, 0, 0, 0.3));\n",
              "      fill: #FFFFFF;\n",
              "    }\n",
              "  </style>\n",
              "\n",
              "      <script>\n",
              "        const buttonEl =\n",
              "          document.querySelector('#df-6ede22b4-de9e-438b-a169-3cb911f0d95b button.colab-df-convert');\n",
              "        buttonEl.style.display =\n",
              "          google.colab.kernel.accessAllowed ? 'block' : 'none';\n",
              "\n",
              "        async function convertToInteractive(key) {\n",
              "          const element = document.querySelector('#df-6ede22b4-de9e-438b-a169-3cb911f0d95b');\n",
              "          const dataTable =\n",
              "            await google.colab.kernel.invokeFunction('convertToInteractive',\n",
              "                                                     [key], {});\n",
              "          if (!dataTable) return;\n",
              "\n",
              "          const docLinkHtml = 'Like what you see? Visit the ' +\n",
              "            '<a target=\"_blank\" href=https://colab.research.google.com/notebooks/data_table.ipynb>data table notebook</a>'\n",
              "            + ' to learn more about interactive tables.';\n",
              "          element.innerHTML = '';\n",
              "          dataTable['output_type'] = 'display_data';\n",
              "          await google.colab.output.renderOutput(dataTable, element);\n",
              "          const docLink = document.createElement('div');\n",
              "          docLink.innerHTML = docLinkHtml;\n",
              "          element.appendChild(docLink);\n",
              "        }\n",
              "      </script>\n",
              "    </div>\n",
              "  </div>\n",
              "  "
            ]
          },
          "metadata": {},
          "execution_count": 48
        }
      ]
    },
    {
      "cell_type": "code",
      "source": [
        "#checking recovery after median imputation in column \n",
        "\n",
        "data_1.isnull().sum()"
      ],
      "metadata": {
        "colab": {
          "base_uri": "https://localhost:8080/"
        },
        "id": "ppYp0NXeQSA2",
        "outputId": "b2ccd2f0-d300-4ec0-f2ea-ac570d9dbd43"
      },
      "execution_count": 49,
      "outputs": [
        {
          "output_type": "execute_result",
          "data": {
            "text/plain": [
              "ID                    0\n",
              "Age                   0\n",
              "Experience            0\n",
              "Income                0\n",
              "ZIP Code              0\n",
              "Family                0\n",
              "CCAvg                 0\n",
              "Education             0\n",
              "Mortgage              0\n",
              "Personal Loan         0\n",
              "Securities Account    0\n",
              "CD Account            0\n",
              "Online                0\n",
              "CreditCard            0\n",
              "dtype: int64"
            ]
          },
          "metadata": {},
          "execution_count": 49
        }
      ]
    },
    {
      "cell_type": "markdown",
      "source": [
        "Null values can be replaced with the Mean Imputation Method."
      ],
      "metadata": {
        "id": "7CTUpr0lQu7D"
      }
    },
    {
      "cell_type": "code",
      "source": [
        "data_5 = data.copy()\n",
        "\n",
        "#removing 5% data from column \n",
        "data_percent5=data_5['Experience'].sample(frac = 0.05)\n",
        "\n",
        "#using location of fraction data to set null\n",
        "data_5['Experience'].loc[data_5.index.isin(data_percent5.index)]=np.NaN"
      ],
      "metadata": {
        "id": "sqoZXmtXQ0ST"
      },
      "execution_count": 50,
      "outputs": []
    },
    {
      "cell_type": "code",
      "source": [
        "#check number of null values created\n",
        "data_5.isnull().sum()"
      ],
      "metadata": {
        "colab": {
          "base_uri": "https://localhost:8080/"
        },
        "id": "fA3BcCPcRCmV",
        "outputId": "7067027f-3025-49af-f794-9cc67bea48df"
      },
      "execution_count": 51,
      "outputs": [
        {
          "output_type": "execute_result",
          "data": {
            "text/plain": [
              "ID                      0\n",
              "Age                     0\n",
              "Experience            250\n",
              "Income                  0\n",
              "ZIP Code                0\n",
              "Family                  0\n",
              "CCAvg                   0\n",
              "Education               0\n",
              "Mortgage                0\n",
              "Personal Loan           0\n",
              "Securities Account      0\n",
              "CD Account              0\n",
              "Online                  0\n",
              "CreditCard              0\n",
              "dtype: int64"
            ]
          },
          "metadata": {},
          "execution_count": 51
        }
      ]
    },
    {
      "cell_type": "code",
      "source": [
        "data_5['Experience']=data_5['Experience'].fillna(data_1['Experience'].mean())"
      ],
      "metadata": {
        "id": "WwUYmf6rRF8f"
      },
      "execution_count": 52,
      "outputs": []
    },
    {
      "cell_type": "code",
      "source": [
        "data_5"
      ],
      "metadata": {
        "colab": {
          "base_uri": "https://localhost:8080/",
          "height": 505
        },
        "id": "swdgJ0hzRK7z",
        "outputId": "2421cc06-b74f-42a6-cbb7-7d143d3f9b68"
      },
      "execution_count": 53,
      "outputs": [
        {
          "output_type": "execute_result",
          "data": {
            "text/plain": [
              "        ID  Age  Experience  Income  ZIP Code  Family  CCAvg  Education  \\\n",
              "0        1   25      1.0000      49     91107       4    1.6          1   \n",
              "1        2   45     19.0000      34     90089       3    1.5          1   \n",
              "2        3   39     15.0000      11     94720       1    1.0          1   \n",
              "3        4   35      9.0000     100     94112       1    2.7          2   \n",
              "4        5   35     20.1046      45     91330       4    1.0          2   \n",
              "...    ...  ...         ...     ...       ...     ...    ...        ...   \n",
              "4995  4996   29      3.0000      40     92697       1    1.9          3   \n",
              "4996  4997   30      4.0000      15     92037       4    0.4          1   \n",
              "4997  4998   63     39.0000      24     93023       2    0.3          3   \n",
              "4998  4999   65     20.1046      49     90034       3    0.5          2   \n",
              "4999  5000   28      4.0000      83     92612       3    0.8          1   \n",
              "\n",
              "      Mortgage  Personal Loan  Securities Account  CD Account  Online  \\\n",
              "0            0              0                   1           0       0   \n",
              "1            0              0                   1           0       0   \n",
              "2            0              0                   0           0       0   \n",
              "3            0              0                   0           0       0   \n",
              "4            0              0                   0           0       0   \n",
              "...        ...            ...                 ...         ...     ...   \n",
              "4995         0              0                   0           0       1   \n",
              "4996        85              0                   0           0       1   \n",
              "4997         0              0                   0           0       0   \n",
              "4998         0              0                   0           0       1   \n",
              "4999         0              0                   0           0       1   \n",
              "\n",
              "      CreditCard  \n",
              "0              0  \n",
              "1              0  \n",
              "2              0  \n",
              "3              0  \n",
              "4              1  \n",
              "...          ...  \n",
              "4995           0  \n",
              "4996           0  \n",
              "4997           0  \n",
              "4998           0  \n",
              "4999           1  \n",
              "\n",
              "[5000 rows x 14 columns]"
            ],
            "text/html": [
              "\n",
              "  <div id=\"df-faf29d88-b12c-4685-a577-d7c84780716a\">\n",
              "    <div class=\"colab-df-container\">\n",
              "      <div>\n",
              "<style scoped>\n",
              "    .dataframe tbody tr th:only-of-type {\n",
              "        vertical-align: middle;\n",
              "    }\n",
              "\n",
              "    .dataframe tbody tr th {\n",
              "        vertical-align: top;\n",
              "    }\n",
              "\n",
              "    .dataframe thead th {\n",
              "        text-align: right;\n",
              "    }\n",
              "</style>\n",
              "<table border=\"1\" class=\"dataframe\">\n",
              "  <thead>\n",
              "    <tr style=\"text-align: right;\">\n",
              "      <th></th>\n",
              "      <th>ID</th>\n",
              "      <th>Age</th>\n",
              "      <th>Experience</th>\n",
              "      <th>Income</th>\n",
              "      <th>ZIP Code</th>\n",
              "      <th>Family</th>\n",
              "      <th>CCAvg</th>\n",
              "      <th>Education</th>\n",
              "      <th>Mortgage</th>\n",
              "      <th>Personal Loan</th>\n",
              "      <th>Securities Account</th>\n",
              "      <th>CD Account</th>\n",
              "      <th>Online</th>\n",
              "      <th>CreditCard</th>\n",
              "    </tr>\n",
              "  </thead>\n",
              "  <tbody>\n",
              "    <tr>\n",
              "      <th>0</th>\n",
              "      <td>1</td>\n",
              "      <td>25</td>\n",
              "      <td>1.0000</td>\n",
              "      <td>49</td>\n",
              "      <td>91107</td>\n",
              "      <td>4</td>\n",
              "      <td>1.6</td>\n",
              "      <td>1</td>\n",
              "      <td>0</td>\n",
              "      <td>0</td>\n",
              "      <td>1</td>\n",
              "      <td>0</td>\n",
              "      <td>0</td>\n",
              "      <td>0</td>\n",
              "    </tr>\n",
              "    <tr>\n",
              "      <th>1</th>\n",
              "      <td>2</td>\n",
              "      <td>45</td>\n",
              "      <td>19.0000</td>\n",
              "      <td>34</td>\n",
              "      <td>90089</td>\n",
              "      <td>3</td>\n",
              "      <td>1.5</td>\n",
              "      <td>1</td>\n",
              "      <td>0</td>\n",
              "      <td>0</td>\n",
              "      <td>1</td>\n",
              "      <td>0</td>\n",
              "      <td>0</td>\n",
              "      <td>0</td>\n",
              "    </tr>\n",
              "    <tr>\n",
              "      <th>2</th>\n",
              "      <td>3</td>\n",
              "      <td>39</td>\n",
              "      <td>15.0000</td>\n",
              "      <td>11</td>\n",
              "      <td>94720</td>\n",
              "      <td>1</td>\n",
              "      <td>1.0</td>\n",
              "      <td>1</td>\n",
              "      <td>0</td>\n",
              "      <td>0</td>\n",
              "      <td>0</td>\n",
              "      <td>0</td>\n",
              "      <td>0</td>\n",
              "      <td>0</td>\n",
              "    </tr>\n",
              "    <tr>\n",
              "      <th>3</th>\n",
              "      <td>4</td>\n",
              "      <td>35</td>\n",
              "      <td>9.0000</td>\n",
              "      <td>100</td>\n",
              "      <td>94112</td>\n",
              "      <td>1</td>\n",
              "      <td>2.7</td>\n",
              "      <td>2</td>\n",
              "      <td>0</td>\n",
              "      <td>0</td>\n",
              "      <td>0</td>\n",
              "      <td>0</td>\n",
              "      <td>0</td>\n",
              "      <td>0</td>\n",
              "    </tr>\n",
              "    <tr>\n",
              "      <th>4</th>\n",
              "      <td>5</td>\n",
              "      <td>35</td>\n",
              "      <td>20.1046</td>\n",
              "      <td>45</td>\n",
              "      <td>91330</td>\n",
              "      <td>4</td>\n",
              "      <td>1.0</td>\n",
              "      <td>2</td>\n",
              "      <td>0</td>\n",
              "      <td>0</td>\n",
              "      <td>0</td>\n",
              "      <td>0</td>\n",
              "      <td>0</td>\n",
              "      <td>1</td>\n",
              "    </tr>\n",
              "    <tr>\n",
              "      <th>...</th>\n",
              "      <td>...</td>\n",
              "      <td>...</td>\n",
              "      <td>...</td>\n",
              "      <td>...</td>\n",
              "      <td>...</td>\n",
              "      <td>...</td>\n",
              "      <td>...</td>\n",
              "      <td>...</td>\n",
              "      <td>...</td>\n",
              "      <td>...</td>\n",
              "      <td>...</td>\n",
              "      <td>...</td>\n",
              "      <td>...</td>\n",
              "      <td>...</td>\n",
              "    </tr>\n",
              "    <tr>\n",
              "      <th>4995</th>\n",
              "      <td>4996</td>\n",
              "      <td>29</td>\n",
              "      <td>3.0000</td>\n",
              "      <td>40</td>\n",
              "      <td>92697</td>\n",
              "      <td>1</td>\n",
              "      <td>1.9</td>\n",
              "      <td>3</td>\n",
              "      <td>0</td>\n",
              "      <td>0</td>\n",
              "      <td>0</td>\n",
              "      <td>0</td>\n",
              "      <td>1</td>\n",
              "      <td>0</td>\n",
              "    </tr>\n",
              "    <tr>\n",
              "      <th>4996</th>\n",
              "      <td>4997</td>\n",
              "      <td>30</td>\n",
              "      <td>4.0000</td>\n",
              "      <td>15</td>\n",
              "      <td>92037</td>\n",
              "      <td>4</td>\n",
              "      <td>0.4</td>\n",
              "      <td>1</td>\n",
              "      <td>85</td>\n",
              "      <td>0</td>\n",
              "      <td>0</td>\n",
              "      <td>0</td>\n",
              "      <td>1</td>\n",
              "      <td>0</td>\n",
              "    </tr>\n",
              "    <tr>\n",
              "      <th>4997</th>\n",
              "      <td>4998</td>\n",
              "      <td>63</td>\n",
              "      <td>39.0000</td>\n",
              "      <td>24</td>\n",
              "      <td>93023</td>\n",
              "      <td>2</td>\n",
              "      <td>0.3</td>\n",
              "      <td>3</td>\n",
              "      <td>0</td>\n",
              "      <td>0</td>\n",
              "      <td>0</td>\n",
              "      <td>0</td>\n",
              "      <td>0</td>\n",
              "      <td>0</td>\n",
              "    </tr>\n",
              "    <tr>\n",
              "      <th>4998</th>\n",
              "      <td>4999</td>\n",
              "      <td>65</td>\n",
              "      <td>20.1046</td>\n",
              "      <td>49</td>\n",
              "      <td>90034</td>\n",
              "      <td>3</td>\n",
              "      <td>0.5</td>\n",
              "      <td>2</td>\n",
              "      <td>0</td>\n",
              "      <td>0</td>\n",
              "      <td>0</td>\n",
              "      <td>0</td>\n",
              "      <td>1</td>\n",
              "      <td>0</td>\n",
              "    </tr>\n",
              "    <tr>\n",
              "      <th>4999</th>\n",
              "      <td>5000</td>\n",
              "      <td>28</td>\n",
              "      <td>4.0000</td>\n",
              "      <td>83</td>\n",
              "      <td>92612</td>\n",
              "      <td>3</td>\n",
              "      <td>0.8</td>\n",
              "      <td>1</td>\n",
              "      <td>0</td>\n",
              "      <td>0</td>\n",
              "      <td>0</td>\n",
              "      <td>0</td>\n",
              "      <td>1</td>\n",
              "      <td>1</td>\n",
              "    </tr>\n",
              "  </tbody>\n",
              "</table>\n",
              "<p>5000 rows × 14 columns</p>\n",
              "</div>\n",
              "      <button class=\"colab-df-convert\" onclick=\"convertToInteractive('df-faf29d88-b12c-4685-a577-d7c84780716a')\"\n",
              "              title=\"Convert this dataframe to an interactive table.\"\n",
              "              style=\"display:none;\">\n",
              "        \n",
              "  <svg xmlns=\"http://www.w3.org/2000/svg\" height=\"24px\"viewBox=\"0 0 24 24\"\n",
              "       width=\"24px\">\n",
              "    <path d=\"M0 0h24v24H0V0z\" fill=\"none\"/>\n",
              "    <path d=\"M18.56 5.44l.94 2.06.94-2.06 2.06-.94-2.06-.94-.94-2.06-.94 2.06-2.06.94zm-11 1L8.5 8.5l.94-2.06 2.06-.94-2.06-.94L8.5 2.5l-.94 2.06-2.06.94zm10 10l.94 2.06.94-2.06 2.06-.94-2.06-.94-.94-2.06-.94 2.06-2.06.94z\"/><path d=\"M17.41 7.96l-1.37-1.37c-.4-.4-.92-.59-1.43-.59-.52 0-1.04.2-1.43.59L10.3 9.45l-7.72 7.72c-.78.78-.78 2.05 0 2.83L4 21.41c.39.39.9.59 1.41.59.51 0 1.02-.2 1.41-.59l7.78-7.78 2.81-2.81c.8-.78.8-2.07 0-2.86zM5.41 20L4 18.59l7.72-7.72 1.47 1.35L5.41 20z\"/>\n",
              "  </svg>\n",
              "      </button>\n",
              "      \n",
              "  <style>\n",
              "    .colab-df-container {\n",
              "      display:flex;\n",
              "      flex-wrap:wrap;\n",
              "      gap: 12px;\n",
              "    }\n",
              "\n",
              "    .colab-df-convert {\n",
              "      background-color: #E8F0FE;\n",
              "      border: none;\n",
              "      border-radius: 50%;\n",
              "      cursor: pointer;\n",
              "      display: none;\n",
              "      fill: #1967D2;\n",
              "      height: 32px;\n",
              "      padding: 0 0 0 0;\n",
              "      width: 32px;\n",
              "    }\n",
              "\n",
              "    .colab-df-convert:hover {\n",
              "      background-color: #E2EBFA;\n",
              "      box-shadow: 0px 1px 2px rgba(60, 64, 67, 0.3), 0px 1px 3px 1px rgba(60, 64, 67, 0.15);\n",
              "      fill: #174EA6;\n",
              "    }\n",
              "\n",
              "    [theme=dark] .colab-df-convert {\n",
              "      background-color: #3B4455;\n",
              "      fill: #D2E3FC;\n",
              "    }\n",
              "\n",
              "    [theme=dark] .colab-df-convert:hover {\n",
              "      background-color: #434B5C;\n",
              "      box-shadow: 0px 1px 3px 1px rgba(0, 0, 0, 0.15);\n",
              "      filter: drop-shadow(0px 1px 2px rgba(0, 0, 0, 0.3));\n",
              "      fill: #FFFFFF;\n",
              "    }\n",
              "  </style>\n",
              "\n",
              "      <script>\n",
              "        const buttonEl =\n",
              "          document.querySelector('#df-faf29d88-b12c-4685-a577-d7c84780716a button.colab-df-convert');\n",
              "        buttonEl.style.display =\n",
              "          google.colab.kernel.accessAllowed ? 'block' : 'none';\n",
              "\n",
              "        async function convertToInteractive(key) {\n",
              "          const element = document.querySelector('#df-faf29d88-b12c-4685-a577-d7c84780716a');\n",
              "          const dataTable =\n",
              "            await google.colab.kernel.invokeFunction('convertToInteractive',\n",
              "                                                     [key], {});\n",
              "          if (!dataTable) return;\n",
              "\n",
              "          const docLinkHtml = 'Like what you see? Visit the ' +\n",
              "            '<a target=\"_blank\" href=https://colab.research.google.com/notebooks/data_table.ipynb>data table notebook</a>'\n",
              "            + ' to learn more about interactive tables.';\n",
              "          element.innerHTML = '';\n",
              "          dataTable['output_type'] = 'display_data';\n",
              "          await google.colab.output.renderOutput(dataTable, element);\n",
              "          const docLink = document.createElement('div');\n",
              "          docLink.innerHTML = docLinkHtml;\n",
              "          element.appendChild(docLink);\n",
              "        }\n",
              "      </script>\n",
              "    </div>\n",
              "  </div>\n",
              "  "
            ]
          },
          "metadata": {},
          "execution_count": 53
        }
      ]
    },
    {
      "cell_type": "code",
      "source": [
        "data_5.isnull().sum()"
      ],
      "metadata": {
        "colab": {
          "base_uri": "https://localhost:8080/"
        },
        "id": "t_IUEHWjROjm",
        "outputId": "2f3b29b0-6d57-4315-fdeb-c416dd224ab0"
      },
      "execution_count": 54,
      "outputs": [
        {
          "output_type": "execute_result",
          "data": {
            "text/plain": [
              "ID                    0\n",
              "Age                   0\n",
              "Experience            0\n",
              "Income                0\n",
              "ZIP Code              0\n",
              "Family                0\n",
              "CCAvg                 0\n",
              "Education             0\n",
              "Mortgage              0\n",
              "Personal Loan         0\n",
              "Securities Account    0\n",
              "CD Account            0\n",
              "Online                0\n",
              "CreditCard            0\n",
              "dtype: int64"
            ]
          },
          "metadata": {},
          "execution_count": 54
        }
      ]
    },
    {
      "cell_type": "markdown",
      "source": [
        "Using Mode imputor to replace 10% of the null values "
      ],
      "metadata": {
        "id": "nUDp8ljsRR4k"
      }
    },
    {
      "cell_type": "code",
      "source": [
        "#Removing 10% data\n",
        "data_10 = data.copy()\n",
        "\n",
        "#removing 5% data from column \n",
        "data_percent10=data_10['CCAvg'].sample(frac = 0.1)\n",
        "\n",
        "#using location of fraction data to set null\n",
        "data_10['CCAvg'].loc[data_10.index.isin(data_percent10.index)]=np.NaN"
      ],
      "metadata": {
        "id": "frj0kowMRU6H"
      },
      "execution_count": 55,
      "outputs": []
    },
    {
      "cell_type": "code",
      "source": [
        "data_10.isnull().sum()"
      ],
      "metadata": {
        "colab": {
          "base_uri": "https://localhost:8080/"
        },
        "id": "CSho69l9Rcgf",
        "outputId": "0e3224e1-19ff-4121-e2a7-1dc119359bbb"
      },
      "execution_count": 56,
      "outputs": [
        {
          "output_type": "execute_result",
          "data": {
            "text/plain": [
              "ID                      0\n",
              "Age                     0\n",
              "Experience              0\n",
              "Income                  0\n",
              "ZIP Code                0\n",
              "Family                  0\n",
              "CCAvg                 500\n",
              "Education               0\n",
              "Mortgage                0\n",
              "Personal Loan           0\n",
              "Securities Account      0\n",
              "CD Account              0\n",
              "Online                  0\n",
              "CreditCard              0\n",
              "dtype: int64"
            ]
          },
          "metadata": {},
          "execution_count": 56
        }
      ]
    },
    {
      "cell_type": "code",
      "source": [
        "data_10['CCAvg']=data_5['CCAvg'].fillna(data_1['CCAvg'].mode())"
      ],
      "metadata": {
        "id": "6hDQ_q_NRfbf"
      },
      "execution_count": 57,
      "outputs": []
    },
    {
      "cell_type": "code",
      "source": [
        "data_10.isnull().sum()"
      ],
      "metadata": {
        "colab": {
          "base_uri": "https://localhost:8080/"
        },
        "id": "eDUn5DiVRmMw",
        "outputId": "8b2b6b9b-f65d-45bc-ea43-1e4c3cfc240c"
      },
      "execution_count": 58,
      "outputs": [
        {
          "output_type": "execute_result",
          "data": {
            "text/plain": [
              "ID                    0\n",
              "Age                   0\n",
              "Experience            0\n",
              "Income                0\n",
              "ZIP Code              0\n",
              "Family                0\n",
              "CCAvg                 0\n",
              "Education             0\n",
              "Mortgage              0\n",
              "Personal Loan         0\n",
              "Securities Account    0\n",
              "CD Account            0\n",
              "Online                0\n",
              "CreditCard            0\n",
              "dtype: int64"
            ]
          },
          "metadata": {},
          "execution_count": 58
        }
      ]
    },
    {
      "cell_type": "markdown",
      "source": [
        "Using median, mean and mode imputaton methods all the Null values were replaced."
      ],
      "metadata": {
        "id": "UOUqBuv7Rpfg"
      }
    },
    {
      "cell_type": "markdown",
      "source": [
        "\n",
        "# Conclusion\n",
        "\n",
        "We can conclude from the analysis done in this notebook that all independent variables are significant and that income has the most impact on whether or not the loan will be approved."
      ],
      "metadata": {
        "id": "0dg0xe--cuWw"
      }
    },
    {
      "cell_type": "markdown",
      "source": [
        "# References\n",
        "\n",
        "1.Sckit learn offcial documentation\n",
        "\n",
        "2.Python Data Science Handbook\n",
        "\n",
        "3.ML_Data_Cleaning_and_Feature_Selection_Abalone.ipynb\n",
        "\n",
        "4.Analytics Vidhya\n",
        "\n",
        " Used the sample notebook (using the Abalone dataset) to understand the expected format for assignments.\n",
        "\n",
        "Studied many models and concepts using Analytics Vidhya and the Python Data science Handbook."
      ],
      "metadata": {
        "id": "nM4hw55fsCuU"
      }
    },
    {
      "cell_type": "markdown",
      "source": [
        "Copyright 2022 Riddhi Vora\n",
        "\n",
        "Permission is hereby granted, free of charge, to any person obtaining a copy of this software and associated documentation files (the \"Software\"), to deal in the Software without restriction, including without limitation the rights to use, copy, modify, merge, publish, distribute, sublicense, and/or sell copies of the Software, and to permit persons to whom the Software is furnished to do so, subject to the following conditions:\n",
        "\n",
        "The above copyright notice and this permission notice shall be included in all copies or substantial portions of the Software.\n",
        "\n",
        "THE SOFTWARE IS PROVIDED \"AS IS\", WITHOUT WARRANTY OF ANY KIND, EXPRESS OR IMPLIED, INCLUDING BUT NOT LIMITED TO THE WARRANTIES OF MERCHANTABILITY, FITNESS FOR A PARTICULAR PURPOSE AND NONINFRINGEMENT. IN NO EVENT SHALL THE AUTHORS OR COPYRIGHT HOLDERS BE LIABLE FOR ANY CLAIM, DAMAGES OR OTHER LIABILITY, WHETHER IN AN ACTION OF CONTRACT, TORT OR OTHERWISE, ARISING FROM, OUT OF OR IN CONNECTION WITH THE SOFTWARE OR THE USE OR OTHER DEALINGS IN THE SOFTWARE."
      ],
      "metadata": {
        "id": "W8Itt3NQtNhf"
      }
    }
  ]
}